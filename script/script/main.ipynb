{
 "cells": [
  {
   "cell_type": "code",
   "execution_count": 1,
   "id": "0d83bb3f-029b-409b-b925-5ee1a644abbb",
   "metadata": {},
   "outputs": [],
   "source": [
    "import pyspark\n",
    "from importlib import reload\n",
    "\n",
    "from pyspark.sql import SparkSession\n",
    "import os\n",
    "import pandas as pd\n",
    "import sys\n",
    "sys.path.insert(0, '/home/jovyan/work')\n",
    "from script.helper.db_conn import db_connection\n",
    "from datetime import datetime\n",
    "from datetime import timezone\n",
    "\n",
    "from script.helper.conn_prop import connection_properties\n",
    "from script.helper.init_spark import initiate_spark\n",
    "from script.etl.extract import *\n",
    "from script.etl.load import *\n",
    "import pandas as pd\n",
    "from pyspark.sql.functions import to_timestamp\n",
    "from pyspark.sql.functions import to_date"
   ]
  },
  {
   "cell_type": "code",
   "execution_count": 2,
   "id": "b450a9f5-2aa9-4e0e-b29b-960edef66d40",
   "metadata": {},
   "outputs": [
    {
     "name": "stdout",
     "output_type": "stream",
     "text": [
      "===== Start Extracting ../data/people.csv data =====\n",
      "===== Success Extracting ../data/people.csv data =====\n"
     ]
    }
   ],
   "source": [
    "\n",
    "people=extract_csv('../data/people.csv')"
   ]
  },
  {
   "cell_type": "code",
   "execution_count": 3,
   "id": "28598199-c402-4252-8450-ede89da9bcdb",
   "metadata": {},
   "outputs": [
    {
     "name": "stdout",
     "output_type": "stream",
     "text": [
      "===== Start Extracting ../data/relationship.csv data =====\n",
      "====== Failed to Extract Data ../data/relationship.csv ======,\n",
      " [PATH_NOT_FOUND] Path does not exist: file:/home/jovyan/work/data/relationship.csv.\n"
     ]
    }
   ],
   "source": [
    "relationships=extract_csv('../data/relationship.csv')"
   ]
  },
  {
   "cell_type": "code",
   "execution_count": 4,
   "id": "d846fc10-7877-408f-94e5-986e85efb378",
   "metadata": {},
   "outputs": [
    {
     "name": "stdout",
     "output_type": "stream",
     "text": [
      "===== Start Extracting ../data/relationships.csv data =====\n",
      "===== Success Extracting ../data/relationships.csv data =====\n"
     ]
    }
   ],
   "source": [
    "relationships=extract_csv('../data/relationships.csv')"
   ]
  },
  {
   "cell_type": "code",
   "execution_count": 5,
   "id": "d55afa73-0a05-41d0-9d33-6423d308e69d",
   "metadata": {},
   "outputs": [
    {
     "name": "stdout",
     "output_type": "stream",
     "text": [
      "===== Start Extracting acquisition data =====\n",
      "===== Success Extracting acquisition data =====\n",
      "===== Start Extracting company data =====\n",
      "===== Success Extracting company data =====\n",
      "===== Start Extracting funds data =====\n",
      "===== Success Extracting funds data =====\n",
      "===== Start Extracting investments data =====\n",
      "===== Success Extracting investments data =====\n",
      "===== Start Extracting ipos data =====\n",
      "===== Success Extracting ipos data =====\n",
      "===== Start Extracting funding_rounds data =====\n",
      "===== Success Extracting funding_rounds data =====\n"
     ]
    }
   ],
   "source": [
    "table_names=[\"acquisition\",\"company\",\"funds\",\"investments\",\"ipos\",\"funding_rounds\"]\n",
    "for name in table_names:\n",
    "    globals()[f'{name}']=extract_db_src(name)"
   ]
  },
  {
   "cell_type": "code",
   "execution_count": 19,
   "id": "4bbbb5c7-53a2-4444-a2ac-5f7c0d961c0a",
   "metadata": {},
   "outputs": [
    {
     "name": "stdout",
     "output_type": "stream",
     "text": [
      "+---------------+----------------+----------------------+----------+----------+-------+--------+--------------------+-------------------+-------------------+\n",
      "|relationship_id|person_object_id|relationship_object_id|  start_at|    end_at|is_past|sequence|               title|         created_at|         updated_at|\n",
      "+---------------+----------------+----------------------+----------+----------+-------+--------+--------------------+-------------------+-------------------+\n",
      "|              1|             p:2|                   c:1|      NULL|      NULL|  false|       8|Co-Founder/CEO/Bo...|2007-01-25 07:03:54|2013-01-03 09:58:46|\n",
      "|              2|             p:3|                   c:1|      NULL|      NULL|  false|  279242|        VP Marketing|2007-01-25 07:04:16|2010-01-21 16:31:34|\n",
      "|              3|             p:4|                   c:3|      NULL|      NULL|  false|       4|          Evangelist|2007-01-25 19:33:03|2013-01-29 13:36:58|\n",
      "|              4|             p:5|                   c:3|2006-01-01|2009-01-01|  false|       4|Senior Director S...|2007-01-25 19:34:53|2013-01-29 10:25:34|\n",
      "|              6|             p:7|                   c:4|2005-01-01|2010-01-05|  false|       1|Chief Executive O...|2007-01-25 20:05:33|2010-01-05 18:41:41|\n",
      "|              7|             p:8|                   c:4|      NULL|      NULL|  false|       1|Senior Software E...|2007-01-25 20:06:45|2010-01-12 01:13:29|\n",
      "|              8|             p:9|                   c:4|      NULL|      NULL|  false|       1|Systems Engineeri...|2007-01-25 20:07:50|2010-01-03 22:00:58|\n",
      "|              9|            p:10|                   c:5|      NULL|      NULL|  false|       1|Founder and CEO, ...|2007-01-25 21:51:46|2010-01-25 21:49:44|\n",
      "|             10|            p:11|                   c:5|      NULL|      NULL|  false|       1|          Co-Founder|2007-01-25 22:15:05|2011-01-11 23:48:45|\n",
      "|             11|            p:12|                   c:5|      NULL|      NULL|  false|       3|Chief Revenue Off...|2007-01-25 22:15:59|2010-01-25 21:49:45|\n",
      "|             12|            p:13|                   c:5|      NULL|      NULL|  false|       1|VP of Product Man...|2007-01-25 22:16:59|2010-01-25 21:49:45|\n",
      "|             13|            p:14|                   c:5|1993-01-04|1982-01-28|  false|       1|          Co-founder|2007-01-25 22:17:27|2010-01-01 18:15:45|\n",
      "|             14|            p:16|                c:7299|      NULL|      NULL|  false|       2|     Founder and CEO|2007-01-26 12:44:52|2011-01-19 00:05:01|\n",
      "|             15|            p:17|                c:7299|      NULL|      NULL|  false|       2|  Co-founder and CTO|2007-01-26 12:45:46|2011-01-19 00:05:01|\n",
      "|             16|            p:18|                c:7299|2005-01-01|2009-01-01|  false|       1|SVP, Technology a...|2007-01-26 12:47:13|2011-01-19 00:05:01|\n",
      "|             17|            p:19|                c:7299|2006-01-01|2009-01-01|  false|       8|VP, Finance & Adm...|2007-01-26 12:47:49|2011-01-28 03:08:15|\n",
      "|             18|            p:20|                c:7299|      NULL|      NULL|  false|       1|           VP, Sales|2007-01-26 12:48:20|2011-01-19 00:05:01|\n",
      "|             19|            p:21|                c:7299|      NULL|      NULL|  false|       1|VP, Customer Service|2007-01-26 12:49:23|2011-01-19 00:05:01|\n",
      "|             20|            p:22|                c:7299|2005-01-01|2008-01-01|  false|       1|VP, Business Deve...|2007-01-26 12:49:45|2013-01-07 08:51:20|\n",
      "|             21|            p:23|                c:7299|      NULL|      NULL|  false|       1|     VP, Engineering|2007-01-26 12:50:11|2011-01-19 00:05:02|\n",
      "+---------------+----------------+----------------------+----------+----------+-------+--------+--------------------+-------------------+-------------------+\n",
      "only showing top 20 rows\n",
      "\n"
     ]
    }
   ],
   "source": [
    "relationships.show()"
   ]
  },
  {
   "cell_type": "code",
   "execution_count": 20,
   "id": "516e88ca-e249-4bf5-8885-4b694bb238cb",
   "metadata": {},
   "outputs": [
    {
     "name": "stdout",
     "output_type": "stream",
     "text": [
      "+---------+---------+----------+----------+--------------------+--------------------+\n",
      "|people_id|object_id|first_name| last_name|          birthplace|    affiliation_name|\n",
      "+---------+---------+----------+----------+--------------------+--------------------+\n",
      "|        1|      p:2|       Ben|   Elowitz|                NULL|           Blue Nile|\n",
      "|        2|      p:3|     Kevin|  Flaherty|                NULL|            Wetpaint|\n",
      "|        3|      p:4|      Raju|   Vegesna|                NULL|                Zoho|\n",
      "|        4|      p:5|       Ian|     Wenig|                NULL|                Zoho|\n",
      "|        5|      p:6|     Kevin|      Rose|         Redding, CA|        i/o Ventures|\n",
      "|        6|      p:7|       Jay|   Adelson|         Detroit, MI|                Digg|\n",
      "|        7|      p:8|      Owen|     Byrne|                NULL|                Digg|\n",
      "|        8|      p:9|       Ron|Gorodetzky|                NULL|                Digg|\n",
      "|        9|     p:10|      Mark|Zuckerberg|                NULL|            Facebook|\n",
      "|       10|     p:11|    Dustin| Moskovitz|     Gainesville, FL|            Facebook|\n",
      "|       11|     p:12|      Owen| Van Natta|                NULL|               Asana|\n",
      "|       12|     p:13|      Matt|    Cohler|                NULL|            LinkedIn|\n",
      "|       13|     p:14|     Chris|    Hughes|Hickery, North Ca...|General Catalyst ...|\n",
      "|       14|     p:16|      Alex|     Welch|                NULL|            C7 Group|\n",
      "|       15|     p:17|    Darren|   Crystal|                NULL|         Photobucket|\n",
      "|       16|     p:18|   Michael|     Clark|                NULL|   Photobucket (Old)|\n",
      "|       17|     p:19|      Greg|    Wimmer|                NULL|         Photobucket|\n",
      "|       18|     p:20|     Peter|    Foster|                NULL|         Photobucket|\n",
      "|       19|     p:21|   Heather|      Dana|                NULL|         Photobucket|\n",
      "|       20|     p:22|     Peter|      Pham|                NULL|   Photobucket, Inc.|\n",
      "+---------+---------+----------+----------+--------------------+--------------------+\n",
      "only showing top 20 rows\n",
      "\n"
     ]
    }
   ],
   "source": [
    "people.show()"
   ]
  },
  {
   "cell_type": "code",
   "execution_count": 7,
   "id": "519bfe38-9342-488b-ba96-989ca72ce5bf",
   "metadata": {},
   "outputs": [],
   "source": [
    "step=\"Data Staging\"\n",
    "process=\"Load\"\n",
    "\n"
   ]
  },
  {
   "cell_type": "code",
   "execution_count": 8,
   "id": "94ef2b57-8d3c-45fb-8314-82eab92eec98",
   "metadata": {},
   "outputs": [
    {
     "name": "stdout",
     "output_type": "stream",
     "text": [
      "===== Get only new data =====\n",
      "===== Start Extracting people data =====\n",
      "===== Success Extracting people data =====\n",
      "===== Already got only New Data  =====\n",
      "===== Start Loading people new data =====\n",
      "===== Success Loading people new data =====\n"
     ]
    }
   ],
   "source": [
    "load_stg(people,\"people\")"
   ]
  },
  {
   "cell_type": "code",
   "execution_count": 9,
   "id": "8d889ef2-0b1c-4b33-bbce-3ea75a24629c",
   "metadata": {},
   "outputs": [
    {
     "data": {
      "text/plain": [
       "[('people_id', 'string'),\n",
       " ('object_id', 'string'),\n",
       " ('first_name', 'string'),\n",
       " ('last_name', 'string'),\n",
       " ('birthplace', 'string'),\n",
       " ('affiliation_name', 'string')]"
      ]
     },
     "execution_count": 9,
     "metadata": {},
     "output_type": "execute_result"
    }
   ],
   "source": [
    "people.dtypes"
   ]
  },
  {
   "cell_type": "code",
   "execution_count": 10,
   "id": "8a256b31-0b39-4a85-9a0c-a7bc0259ce45",
   "metadata": {},
   "outputs": [
    {
     "data": {
      "text/plain": [
       "[('relationship_id', 'string'),\n",
       " ('person_object_id', 'string'),\n",
       " ('relationship_object_id', 'string'),\n",
       " ('start_at', 'string'),\n",
       " ('end_at', 'string'),\n",
       " ('is_past', 'string'),\n",
       " ('sequence', 'string'),\n",
       " ('title', 'string'),\n",
       " ('created_at', 'string'),\n",
       " ('updated_at', 'string')]"
      ]
     },
     "execution_count": 10,
     "metadata": {},
     "output_type": "execute_result"
    }
   ],
   "source": [
    "relationships.dtypes"
   ]
  },
  {
   "cell_type": "code",
   "execution_count": 11,
   "id": "c9eccefb-c8d0-4e0d-9b34-8b7bf431958b",
   "metadata": {},
   "outputs": [],
   "source": [
    "\n",
    "\n",
    "relationships=relationships.withColumn(\"start_at\",to_date( relationships['start_at'], \"yyyy-mm-dd\")) \n",
    "relationships=relationships.withColumn(\"end_at\",to_date( relationships['end_at'], \"yyyy-mm-dd\")) \n",
    "relationships=relationships.withColumn(\"created_at\",to_timestamp( relationships['created_at'], \"yyyy-mm-dd HH:mm:ss\")) \n",
    "relationships=relationships.withColumn(\"updated_at\",to_timestamp( relationships['updated_at'], \"yyyy-mm-dd HH:mm:ss\")) "
   ]
  },
  {
   "cell_type": "code",
   "execution_count": 12,
   "id": "0a7ac2fd-378d-454c-b5ae-2ad8e61e35fd",
   "metadata": {},
   "outputs": [
    {
     "name": "stdout",
     "output_type": "stream",
     "text": [
      "+---------------+----------------+----------------------+----------+----------+-------+--------+--------------------+-------------------+-------------------+\n",
      "|relationship_id|person_object_id|relationship_object_id|  start_at|    end_at|is_past|sequence|               title|         created_at|         updated_at|\n",
      "+---------------+----------------+----------------------+----------+----------+-------+--------+--------------------+-------------------+-------------------+\n",
      "|              1|             p:2|                   c:1|      NULL|      NULL|  false|       8|Co-Founder/CEO/Bo...|2007-01-25 07:03:54|2013-01-03 09:58:46|\n",
      "|              2|             p:3|                   c:1|      NULL|      NULL|  false|  279242|        VP Marketing|2007-01-25 07:04:16|2010-01-21 16:31:34|\n",
      "|              3|             p:4|                   c:3|      NULL|      NULL|  false|       4|          Evangelist|2007-01-25 19:33:03|2013-01-29 13:36:58|\n",
      "|              4|             p:5|                   c:3|2006-01-01|2009-01-01|  false|       4|Senior Director S...|2007-01-25 19:34:53|2013-01-29 10:25:34|\n",
      "|              6|             p:7|                   c:4|2005-01-01|2010-01-05|  false|       1|Chief Executive O...|2007-01-25 20:05:33|2010-01-05 18:41:41|\n",
      "|              7|             p:8|                   c:4|      NULL|      NULL|  false|       1|Senior Software E...|2007-01-25 20:06:45|2010-01-12 01:13:29|\n",
      "|              8|             p:9|                   c:4|      NULL|      NULL|  false|       1|Systems Engineeri...|2007-01-25 20:07:50|2010-01-03 22:00:58|\n",
      "|              9|            p:10|                   c:5|      NULL|      NULL|  false|       1|Founder and CEO, ...|2007-01-25 21:51:46|2010-01-25 21:49:44|\n",
      "|             10|            p:11|                   c:5|      NULL|      NULL|  false|       1|          Co-Founder|2007-01-25 22:15:05|2011-01-11 23:48:45|\n",
      "|             11|            p:12|                   c:5|      NULL|      NULL|  false|       3|Chief Revenue Off...|2007-01-25 22:15:59|2010-01-25 21:49:45|\n",
      "|             12|            p:13|                   c:5|      NULL|      NULL|  false|       1|VP of Product Man...|2007-01-25 22:16:59|2010-01-25 21:49:45|\n",
      "|             13|            p:14|                   c:5|1993-01-04|1982-01-28|  false|       1|          Co-founder|2007-01-25 22:17:27|2010-01-01 18:15:45|\n",
      "|             14|            p:16|                c:7299|      NULL|      NULL|  false|       2|     Founder and CEO|2007-01-26 12:44:52|2011-01-19 00:05:01|\n",
      "|             15|            p:17|                c:7299|      NULL|      NULL|  false|       2|  Co-founder and CTO|2007-01-26 12:45:46|2011-01-19 00:05:01|\n",
      "|             16|            p:18|                c:7299|2005-01-01|2009-01-01|  false|       1|SVP, Technology a...|2007-01-26 12:47:13|2011-01-19 00:05:01|\n",
      "|             17|            p:19|                c:7299|2006-01-01|2009-01-01|  false|       8|VP, Finance & Adm...|2007-01-26 12:47:49|2011-01-28 03:08:15|\n",
      "|             18|            p:20|                c:7299|      NULL|      NULL|  false|       1|           VP, Sales|2007-01-26 12:48:20|2011-01-19 00:05:01|\n",
      "|             19|            p:21|                c:7299|      NULL|      NULL|  false|       1|VP, Customer Service|2007-01-26 12:49:23|2011-01-19 00:05:01|\n",
      "|             20|            p:22|                c:7299|2005-01-01|2008-01-01|  false|       1|VP, Business Deve...|2007-01-26 12:49:45|2013-01-07 08:51:20|\n",
      "|             21|            p:23|                c:7299|      NULL|      NULL|  false|       1|     VP, Engineering|2007-01-26 12:50:11|2011-01-19 00:05:02|\n",
      "+---------------+----------------+----------------------+----------+----------+-------+--------+--------------------+-------------------+-------------------+\n",
      "only showing top 20 rows\n",
      "\n"
     ]
    }
   ],
   "source": [
    "relationships.show()"
   ]
  },
  {
   "cell_type": "code",
   "execution_count": 13,
   "id": "b6a34007-e10e-4864-96da-6785a7848f93",
   "metadata": {},
   "outputs": [
    {
     "data": {
      "text/plain": [
       "[('relationship_id', 'string'),\n",
       " ('person_object_id', 'string'),\n",
       " ('relationship_object_id', 'string'),\n",
       " ('start_at', 'date'),\n",
       " ('end_at', 'date'),\n",
       " ('is_past', 'string'),\n",
       " ('sequence', 'string'),\n",
       " ('title', 'string'),\n",
       " ('created_at', 'timestamp'),\n",
       " ('updated_at', 'timestamp')]"
      ]
     },
     "execution_count": 13,
     "metadata": {},
     "output_type": "execute_result"
    }
   ],
   "source": [
    "relationships.dtypes"
   ]
  },
  {
   "cell_type": "code",
   "execution_count": 14,
   "id": "71d009d8-834e-4814-bc1f-b3e347c36015",
   "metadata": {},
   "outputs": [
    {
     "name": "stdout",
     "output_type": "stream",
     "text": [
      "===== Get only new data =====\n",
      "===== Start Extracting relationships data =====\n",
      "===== Success Extracting relationships data =====\n",
      "===== Already got only New Data  =====\n",
      "===== Start Loading relationships new data =====\n",
      "===== Success Loading relationships new data =====\n"
     ]
    }
   ],
   "source": [
    "load_stg(relationships,\"relationships\")"
   ]
  },
  {
   "cell_type": "code",
   "execution_count": 15,
   "id": "2350f424-1aad-4de8-bc61-54d5bb8e8112",
   "metadata": {
    "scrolled": true
   },
   "outputs": [
    {
     "name": "stdout",
     "output_type": "stream",
     "text": [
      "===== Get only new data =====\n",
      "===== Start Extracting acquisition data =====\n",
      "===== Success Extracting acquisition data =====\n",
      "===== Already got only New Data  =====\n",
      "===== Start Loading acquisition new data =====\n",
      "===== Success Loading acquisition new data =====\n",
      "===== Get only new data =====\n",
      "===== Start Extracting company data =====\n",
      "===== Success Extracting company data =====\n",
      "===== Already got only New Data  =====\n",
      "===== Start Loading company new data =====\n",
      "===== Success Loading company new data =====\n",
      "===== Get only new data =====\n",
      "===== Start Extracting funds data =====\n",
      "===== Success Extracting funds data =====\n",
      "===== Already got only New Data  =====\n",
      "===== Start Loading funds new data =====\n",
      "===== Success Loading funds new data =====\n",
      "===== Get only new data =====\n",
      "===== Start Extracting investments data =====\n",
      "===== Success Extracting investments data =====\n",
      "===== Already got only New Data  =====\n",
      "===== Start Loading investments new data =====\n",
      "===== Success Loading investments new data =====\n",
      "===== Get only new data =====\n",
      "===== Start Extracting ipos data =====\n",
      "===== Success Extracting ipos data =====\n",
      "===== Already got only New Data  =====\n",
      "===== Start Loading ipos new data =====\n",
      "===== Success Loading ipos new data =====\n",
      "===== Get only new data =====\n",
      "===== Start Extracting funding_rounds data =====\n",
      "===== Success Extracting funding_rounds data =====\n",
      "===== Already got only New Data  =====\n",
      "===== Start Loading funding_rounds new data =====\n",
      "===== Success Loading funding_rounds new data =====\n"
     ]
    }
   ],
   "source": [
    "table_names=[\"acquisition\",\"company\",\"funds\",\"investments\",\"ipos\",\"funding_rounds\"]\n",
    "for name in table_names:\n",
    "    load_stg(globals()[f'{name}'],name)"
   ]
  },
  {
   "cell_type": "markdown",
   "id": "d500a150-552b-4d60-8b02-bc7f0b65a5f5",
   "metadata": {},
   "source": [
    "# DATA STAGING ETL"
   ]
  },
  {
   "cell_type": "markdown",
   "id": "3ee3d74a-fc0a-4e04-b41b-56e6acc50e4c",
   "metadata": {},
   "source": [
    "## EXTRACT"
   ]
  },
  {
   "cell_type": "code",
   "execution_count": 16,
   "id": "e88c1ad7-76e5-43ee-a075-6325acddccc0",
   "metadata": {},
   "outputs": [
    {
     "name": "stdout",
     "output_type": "stream",
     "text": [
      "===== Start Extracting people data =====\n",
      "===== Success Extracting people data =====\n",
      "===== Start Extracting relationships data =====\n",
      "===== Success Extracting relationships data =====\n",
      "===== Start Extracting acquisition data =====\n",
      "===== Success Extracting acquisition data =====\n",
      "===== Start Extracting company data =====\n",
      "===== Success Extracting company data =====\n",
      "===== Start Extracting funds data =====\n",
      "===== Success Extracting funds data =====\n",
      "===== Start Extracting investments data =====\n",
      "===== Success Extracting investments data =====\n",
      "===== Start Extracting ipos data =====\n",
      "===== Success Extracting ipos data =====\n",
      "===== Start Extracting funding_rounds data =====\n",
      "===== Success Extracting funding_rounds data =====\n"
     ]
    }
   ],
   "source": [
    "table_names=[\"people\",\"relationships\",\"acquisition\",\"company\",\"funds\",\"investments\",\"ipos\",\"funding_rounds\"]\n",
    "for name in table_names:\n",
    "    globals()[f'stg_{name}']=extract_db_stg(name)"
   ]
  },
  {
   "cell_type": "code",
   "execution_count": null,
   "id": "c69f72e7-5e41-4106-9eda-ef1ac3fd7da8",
   "metadata": {},
   "outputs": [],
   "source": []
  },
  {
   "cell_type": "code",
   "execution_count": 17,
   "id": "7c8b7244-f64a-4cab-8705-280225e574bd",
   "metadata": {},
   "outputs": [
    {
     "name": "stdout",
     "output_type": "stream",
     "text": [
      "[('people_id', 'string'), ('object_id', 'string'), ('first_name', 'string'), ('last_name', 'string'), ('birthplace', 'string'), ('affiliation_name', 'string')] \n",
      "\n",
      "[('relationship_id', 'string'), ('person_object_id', 'string'), ('relationship_object_id', 'string'), ('start_at', 'date'), ('end_at', 'date'), ('is_past', 'string'), ('sequence', 'string'), ('title', 'string'), ('created_at', 'timestamp'), ('updated_at', 'timestamp')] \n",
      "\n",
      "[('acquisition_id', 'int'), ('acquiring_object_id', 'string'), ('acquired_object_id', 'string'), ('term_code', 'string'), ('price_amount', 'decimal(15,2)'), ('price_currency_code', 'string'), ('acquired_at', 'timestamp'), ('source_url', 'string'), ('source_description', 'string'), ('created_at', 'timestamp'), ('updated_at', 'timestamp')] \n",
      "\n",
      "[('office_id', 'int'), ('object_id', 'string'), ('description', 'string'), ('region', 'string'), ('address1', 'string'), ('address2', 'string'), ('city', 'string'), ('zip_code', 'string'), ('state_code', 'string'), ('country_code', 'string'), ('latitude', 'decimal(9,6)'), ('longitude', 'decimal(9,6)'), ('created_at', 'timestamp'), ('updated_at', 'timestamp')] \n",
      "\n",
      "[('fund_id', 'string'), ('object_id', 'string'), ('name', 'string'), ('funded_at', 'date'), ('raised_amount', 'decimal(15,2)'), ('raised_currency_code', 'string'), ('source_url', 'string'), ('source_description', 'string'), ('created_at', 'timestamp'), ('updated_at', 'timestamp')] \n",
      "\n",
      "[('investment_id', 'int'), ('funding_round_id', 'int'), ('funded_object_id', 'string'), ('investor_object_id', 'string'), ('created_at', 'timestamp'), ('updated_at', 'timestamp')] \n",
      "\n",
      "[('ipo_id', 'string'), ('object_id', 'string'), ('valuation_amount', 'decimal(15,2)'), ('valuation_currency_code', 'string'), ('raised_amount', 'decimal(15,2)'), ('raised_currency_code', 'string'), ('public_at', 'timestamp'), ('stock_symbol', 'string'), ('source_url', 'string'), ('source_description', 'string'), ('created_at', 'timestamp'), ('updated_at', 'timestamp')] \n",
      "\n",
      "[('funding_round_id', 'int'), ('object_id', 'string'), ('funded_at', 'date'), ('funding_round_type', 'string'), ('funding_round_code', 'string'), ('raised_amount_usd', 'decimal(15,2)'), ('raised_amount', 'decimal(15,2)'), ('raised_currency_code', 'string'), ('pre_money_valuation_usd', 'decimal(15,2)'), ('pre_money_valuation', 'decimal(15,2)'), ('pre_money_currency_code', 'string'), ('post_money_valuation_usd', 'decimal(15,2)'), ('post_money_valuation', 'decimal(15,2)'), ('post_money_currency_code', 'string'), ('participants', 'string'), ('is_first_round', 'boolean'), ('is_last_round', 'boolean'), ('source_url', 'string'), ('source_description', 'string'), ('created_by', 'string'), ('created_at', 'timestamp'), ('updated_at', 'timestamp')] \n",
      "\n"
     ]
    }
   ],
   "source": [
    "for name in table_names:\n",
    "    print(globals()[f'stg_{name}'].dtypes, '\\n')"
   ]
  },
  {
   "cell_type": "code",
   "execution_count": null,
   "id": "1c2cacc7-2fb0-48d6-9d66-e96d1ed02eb1",
   "metadata": {},
   "outputs": [],
   "source": []
  }
 ],
 "metadata": {
  "kernelspec": {
   "display_name": "Python 3 (ipykernel)",
   "language": "python",
   "name": "python3"
  },
  "language_info": {
   "codemirror_mode": {
    "name": "ipython",
    "version": 3
   },
   "file_extension": ".py",
   "mimetype": "text/x-python",
   "name": "python",
   "nbconvert_exporter": "python",
   "pygments_lexer": "ipython3",
   "version": "3.11.6"
  }
 },
 "nbformat": 4,
 "nbformat_minor": 5
}
