{
 "cells": [
  {
   "cell_type": "code",
   "execution_count": 200,
   "id": "0d83bb3f-029b-409b-b925-5ee1a644abbb",
   "metadata": {},
   "outputs": [],
   "source": [
    "import pyspark\n",
    "from importlib import reload\n",
    "\n",
    "from pyspark.sql import SparkSession\n",
    "import os\n",
    "import pandas as pd\n",
    "import sys\n",
    "sys.path.insert(0, '/home/jovyan/work')\n",
    "from script.helper.db_conn import db_connection\n",
    "from datetime import datetime\n",
    "from datetime import timezone\n",
    "\n",
    "from script.helper.conn_prop import connection_properties\n",
    "from script.helper.init_spark import initiate_spark\n",
    "from script.etl.extract import *\n",
    "from script.etl.load import *\n",
    "import pandas as pd\n",
    "from pyspark.sql.functions import to_timestamp\n",
    "from pyspark.sql.functions import to_date\n",
    "from pyspark.sql.functions import *"
   ]
  },
  {
   "cell_type": "code",
   "execution_count": 201,
   "id": "b450a9f5-2aa9-4e0e-b29b-960edef66d40",
   "metadata": {},
   "outputs": [
    {
     "name": "stdout",
     "output_type": "stream",
     "text": [
      "===== Start Extracting ../data/people.csv data =====\n",
      "===== Success Extracting ../data/people.csv data =====\n"
     ]
    }
   ],
   "source": [
    "\n",
    "people=extract_csv('../data/people.csv')"
   ]
  },
  {
   "cell_type": "code",
   "execution_count": 202,
   "id": "28598199-c402-4252-8450-ede89da9bcdb",
   "metadata": {},
   "outputs": [
    {
     "name": "stdout",
     "output_type": "stream",
     "text": [
      "===== Start Extracting ../data/relationship.csv data =====\n",
      "====== Failed to Extract Data ../data/relationship.csv ======,\n",
      " [PATH_NOT_FOUND] Path does not exist: file:/home/jovyan/work/data/relationship.csv.\n"
     ]
    }
   ],
   "source": [
    "relationships=extract_csv('../data/relationship.csv')"
   ]
  },
  {
   "cell_type": "code",
   "execution_count": 203,
   "id": "d846fc10-7877-408f-94e5-986e85efb378",
   "metadata": {},
   "outputs": [
    {
     "name": "stdout",
     "output_type": "stream",
     "text": [
      "===== Start Extracting ../data/relationships.csv data =====\n",
      "===== Success Extracting ../data/relationships.csv data =====\n"
     ]
    }
   ],
   "source": [
    "relationships=extract_csv('../data/relationships.csv')"
   ]
  },
  {
   "cell_type": "code",
   "execution_count": 204,
   "id": "d55afa73-0a05-41d0-9d33-6423d308e69d",
   "metadata": {},
   "outputs": [
    {
     "name": "stdout",
     "output_type": "stream",
     "text": [
      "===== Start Extracting acquisition data =====\n",
      "===== Success Extracting acquisition data =====\n",
      "===== Start Extracting company data =====\n",
      "===== Success Extracting company data =====\n",
      "===== Start Extracting funds data =====\n",
      "===== Success Extracting funds data =====\n",
      "===== Start Extracting investments data =====\n",
      "===== Success Extracting investments data =====\n",
      "===== Start Extracting ipos data =====\n",
      "===== Success Extracting ipos data =====\n",
      "===== Start Extracting funding_rounds data =====\n",
      "===== Success Extracting funding_rounds data =====\n"
     ]
    }
   ],
   "source": [
    "table_names=[\"acquisition\",\"company\",\"funds\",\"investments\",\"ipos\",\"funding_rounds\"]\n",
    "for name in table_names:\n",
    "    globals()[f'{name}']=extract_db_src(name)"
   ]
  },
  {
   "cell_type": "code",
   "execution_count": 205,
   "id": "4bbbb5c7-53a2-4444-a2ac-5f7c0d961c0a",
   "metadata": {},
   "outputs": [
    {
     "name": "stdout",
     "output_type": "stream",
     "text": [
      "+---------------+----------------+----------------------+--------------------+--------------------+-------+--------+--------------------+--------------------+--------------------+\n",
      "|relationship_id|person_object_id|relationship_object_id|            start_at|              end_at|is_past|sequence|               title|          created_at|          updated_at|\n",
      "+---------------+----------------+----------------------+--------------------+--------------------+-------+--------+--------------------+--------------------+--------------------+\n",
      "|              1|             p:2|                   c:1|                NULL|                NULL|  false|       8|Co-Founder/CEO/Bo...|2007-05-25 07:03:...|2013-06-03 09:58:...|\n",
      "|              2|             p:3|                   c:1|                NULL|                NULL|  false|  279242|        VP Marketing|2007-05-25 07:04:...|2010-05-21 16:31:...|\n",
      "|              3|             p:4|                   c:3|                NULL|                NULL|  false|       4|          Evangelist|2007-05-25 19:33:...|2013-06-29 13:36:...|\n",
      "|              4|             p:5|                   c:3|2006-03-01 00:00:...|2009-12-01 00:00:...|  false|       4|Senior Director S...|2007-05-25 19:34:...|2013-06-29 10:25:...|\n",
      "|              6|             p:7|                   c:4|2005-07-01 00:00:...|2010-04-05 00:00:...|  false|       1|Chief Executive O...|2007-05-25 20:05:...|2010-04-05 18:41:...|\n",
      "|              7|             p:8|                   c:4|                NULL|                NULL|  false|       1|Senior Software E...|2007-05-25 20:06:...|2010-01-12 01:13:...|\n",
      "|              8|             p:9|                   c:4|                NULL|                NULL|  false|       1|Systems Engineeri...|2007-05-25 20:07:...|2010-08-03 22:00:...|\n",
      "|              9|            p:10|                   c:5|                NULL|                NULL|  false|       1|Founder and CEO, ...|2007-05-25 21:51:...|2010-01-25 21:49:...|\n",
      "|             10|            p:11|                   c:5|                NULL|                NULL|  false|       1|          Co-Founder|2007-05-25 22:15:...|2011-08-11 23:48:...|\n",
      "|             11|            p:12|                   c:5|                NULL|                NULL|  false|       3|Chief Revenue Off...|2007-05-25 22:15:...|2010-01-25 21:49:...|\n",
      "|             12|            p:13|                   c:5|                NULL|                NULL|  false|       1|VP of Product Man...|2007-05-25 22:16:...|2010-01-25 21:49:...|\n",
      "|             13|            p:14|                   c:5|1993-07-04 00:00:...|1982-02-28 00:00:...|  false|       1|          Co-founder|2007-05-25 22:17:...|2010-09-01 18:15:...|\n",
      "|             14|            p:16|                c:7299|                NULL|                NULL|  false|       2|     Founder and CEO|2007-05-26 12:44:...|2011-07-19 00:05:...|\n",
      "|             15|            p:17|                c:7299|                NULL|                NULL|  false|       2|  Co-founder and CTO|2007-05-26 12:45:...|2011-07-19 00:05:...|\n",
      "|             16|            p:18|                c:7299|2005-09-01 00:00:...|2009-10-01 00:00:...|  false|       1|SVP, Technology a...|2007-05-26 12:47:...|2011-07-19 00:05:...|\n",
      "|             17|            p:19|                c:7299|2006-08-01 00:00:...|2009-08-01 00:00:...|  false|       8|VP, Finance & Adm...|2007-05-26 12:47:...|2011-10-28 03:08:...|\n",
      "|             18|            p:20|                c:7299|                NULL|                NULL|  false|       1|           VP, Sales|2007-05-26 12:48:...|2011-07-19 00:05:...|\n",
      "|             19|            p:21|                c:7299|                NULL|                NULL|  false|       1|VP, Customer Service|2007-05-26 12:49:...|2011-07-19 00:05:...|\n",
      "|             20|            p:22|                c:7299|2005-10-01 00:00:...|2008-03-01 00:00:...|  false|       1|VP, Business Deve...|2007-05-26 12:49:...|2013-08-07 08:51:...|\n",
      "|             21|            p:23|                c:7299|                NULL|                NULL|  false|       1|     VP, Engineering|2007-05-26 12:50:...|2011-07-19 00:05:...|\n",
      "+---------------+----------------+----------------------+--------------------+--------------------+-------+--------+--------------------+--------------------+--------------------+\n",
      "only showing top 20 rows\n",
      "\n"
     ]
    }
   ],
   "source": [
    "relationships.show()"
   ]
  },
  {
   "cell_type": "code",
   "execution_count": 206,
   "id": "516e88ca-e249-4bf5-8885-4b694bb238cb",
   "metadata": {},
   "outputs": [
    {
     "name": "stdout",
     "output_type": "stream",
     "text": [
      "+---------+---------+----------+----------+--------------------+--------------------+\n",
      "|people_id|object_id|first_name| last_name|          birthplace|    affiliation_name|\n",
      "+---------+---------+----------+----------+--------------------+--------------------+\n",
      "|        1|      p:2|       Ben|   Elowitz|                NULL|           Blue Nile|\n",
      "|        2|      p:3|     Kevin|  Flaherty|                NULL|            Wetpaint|\n",
      "|        3|      p:4|      Raju|   Vegesna|                NULL|                Zoho|\n",
      "|        4|      p:5|       Ian|     Wenig|                NULL|                Zoho|\n",
      "|        5|      p:6|     Kevin|      Rose|         Redding, CA|        i/o Ventures|\n",
      "|        6|      p:7|       Jay|   Adelson|         Detroit, MI|                Digg|\n",
      "|        7|      p:8|      Owen|     Byrne|                NULL|                Digg|\n",
      "|        8|      p:9|       Ron|Gorodetzky|                NULL|                Digg|\n",
      "|        9|     p:10|      Mark|Zuckerberg|                NULL|            Facebook|\n",
      "|       10|     p:11|    Dustin| Moskovitz|     Gainesville, FL|            Facebook|\n",
      "|       11|     p:12|      Owen| Van Natta|                NULL|               Asana|\n",
      "|       12|     p:13|      Matt|    Cohler|                NULL|            LinkedIn|\n",
      "|       13|     p:14|     Chris|    Hughes|Hickery, North Ca...|General Catalyst ...|\n",
      "|       14|     p:16|      Alex|     Welch|                NULL|            C7 Group|\n",
      "|       15|     p:17|    Darren|   Crystal|                NULL|         Photobucket|\n",
      "|       16|     p:18|   Michael|     Clark|                NULL|   Photobucket (Old)|\n",
      "|       17|     p:19|      Greg|    Wimmer|                NULL|         Photobucket|\n",
      "|       18|     p:20|     Peter|    Foster|                NULL|         Photobucket|\n",
      "|       19|     p:21|   Heather|      Dana|                NULL|         Photobucket|\n",
      "|       20|     p:22|     Peter|      Pham|                NULL|   Photobucket, Inc.|\n",
      "+---------+---------+----------+----------+--------------------+--------------------+\n",
      "only showing top 20 rows\n",
      "\n"
     ]
    }
   ],
   "source": [
    "people.show()"
   ]
  },
  {
   "cell_type": "code",
   "execution_count": 207,
   "id": "519bfe38-9342-488b-ba96-989ca72ce5bf",
   "metadata": {},
   "outputs": [],
   "source": [
    "step=\"Data Staging\"\n",
    "process=\"Load\"\n",
    "\n"
   ]
  },
  {
   "cell_type": "code",
   "execution_count": 208,
   "id": "94ef2b57-8d3c-45fb-8314-82eab92eec98",
   "metadata": {},
   "outputs": [
    {
     "name": "stdout",
     "output_type": "stream",
     "text": [
      "===== Get only new data =====\n",
      "===== Start Extracting people data =====\n",
      "===== Success Extracting people data =====\n",
      "===== Already got only New Data  =====\n",
      "===== Start Loading people new data =====\n",
      "===== Success Loading people new data =====\n"
     ]
    }
   ],
   "source": [
    "load_stg(people,\"people\")"
   ]
  },
  {
   "cell_type": "code",
   "execution_count": 209,
   "id": "8d889ef2-0b1c-4b33-bbce-3ea75a24629c",
   "metadata": {},
   "outputs": [
    {
     "data": {
      "text/plain": [
       "[('people_id', 'string'),\n",
       " ('object_id', 'string'),\n",
       " ('first_name', 'string'),\n",
       " ('last_name', 'string'),\n",
       " ('birthplace', 'string'),\n",
       " ('affiliation_name', 'string')]"
      ]
     },
     "execution_count": 209,
     "metadata": {},
     "output_type": "execute_result"
    }
   ],
   "source": [
    "people.dtypes"
   ]
  },
  {
   "cell_type": "code",
   "execution_count": 210,
   "id": "8a256b31-0b39-4a85-9a0c-a7bc0259ce45",
   "metadata": {},
   "outputs": [
    {
     "data": {
      "text/plain": [
       "[('relationship_id', 'string'),\n",
       " ('person_object_id', 'string'),\n",
       " ('relationship_object_id', 'string'),\n",
       " ('start_at', 'string'),\n",
       " ('end_at', 'string'),\n",
       " ('is_past', 'string'),\n",
       " ('sequence', 'string'),\n",
       " ('title', 'string'),\n",
       " ('created_at', 'string'),\n",
       " ('updated_at', 'string')]"
      ]
     },
     "execution_count": 210,
     "metadata": {},
     "output_type": "execute_result"
    }
   ],
   "source": [
    "relationships.dtypes"
   ]
  },
  {
   "cell_type": "code",
   "execution_count": 211,
   "id": "c9eccefb-c8d0-4e0d-9b34-8b7bf431958b",
   "metadata": {},
   "outputs": [],
   "source": [
    "\n",
    "\n",
    "relationships=relationships.withColumn(\"start_at\",to_date( relationships['start_at'], \"yyyy-mm-dd\")) \n",
    "relationships=relationships.withColumn(\"end_at\",to_date( relationships['end_at'], \"yyyy-mm-dd\")) \n",
    "relationships=relationships.withColumn(\"created_at\",to_timestamp( relationships['created_at'], \"yyyy-mm-dd HH:mm:ss\")) \n",
    "relationships=relationships.withColumn(\"updated_at\",to_timestamp( relationships['updated_at'], \"yyyy-mm-dd HH:mm:ss\")) "
   ]
  },
  {
   "cell_type": "code",
   "execution_count": 212,
   "id": "0a7ac2fd-378d-454c-b5ae-2ad8e61e35fd",
   "metadata": {},
   "outputs": [
    {
     "name": "stdout",
     "output_type": "stream",
     "text": [
      "+---------------+----------------+----------------------+----------+----------+-------+--------+--------------------+-------------------+-------------------+\n",
      "|relationship_id|person_object_id|relationship_object_id|  start_at|    end_at|is_past|sequence|               title|         created_at|         updated_at|\n",
      "+---------------+----------------+----------------------+----------+----------+-------+--------+--------------------+-------------------+-------------------+\n",
      "|              1|             p:2|                   c:1|      NULL|      NULL|  false|       8|Co-Founder/CEO/Bo...|2007-01-25 07:03:54|2013-01-03 09:58:46|\n",
      "|              2|             p:3|                   c:1|      NULL|      NULL|  false|  279242|        VP Marketing|2007-01-25 07:04:16|2010-01-21 16:31:34|\n",
      "|              3|             p:4|                   c:3|      NULL|      NULL|  false|       4|          Evangelist|2007-01-25 19:33:03|2013-01-29 13:36:58|\n",
      "|              4|             p:5|                   c:3|2006-01-01|2009-01-01|  false|       4|Senior Director S...|2007-01-25 19:34:53|2013-01-29 10:25:34|\n",
      "|              6|             p:7|                   c:4|2005-01-01|2010-01-05|  false|       1|Chief Executive O...|2007-01-25 20:05:33|2010-01-05 18:41:41|\n",
      "|              7|             p:8|                   c:4|      NULL|      NULL|  false|       1|Senior Software E...|2007-01-25 20:06:45|2010-01-12 01:13:29|\n",
      "|              8|             p:9|                   c:4|      NULL|      NULL|  false|       1|Systems Engineeri...|2007-01-25 20:07:50|2010-01-03 22:00:58|\n",
      "|              9|            p:10|                   c:5|      NULL|      NULL|  false|       1|Founder and CEO, ...|2007-01-25 21:51:46|2010-01-25 21:49:44|\n",
      "|             10|            p:11|                   c:5|      NULL|      NULL|  false|       1|          Co-Founder|2007-01-25 22:15:05|2011-01-11 23:48:45|\n",
      "|             11|            p:12|                   c:5|      NULL|      NULL|  false|       3|Chief Revenue Off...|2007-01-25 22:15:59|2010-01-25 21:49:45|\n",
      "|             12|            p:13|                   c:5|      NULL|      NULL|  false|       1|VP of Product Man...|2007-01-25 22:16:59|2010-01-25 21:49:45|\n",
      "|             13|            p:14|                   c:5|1993-01-04|1982-01-28|  false|       1|          Co-founder|2007-01-25 22:17:27|2010-01-01 18:15:45|\n",
      "|             14|            p:16|                c:7299|      NULL|      NULL|  false|       2|     Founder and CEO|2007-01-26 12:44:52|2011-01-19 00:05:01|\n",
      "|             15|            p:17|                c:7299|      NULL|      NULL|  false|       2|  Co-founder and CTO|2007-01-26 12:45:46|2011-01-19 00:05:01|\n",
      "|             16|            p:18|                c:7299|2005-01-01|2009-01-01|  false|       1|SVP, Technology a...|2007-01-26 12:47:13|2011-01-19 00:05:01|\n",
      "|             17|            p:19|                c:7299|2006-01-01|2009-01-01|  false|       8|VP, Finance & Adm...|2007-01-26 12:47:49|2011-01-28 03:08:15|\n",
      "|             18|            p:20|                c:7299|      NULL|      NULL|  false|       1|           VP, Sales|2007-01-26 12:48:20|2011-01-19 00:05:01|\n",
      "|             19|            p:21|                c:7299|      NULL|      NULL|  false|       1|VP, Customer Service|2007-01-26 12:49:23|2011-01-19 00:05:01|\n",
      "|             20|            p:22|                c:7299|2005-01-01|2008-01-01|  false|       1|VP, Business Deve...|2007-01-26 12:49:45|2013-01-07 08:51:20|\n",
      "|             21|            p:23|                c:7299|      NULL|      NULL|  false|       1|     VP, Engineering|2007-01-26 12:50:11|2011-01-19 00:05:02|\n",
      "+---------------+----------------+----------------------+----------+----------+-------+--------+--------------------+-------------------+-------------------+\n",
      "only showing top 20 rows\n",
      "\n"
     ]
    }
   ],
   "source": [
    "relationships.show()"
   ]
  },
  {
   "cell_type": "code",
   "execution_count": 213,
   "id": "b6a34007-e10e-4864-96da-6785a7848f93",
   "metadata": {},
   "outputs": [
    {
     "data": {
      "text/plain": [
       "[('relationship_id', 'string'),\n",
       " ('person_object_id', 'string'),\n",
       " ('relationship_object_id', 'string'),\n",
       " ('start_at', 'date'),\n",
       " ('end_at', 'date'),\n",
       " ('is_past', 'string'),\n",
       " ('sequence', 'string'),\n",
       " ('title', 'string'),\n",
       " ('created_at', 'timestamp'),\n",
       " ('updated_at', 'timestamp')]"
      ]
     },
     "execution_count": 213,
     "metadata": {},
     "output_type": "execute_result"
    }
   ],
   "source": [
    "relationships.dtypes"
   ]
  },
  {
   "cell_type": "code",
   "execution_count": 214,
   "id": "71d009d8-834e-4814-bc1f-b3e347c36015",
   "metadata": {},
   "outputs": [
    {
     "name": "stdout",
     "output_type": "stream",
     "text": [
      "===== Get only new data =====\n",
      "===== Start Extracting relationships data =====\n",
      "===== Success Extracting relationships data =====\n",
      "===== Already got only New Data  =====\n",
      "===== Start Loading relationships new data =====\n",
      "===== Success Loading relationships new data =====\n"
     ]
    }
   ],
   "source": [
    "load_stg(relationships,\"relationships\")"
   ]
  },
  {
   "cell_type": "code",
   "execution_count": 215,
   "id": "2350f424-1aad-4de8-bc61-54d5bb8e8112",
   "metadata": {
    "scrolled": true
   },
   "outputs": [
    {
     "name": "stdout",
     "output_type": "stream",
     "text": [
      "===== Get only new data =====\n",
      "===== Start Extracting acquisition data =====\n",
      "===== Success Extracting acquisition data =====\n",
      "===== Already got only New Data  =====\n",
      "===== Start Loading acquisition new data =====\n",
      "===== Success Loading acquisition new data =====\n",
      "===== Get only new data =====\n",
      "===== Start Extracting company data =====\n",
      "===== Success Extracting company data =====\n",
      "===== Already got only New Data  =====\n",
      "===== Start Loading company new data =====\n",
      "===== Success Loading company new data =====\n",
      "===== Get only new data =====\n",
      "===== Start Extracting funds data =====\n",
      "===== Success Extracting funds data =====\n",
      "===== Already got only New Data  =====\n",
      "===== Start Loading funds new data =====\n",
      "===== Success Loading funds new data =====\n",
      "===== Get only new data =====\n",
      "===== Start Extracting investments data =====\n",
      "===== Success Extracting investments data =====\n",
      "===== Already got only New Data  =====\n",
      "===== Start Loading investments new data =====\n",
      "===== Success Loading investments new data =====\n",
      "===== Get only new data =====\n",
      "===== Start Extracting ipos data =====\n",
      "===== Success Extracting ipos data =====\n",
      "===== Already got only New Data  =====\n",
      "===== Start Loading ipos new data =====\n",
      "===== Success Loading ipos new data =====\n",
      "===== Get only new data =====\n",
      "===== Start Extracting funding_rounds data =====\n",
      "===== Success Extracting funding_rounds data =====\n",
      "===== Already got only New Data  =====\n",
      "===== Start Loading funding_rounds new data =====\n",
      "===== Success Loading funding_rounds new data =====\n"
     ]
    }
   ],
   "source": [
    "table_names=[\"acquisition\",\"company\",\"funds\",\"investments\",\"ipos\",\"funding_rounds\"]\n",
    "for name in table_names:\n",
    "    load_stg(globals()[f'{name}'],name)"
   ]
  },
  {
   "cell_type": "markdown",
   "id": "d500a150-552b-4d60-8b02-bc7f0b65a5f5",
   "metadata": {},
   "source": [
    "# DATA STAGING ETL"
   ]
  },
  {
   "cell_type": "markdown",
   "id": "3ee3d74a-fc0a-4e04-b41b-56e6acc50e4c",
   "metadata": {},
   "source": [
    "## EXTRACT"
   ]
  },
  {
   "cell_type": "code",
   "execution_count": 216,
   "id": "e88c1ad7-76e5-43ee-a075-6325acddccc0",
   "metadata": {},
   "outputs": [
    {
     "name": "stdout",
     "output_type": "stream",
     "text": [
      "===== Start Extracting people data =====\n",
      "===== Success Extracting people data =====\n",
      "===== Start Extracting relationships data =====\n",
      "===== Success Extracting relationships data =====\n",
      "===== Start Extracting acquisition data =====\n",
      "===== Success Extracting acquisition data =====\n",
      "===== Start Extracting company data =====\n",
      "===== Success Extracting company data =====\n",
      "===== Start Extracting funds data =====\n",
      "===== Success Extracting funds data =====\n",
      "===== Start Extracting investments data =====\n",
      "===== Success Extracting investments data =====\n",
      "===== Start Extracting ipos data =====\n",
      "===== Success Extracting ipos data =====\n",
      "===== Start Extracting funding_rounds data =====\n",
      "===== Success Extracting funding_rounds data =====\n"
     ]
    }
   ],
   "source": [
    "table_names=[\"people\",\"relationships\",\"acquisition\",\"company\",\"funds\",\"investments\",\"ipos\",\"funding_rounds\"]\n",
    "for name in table_names:\n",
    "    globals()[f'stg_{name}']=extract_db_stg(name)"
   ]
  },
  {
   "cell_type": "code",
   "execution_count": 217,
   "id": "c69f72e7-5e41-4106-9eda-ef1ac3fd7da8",
   "metadata": {},
   "outputs": [],
   "source": [
    "dim_term_code=stg_acquisition.select(stg_acquisition['term_code']).distinct()\n"
   ]
  },
  {
   "cell_type": "code",
   "execution_count": 218,
   "id": "53b0b212-34d1-499b-ba97-c14bedc973d3",
   "metadata": {},
   "outputs": [
    {
     "name": "stdout",
     "output_type": "stream",
     "text": [
      "===== Get only new data =====\n",
      "===== Start Extracting dim_term_code data =====\n",
      "===== Success Extracting dim_term_code data =====\n",
      "===== Already got only New Data  =====\n",
      "===== Start Loading dim_term_code new data =====\n",
      "===== Success Loading dim_term_code new data =====\n"
     ]
    }
   ],
   "source": [
    "load_dwh(dim_term_code,\"dim_term_code\")"
   ]
  },
  {
   "cell_type": "code",
   "execution_count": 219,
   "id": "34bc6488-6508-4398-9f53-cc31594b5227",
   "metadata": {},
   "outputs": [],
   "source": [
    "stock_symbol=stg_ipos.select(stg_ipos['stock_symbol']).distinct()\n"
   ]
  },
  {
   "cell_type": "code",
   "execution_count": 220,
   "id": "1aa193db-ba6a-4294-916c-1032257d4c0c",
   "metadata": {},
   "outputs": [
    {
     "name": "stdout",
     "output_type": "stream",
     "text": [
      "===== Get only new data =====\n",
      "===== Start Extracting dim_stock_symbol data =====\n",
      "===== Success Extracting dim_stock_symbol data =====\n",
      "===== Already got only New Data  =====\n",
      "===== Start Loading dim_stock_symbol new data =====\n",
      "===== Success Loading dim_stock_symbol new data =====\n"
     ]
    }
   ],
   "source": [
    "load_dwh(stock_symbol,\"dim_stock_symbol\")"
   ]
  },
  {
   "cell_type": "code",
   "execution_count": 221,
   "id": "901a018c-24d1-4c3a-a7a8-c6c185a59e18",
   "metadata": {},
   "outputs": [],
   "source": [
    "RENAME_COLS = {\n",
    "                \"office_id\": \"company_nk_id\"}\n",
    "dim_company = stg_company.withColumnsRenamed(colsMap = RENAME_COLS)"
   ]
  },
  {
   "cell_type": "code",
   "execution_count": 222,
   "id": "4ec722ef-9513-4539-8eb2-4c5ed9aaf544",
   "metadata": {},
   "outputs": [],
   "source": [
    "columns_to_drop = ['created_at', 'updated_at']\n",
    "dim_company = dim_company.drop(*columns_to_drop)\n"
   ]
  },
  {
   "cell_type": "code",
   "execution_count": 223,
   "id": "bf551d41-566d-4aa8-9982-68f0097f87cd",
   "metadata": {},
   "outputs": [
    {
     "name": "stdout",
     "output_type": "stream",
     "text": [
      "===== Get only new data =====\n",
      "===== Start Extracting dim_company data =====\n",
      "===== Success Extracting dim_company data =====\n",
      "===== Already got only New Data  =====\n",
      "===== Start Loading dim_company new data =====\n",
      "===== Success Loading dim_company new data =====\n"
     ]
    }
   ],
   "source": [
    "load_dwh(dim_company,\"dim_company\")"
   ]
  },
  {
   "cell_type": "code",
   "execution_count": 224,
   "id": "05db6c3c-addf-4158-a74e-65df6cde8356",
   "metadata": {},
   "outputs": [],
   "source": [
    "RENAME_COLS = {\n",
    "                \"people_id\": \"people_nk_id\"}\n",
    "dim_people = stg_people.withColumnsRenamed(colsMap = RENAME_COLS)\n",
    "columns_to_drop = ['created_at', 'updated_at']\n",
    "dim_people = dim_people.drop(*columns_to_drop)"
   ]
  },
  {
   "cell_type": "code",
   "execution_count": 225,
   "id": "4741e682-ec9f-4ffb-8044-94ec64b272f0",
   "metadata": {},
   "outputs": [],
   "source": [
    "dim_people=dim_people.withColumn(\"people_nk_id\",dim_people [\"people_nk_id\"].cast(\"int\"))"
   ]
  },
  {
   "cell_type": "code",
   "execution_count": 226,
   "id": "8f429f9e-8b99-453b-a015-c51d69c0030e",
   "metadata": {},
   "outputs": [
    {
     "data": {
      "text/plain": [
       "[('people_nk_id', 'int'),\n",
       " ('object_id', 'string'),\n",
       " ('first_name', 'string'),\n",
       " ('last_name', 'string'),\n",
       " ('birthplace', 'string'),\n",
       " ('affiliation_name', 'string')]"
      ]
     },
     "execution_count": 226,
     "metadata": {},
     "output_type": "execute_result"
    }
   ],
   "source": [
    "dim_people.dtypes"
   ]
  },
  {
   "cell_type": "code",
   "execution_count": 227,
   "id": "a5d74605-7079-4f18-bd25-84ddf8eb66ea",
   "metadata": {},
   "outputs": [
    {
     "name": "stdout",
     "output_type": "stream",
     "text": [
      "===== Get only new data =====\n",
      "===== Start Extracting dim_people data =====\n",
      "===== Success Extracting dim_people data =====\n",
      "===== Already got only New Data  =====\n",
      "===== Start Loading dim_people new data =====\n",
      "===== Success Loading dim_people new data =====\n"
     ]
    }
   ],
   "source": [
    "load_dwh(dim_people,\"dim_people\")"
   ]
  },
  {
   "cell_type": "code",
   "execution_count": 228,
   "id": "e4a3eb5d-e26f-4e7c-9af0-0f4fd6cfb20d",
   "metadata": {},
   "outputs": [
    {
     "name": "stdout",
     "output_type": "stream",
     "text": [
      "+------------+---------+----------+------------+------------+----------------+\n",
      "|people_nk_id|object_id|first_name|   last_name|  birthplace|affiliation_name|\n",
      "+------------+---------+----------+------------+------------+----------------+\n",
      "|          67|     p:77|William C.|        Cobb|        NULL|            eBay|\n",
      "|         106|    p:123|    Daniel|        Graf|        NULL|            Kyte|\n",
      "|         158|    p:179|      John|         Ham|        NULL|         Ustream|\n",
      "|         402|    p:454|     James|     Currier|      Boston|       BranchOut|\n",
      "|         457|    p:512|   Jessica|Stoner Steel|        NULL|   Pandora Media|\n",
      "|         811|    p:926|   Stephen|       Wolfe|        NULL|        Netsuite|\n",
      "|        1180|   p:1359|    Trevor|   Griffiths|        NULL|       LiveWorld|\n",
      "|        1450|   p:1671|       Ben|     Barokas|        NULL|          JumpTV|\n",
      "|        1789|   p:2073|     Scott|    Brubaker|        NULL|   BrightSpot.tv|\n",
      "|        1869|   p:2172|  Courtney|     Montpas|        NULL|    Demand Media|\n",
      "|        2032|   p:2370|      Jeff|     Whitton|        NULL|   SuggestionBox|\n",
      "|        2053|   p:2394|     Rishi|        Bhat|        NULL|           Styky|\n",
      "|        2244|   p:2629|      Alan|       Shang|        NULL|         Grouply|\n",
      "|        2445|   p:2891|      Pete|     Wheelan|        NULL|           Blurb|\n",
      "|        2544|   p:3023|   Ericson|    de Jesus|        NULL|         Crusher|\n",
      "|        2876|   p:3497|       Joe|      Hruska|Tonasket, WA|      RescueTime|\n",
      "|        2879|   p:3501|       Ari|      Rabban|        NULL|       Phone.com|\n",
      "|        2968|   p:3605|     Peter|  Semmelhack|        NULL|        Bug Labs|\n",
      "|        3025|   p:3668| Jean-Yves|     Dexmier|        NULL|       LookSmart|\n",
      "|        3225|   p:3906|      John|      Kelley|        NULL|        Buzzwire|\n",
      "+------------+---------+----------+------------+------------+----------------+\n",
      "only showing top 20 rows\n",
      "\n"
     ]
    }
   ],
   "source": [
    "dim_people.show()"
   ]
  },
  {
   "cell_type": "code",
   "execution_count": 229,
   "id": "43c7831b-aa93-4b51-85e8-7c4c38e47d3b",
   "metadata": {},
   "outputs": [
    {
     "name": "stdout",
     "output_type": "stream",
     "text": [
      "===== Start Extracting dim_time data =====\n",
      "===== Success Extracting dim_time data =====\n"
     ]
    }
   ],
   "source": [
    "dim_time=extract_db_dwh(\"dim_time\",step=\"Transform\",process=\"Extract DWH for joining\")"
   ]
  },
  {
   "cell_type": "code",
   "execution_count": 230,
   "id": "ce7dcd01-b8ea-4816-8d2f-cb4978cde65e",
   "metadata": {},
   "outputs": [
    {
     "name": "stdout",
     "output_type": "stream",
     "text": [
      "===== Start Extracting dim_people data =====\n",
      "===== Success Extracting dim_people data =====\n"
     ]
    }
   ],
   "source": [
    "dim_people=extract_db_dwh(\"dim_people\",step=\"Transform\",process=\"Extract DWH for joining\")"
   ]
  },
  {
   "cell_type": "code",
   "execution_count": 231,
   "id": "aa9acbc3-aed4-4597-9f65-a67a455769df",
   "metadata": {},
   "outputs": [
    {
     "name": "stdout",
     "output_type": "stream",
     "text": [
      "===== Start Extracting dim_company data =====\n",
      "===== Success Extracting dim_company data =====\n"
     ]
    }
   ],
   "source": [
    "dim_company=extract_db_dwh(\"dim_company\",step=\"Transform\",process=\"Extract DWH for joining\")"
   ]
  },
  {
   "cell_type": "code",
   "execution_count": 232,
   "id": "da47ee74-6db2-454d-a2e6-9cfde17c805a",
   "metadata": {},
   "outputs": [
    {
     "name": "stdout",
     "output_type": "stream",
     "text": [
      "===== Start Extracting dim_date data =====\n",
      "===== Success Extracting dim_date data =====\n"
     ]
    }
   ],
   "source": [
    "dim_date=extract_db_dwh(\"dim_date\",step=\"Transform\",process=\"Extract DWH for joining\")"
   ]
  },
  {
   "cell_type": "code",
   "execution_count": 233,
   "id": "309af185-eeae-48ea-a2ff-4073203953dd",
   "metadata": {},
   "outputs": [
    {
     "name": "stdout",
     "output_type": "stream",
     "text": [
      "===== Start Extracting dim_term_code data =====\n",
      "===== Success Extracting dim_term_code data =====\n"
     ]
    }
   ],
   "source": [
    "dim_term_code=extract_db_dwh(\"dim_term_code\",step=\"Transform\",process=\"Extract DWH for joining\")"
   ]
  },
  {
   "cell_type": "code",
   "execution_count": 234,
   "id": "7593405d-84bd-4240-a829-26c4161bfe78",
   "metadata": {},
   "outputs": [
    {
     "name": "stdout",
     "output_type": "stream",
     "text": [
      "===== Start Extracting dim_stock_symbol data =====\n",
      "===== Success Extracting dim_stock_symbol data =====\n"
     ]
    }
   ],
   "source": [
    "dim_stock_symbol=extract_db_dwh(\"dim_stock_symbol\",step=\"Transform\",process=\"Extract DWH for joining\")"
   ]
  },
  {
   "cell_type": "code",
   "execution_count": 235,
   "id": "01d7a79a-85bc-459e-80bb-99da4e7db5d8",
   "metadata": {},
   "outputs": [],
   "source": [
    "dim_date=dim_date.select(['date_id','date_actual'])\n",
    "dim_company=dim_company.select(['company_id','object_id'])\n",
    "dim_people=dim_people.select(['people_id','object_id'])"
   ]
  },
  {
   "cell_type": "code",
   "execution_count": 236,
   "id": "6f1f9fc7-858d-494d-b22a-6c1d40ff78a6",
   "metadata": {},
   "outputs": [],
   "source": [
    "relationships=stg_relationships.join(dim_date, stg_relationships.start_at == dim_date.date_actual, 'left')"
   ]
  },
  {
   "cell_type": "code",
   "execution_count": 237,
   "id": "fc3429d7-3ebe-4766-8392-c75708389afd",
   "metadata": {},
   "outputs": [],
   "source": [
    "columns_to_drop = ['created_at', 'updated_at','date_actual','start_at']\n",
    "relationships = relationships.drop(*columns_to_drop)\n",
    "RENAME_COLS = {\n",
    "                \"date_id\": \"start_at\"}\n",
    "relationships = relationships.withColumnsRenamed(colsMap = RENAME_COLS)\n"
   ]
  },
  {
   "cell_type": "code",
   "execution_count": 238,
   "id": "4990c6f3-f01b-4023-8afc-ae4c9ab64157",
   "metadata": {},
   "outputs": [],
   "source": [
    "relationships=relationships.join(dim_date, relationships.end_at == dim_date.date_actual, 'left')"
   ]
  },
  {
   "cell_type": "code",
   "execution_count": 239,
   "id": "f79246bc-22d0-48ed-a0f0-68b8b04818a5",
   "metadata": {},
   "outputs": [],
   "source": [
    "columns_to_drop = ['date_actual','end_at']\n",
    "relationships = relationships.drop(*columns_to_drop)\n",
    "RENAME_COLS = {\n",
    "                \"date_id\": \"end_at\"}\n",
    "relationships = relationships.withColumnsRenamed(colsMap = RENAME_COLS)"
   ]
  },
  {
   "cell_type": "code",
   "execution_count": 240,
   "id": "afd4e845-35ac-4c21-8cde-b319b0ad4ece",
   "metadata": {},
   "outputs": [],
   "source": [
    "relationships=relationships.join(dim_company, relationships.relationship_object_id == dim_company.object_id, 'left')\n"
   ]
  },
  {
   "cell_type": "code",
   "execution_count": 241,
   "id": "6e4b165f-9568-41f1-976e-d5531fdc962a",
   "metadata": {},
   "outputs": [],
   "source": [
    "columns_to_drop = ['relationship_object_id','object_id']\n",
    "relationships = relationships.drop(*columns_to_drop)\n",
    "RENAME_COLS = {\n",
    "                \"company_id\": \"relationship_object_id\"}\n",
    "relationships = relationships.withColumnsRenamed(colsMap = RENAME_COLS)"
   ]
  },
  {
   "cell_type": "code",
   "execution_count": 242,
   "id": "9c752003-aee7-4d54-8255-4b9d5485a2d9",
   "metadata": {},
   "outputs": [],
   "source": [
    "relationships=relationships.join(dim_people, relationships.person_object_id == dim_people.object_id, 'left')\n"
   ]
  },
  {
   "cell_type": "code",
   "execution_count": 243,
   "id": "c3d25516-9694-4b6a-a6bc-8e948b3d02c8",
   "metadata": {},
   "outputs": [],
   "source": [
    "columns_to_drop = ['object_id','person_object_id']\n",
    "relationships = relationships.drop(*columns_to_drop)"
   ]
  },
  {
   "cell_type": "code",
   "execution_count": 244,
   "id": "a94558fc-ca0a-47dd-9c2c-d92efa04c3ee",
   "metadata": {},
   "outputs": [],
   "source": [
    "RENAME_COLS = {\n",
    "                \"relationship_id\": \"relationship_nk_id\"}\n",
    "relationships = relationships.withColumnsRenamed(colsMap = RENAME_COLS)"
   ]
  },
  {
   "cell_type": "code",
   "execution_count": 245,
   "id": "8aa199d2-03b2-41e5-a267-eed91fff4401",
   "metadata": {},
   "outputs": [],
   "source": [
    "relationships=relationships.withColumn(\"relationship_nk_id\",relationships [\"relationship_nk_id\"].cast(\"int\"))"
   ]
  },
  {
   "cell_type": "code",
   "execution_count": 246,
   "id": "4fb19d56-7e0f-41b6-9cfa-ab34bc7fd63f",
   "metadata": {},
   "outputs": [],
   "source": [
    "relationships=relationships.withColumn(\"is_past\",when(relationships.is_past == \"true\", True)\n",
    "                                   .when(relationships.is_past == \"false\", False))"
   ]
  },
  {
   "cell_type": "code",
   "execution_count": 247,
   "id": "545bd0f9-09c8-4510-b3fd-eb9e3ca6fd58",
   "metadata": {},
   "outputs": [
    {
     "name": "stdout",
     "output_type": "stream",
     "text": [
      "===== Get only new data =====\n",
      "===== Start Extracting fct_person_relationship data =====\n",
      "===== Success Extracting fct_person_relationship data =====\n",
      "===== Already got only New Data  =====\n",
      "===== Start Loading fct_person_relationship new data =====\n",
      "===== Success Loading fct_person_relationship new data =====\n"
     ]
    }
   ],
   "source": [
    "load_dwh(relationships,\"fct_person_relationship\")"
   ]
  },
  {
   "cell_type": "code",
   "execution_count": 248,
   "id": "b7cbcdb7-cb4e-46bd-92de-d7fe74f7598c",
   "metadata": {},
   "outputs": [],
   "source": [
    "funding_rounds=stg_funding_rounds.join(dim_date, stg_funding_rounds.funded_at == dim_date.date_actual, 'left')"
   ]
  },
  {
   "cell_type": "code",
   "execution_count": 249,
   "id": "624490ae-6114-4aad-83e0-f3fb92ff33d3",
   "metadata": {},
   "outputs": [],
   "source": [
    "columns_to_drop = ['created_at', 'updated_at','date_actual','funded_at']\n",
    "funding_rounds = funding_rounds.drop(*columns_to_drop)\n",
    "RENAME_COLS = {\n",
    "                \"date_id\": \"funded_at\"}\n",
    "funding_rounds = funding_rounds.withColumnsRenamed(colsMap = RENAME_COLS)\n"
   ]
  },
  {
   "cell_type": "code",
   "execution_count": 250,
   "id": "b2152c9c-57e4-45c9-bc4b-e12162412d4d",
   "metadata": {},
   "outputs": [],
   "source": [
    "funding_rounds=funding_rounds.join(dim_company, funding_rounds.object_id == dim_company.object_id, 'left')\n"
   ]
  },
  {
   "cell_type": "code",
   "execution_count": 251,
   "id": "fc2cc880-37c9-421f-bfd1-a6df332f679c",
   "metadata": {},
   "outputs": [],
   "source": [
    "columns_to_drop = ['object_id','object_id']\n",
    "funding_rounds = funding_rounds.drop(*columns_to_drop)\n",
    "RENAME_COLS = {\n",
    "                \"company_id\": \"object_id\",\"funding_round_id\":\"funding_round_nk_id\" }\n",
    "funding_rounds = funding_rounds.withColumnsRenamed(colsMap = RENAME_COLS)"
   ]
  },
  {
   "cell_type": "code",
   "execution_count": 252,
   "id": "a94c55d3-f303-4277-a0ec-4ecd8a3674e8",
   "metadata": {},
   "outputs": [
    {
     "data": {
      "text/plain": [
       "[('funding_round_nk_id', 'int'),\n",
       " ('funding_round_type', 'string'),\n",
       " ('funding_round_code', 'string'),\n",
       " ('raised_amount_usd', 'decimal(15,2)'),\n",
       " ('raised_amount', 'decimal(15,2)'),\n",
       " ('raised_currency_code', 'string'),\n",
       " ('pre_money_valuation_usd', 'decimal(15,2)'),\n",
       " ('pre_money_valuation', 'decimal(15,2)'),\n",
       " ('pre_money_currency_code', 'string'),\n",
       " ('post_money_valuation_usd', 'decimal(15,2)'),\n",
       " ('post_money_valuation', 'decimal(15,2)'),\n",
       " ('post_money_currency_code', 'string'),\n",
       " ('participants', 'string'),\n",
       " ('is_first_round', 'boolean'),\n",
       " ('is_last_round', 'boolean'),\n",
       " ('source_url', 'string'),\n",
       " ('source_description', 'string'),\n",
       " ('created_by', 'string'),\n",
       " ('funded_at', 'int'),\n",
       " ('object_id', 'string')]"
      ]
     },
     "execution_count": 252,
     "metadata": {},
     "output_type": "execute_result"
    }
   ],
   "source": [
    "funding_rounds.dtypes"
   ]
  },
  {
   "cell_type": "code",
   "execution_count": 253,
   "id": "5c15922e-52af-401c-b53a-2ab0331de574",
   "metadata": {},
   "outputs": [],
   "source": [
    "funding_rounds=funding_rounds.withColumn(\"is_first_round\",when(funding_rounds.is_first_round == \"true\", True)\n",
    "                                   .when(funding_rounds.is_first_round == \"false\", False))"
   ]
  },
  {
   "cell_type": "code",
   "execution_count": 254,
   "id": "4322a7aa-5a0b-426d-8a15-ea962e5ed3d6",
   "metadata": {},
   "outputs": [
    {
     "name": "stdout",
     "output_type": "stream",
     "text": [
      "===== Get only new data =====\n",
      "===== Start Extracting fct_funding_rounds data =====\n",
      "===== Success Extracting fct_funding_rounds data =====\n",
      "===== Already got only New Data  =====\n",
      "===== Start Loading fct_funding_rounds new data =====\n",
      "===== Success Loading fct_funding_rounds new data =====\n"
     ]
    }
   ],
   "source": [
    "load_dwh(funding_rounds,\"fct_funding_rounds\")"
   ]
  },
  {
   "cell_type": "code",
   "execution_count": 255,
   "id": "71cc9f32-d657-422a-8e4c-9ec9bcd521e5",
   "metadata": {},
   "outputs": [],
   "source": [
    "funds=stg_funds.join(dim_date, stg_funds.funded_at == dim_date.date_actual, 'left')"
   ]
  },
  {
   "cell_type": "code",
   "execution_count": 256,
   "id": "8ebceab8-bab0-40fc-bf2b-45ccf6c302db",
   "metadata": {},
   "outputs": [],
   "source": [
    "columns_to_drop = ['created_at', 'updated_at','date_actual','funded_at']\n",
    "funds = funds.drop(*columns_to_drop)\n",
    "RENAME_COLS = {\n",
    "                \"date_id\": \"funded_at\", \"fund_id\":\"fund_nk_id\" }\n",
    "funds = funds.withColumnsRenamed(colsMap = RENAME_COLS)"
   ]
  },
  {
   "cell_type": "code",
   "execution_count": 257,
   "id": "c8b60732-e26b-411e-824e-fcbf2d5a93cc",
   "metadata": {},
   "outputs": [
    {
     "data": {
      "text/plain": [
       "[('fund_nk_id', 'string'),\n",
       " ('object_id', 'string'),\n",
       " ('name', 'string'),\n",
       " ('raised_amount', 'decimal(15,2)'),\n",
       " ('raised_currency_code', 'string'),\n",
       " ('source_url', 'string'),\n",
       " ('source_description', 'string'),\n",
       " ('funded_at', 'int')]"
      ]
     },
     "execution_count": 257,
     "metadata": {},
     "output_type": "execute_result"
    }
   ],
   "source": [
    "funds.dtypes"
   ]
  },
  {
   "cell_type": "code",
   "execution_count": 258,
   "id": "2763ef00-6b35-4026-a02c-5292f47673e2",
   "metadata": {},
   "outputs": [],
   "source": [
    "funds=funds.join(dim_company, funds.object_id == dim_company.object_id, 'left')\n",
    "columns_to_drop = ['object_id','object_id']\n",
    "funds = funds.drop(*columns_to_drop)\n",
    "RENAME_COLS = {\n",
    "                \"company_id\": \"object_id\" }\n",
    "funds = funds.withColumnsRenamed(colsMap = RENAME_COLS)\n"
   ]
  },
  {
   "cell_type": "code",
   "execution_count": 259,
   "id": "4979f8ca-79a5-4050-98e8-bb479240dee7",
   "metadata": {},
   "outputs": [
    {
     "name": "stdout",
     "output_type": "stream",
     "text": [
      "===== Get only new data =====\n",
      "===== Start Extracting fct_funds data =====\n",
      "===== Success Extracting fct_funds data =====\n",
      "===== Already got only New Data  =====\n",
      "===== Start Loading fct_funds new data =====\n",
      "===== Success Loading fct_funds new data =====\n"
     ]
    }
   ],
   "source": [
    "load_dwh(funds,\"fct_funds\")"
   ]
  },
  {
   "cell_type": "code",
   "execution_count": 260,
   "id": "ba7ecde5-2b4f-4759-9d86-683130c107b9",
   "metadata": {},
   "outputs": [],
   "source": [
    "acquisition=stg_acquisition.join(dim_company, stg_acquisition.acquiring_object_id == dim_company.object_id, 'left')"
   ]
  },
  {
   "cell_type": "code",
   "execution_count": 261,
   "id": "fdfd2895-e242-447f-a01f-a073db20616c",
   "metadata": {},
   "outputs": [],
   "source": [
    "columns_to_drop = ['acquiring_object_id','object_id','created_at','updated_at']\n",
    "acquisition = acquisition.drop(*columns_to_drop)\n",
    "RENAME_COLS = {\n",
    "                \"company_id\": \"acquiring_object_id\",\"acquisition_id\":\"acquisition_nk_id\" }\n",
    "acquisition = acquisition.withColumnsRenamed(colsMap = RENAME_COLS)"
   ]
  },
  {
   "cell_type": "code",
   "execution_count": 262,
   "id": "6030be81-cb45-49bc-b2c8-6a6d3fa8005c",
   "metadata": {},
   "outputs": [
    {
     "name": "stdout",
     "output_type": "stream",
     "text": [
      "+-----------------+------------------+--------------+------------+-------------------+-------------------+--------------------+--------------------+--------------------+\n",
      "|acquisition_nk_id|acquired_object_id|     term_code|price_amount|price_currency_code|        acquired_at|          source_url|  source_description| acquiring_object_id|\n",
      "+-----------------+------------------+--------------+------------+-------------------+-------------------+--------------------+--------------------+--------------------+\n",
      "|              148|            c:2108|          cash|        0.00|                USD|2007-08-01 00:00:00|http://www.dating...|Ashley Madison ac...|b92d412a-c416-45e...|\n",
      "|             1580|           c:26918|              |  7350000.00|                USD|2008-06-09 00:00:00|http://findarticl...|INX Acquires Acce...|c41b35a0-d628-423...|\n",
      "|             1591|           c:26939|          cash| 18000000.00|                USD|2008-04-16 00:00:00|http://zes.zebra....|Zebra Technologie...|15216dd5-0c49-43e...|\n",
      "|             2142|           c:30644|              | 80010000.00|                USD|2008-09-01 00:00:00|                    |                    |af0fd7c9-db12-41f...|\n",
      "|             2659|           c:33685|cash_and_stock|640000000.00|                USD|2009-12-07 00:00:00|http://www.masshi...|Gloucester Pharma...|9c2a0e84-17d7-430...|\n",
      "|             4900|           c:44436|          cash|        0.00|                USD|2010-10-14 00:00:00|http://www.prnews...|Grainger Announce...|6543d7c1-bae7-421...|\n",
      "|              833|           c:16257|              |        0.00|                USD|2007-03-02 00:00:00|http://venturebea...|Leadis, panel dis...|24d374d6-31c4-425...|\n",
      "|             1959|           c:29467|              |        0.00|                USD|2008-09-29 00:00:00|http://www.smartb...|BSA Satellink Ann...|e3e94e50-25da-49f...|\n",
      "|             3175|           c:16562|              |        0.00|                USD|2010-04-28 00:00:00|http://www.texast...|     Texas TechPulse|c8291465-3ae7-40e...|\n",
      "|             2122|           c:30551|              |322270000.00|                USD|2008-07-15 00:00:00|                    |                    |f775027b-6e09-4ea...|\n",
      "|             6654|          c:146951|cash_and_stock|160000000.00|                USD|2012-01-13 00:00:00|http://techcrunch...|Patent Troll Buys...|d71bf89b-07f7-4d2...|\n",
      "|             5300|           c:71474|          cash|        0.00|                USD|2010-12-01 00:00:00|http://blog.turbo...|     Turbosquid Blog|21f2e94b-5e8f-406...|\n",
      "|             1238|            c:4369|              |        0.00|                USD|2009-06-23 00:00:00|http://www.techcr...|Posterous Acquire...|722d6346-c69b-4ff...|\n",
      "|             3997|           c:60153|              |        0.00|                USD|2010-10-26 00:00:00|http://www.equity...|Marlin Equity Par...|102502f8-d328-442...|\n",
      "|             1342|           c:26070|              |        0.00|                USD|2009-03-16 00:00:00|http://www.busine...|ManTech Completes...|2953c954-a17c-476...|\n",
      "|             6620|           c:35913|              |        0.00|                USD|2011-07-01 00:00:00|                    |                    |61afe84a-53ee-4cd...|\n",
      "|             1645|           c:27019|              |        0.00|                USD|2008-05-02 00:00:00|                    |    Cap Index Report|8bc6656e-b9a5-4ac...|\n",
      "|             4935|           c:65812|              |        0.00|                USD|2011-01-04 00:00:00|http://www.prnews...|Aptilo Networks t...|387cedb4-82a9-4c8...|\n",
      "|             1829|           c:28850|              |   495000.00|                USD|2008-05-26 00:00:00|                    |                    |d40a87e3-7da7-4d5...|\n",
      "|             2366|           c:16157|              | 34200000.00|                USD|2009-07-03 00:00:00|                    |                    |ab33dec0-b04f-472...|\n",
      "+-----------------+------------------+--------------+------------+-------------------+-------------------+--------------------+--------------------+--------------------+\n",
      "only showing top 20 rows\n",
      "\n"
     ]
    }
   ],
   "source": [
    "acquisition.show()\n"
   ]
  },
  {
   "cell_type": "code",
   "execution_count": 263,
   "id": "09ba2afc-d544-4bfa-92c9-1c68ec4328ee",
   "metadata": {},
   "outputs": [],
   "source": [
    "acquisition=acquisition.join(dim_company, acquisition.acquired_object_id == dim_company.object_id, 'left')\n",
    "columns_to_drop = ['acquired_object_id','object_id']\n",
    "acquisition = acquisition.drop(*columns_to_drop)\n",
    "RENAME_COLS = {\n",
    "                \"company_id\": \"acquired_object_id\" }\n",
    "acquisition = acquisition.withColumnsRenamed(colsMap = RENAME_COLS)"
   ]
  },
  {
   "cell_type": "code",
   "execution_count": 264,
   "id": "8d380e19-76d5-49b3-a1d3-41b7ff0a89fa",
   "metadata": {},
   "outputs": [],
   "source": [
    "acquisition=acquisition.join(dim_term_code, acquisition.term_code == dim_term_code.term_code, 'left')\n"
   ]
  },
  {
   "cell_type": "code",
   "execution_count": 265,
   "id": "d377b1ab-2098-44c7-aad7-a301fa0c5ad9",
   "metadata": {},
   "outputs": [],
   "source": [
    "columns_to_drop = ['term_code','term_code']\n",
    "acquisition = acquisition.drop(*columns_to_drop)\n"
   ]
  },
  {
   "cell_type": "code",
   "execution_count": 266,
   "id": "85b303b9-0fa4-4a10-8a03-090112608a92",
   "metadata": {},
   "outputs": [],
   "source": [
    "acquisition=acquisition.withColumn('acquired_at', to_date( acquisition['acquired_at'], \"yyyy-MM-dd\"))"
   ]
  },
  {
   "cell_type": "code",
   "execution_count": 267,
   "id": "eaa04652-1bc0-4060-8d09-993185c3eafd",
   "metadata": {},
   "outputs": [],
   "source": [
    "acquisition=acquisition.join(dim_date, acquisition.acquired_at == dim_date.date_actual, 'left')\n",
    "columns_to_drop = ['date_actual','acquired_at']\n",
    "acquisition = acquisition.drop(*columns_to_drop)\n",
    "RENAME_COLS = {\n",
    "                \"date_id\": \"acquired_at\"}\n",
    "acquisition = acquisition.withColumnsRenamed(colsMap = RENAME_COLS)"
   ]
  },
  {
   "cell_type": "code",
   "execution_count": 268,
   "id": "4d95f503-a87b-4200-b9f7-80a17e244808",
   "metadata": {},
   "outputs": [
    {
     "name": "stdout",
     "output_type": "stream",
     "text": [
      "===== Get only new data =====\n",
      "===== Start Extracting fct_acquisition data =====\n",
      "===== Success Extracting fct_acquisition data =====\n",
      "===== Already got only New Data  =====\n",
      "===== Start Loading fct_acquisition new data =====\n",
      "===== Success Loading fct_acquisition new data =====\n"
     ]
    }
   ],
   "source": [
    "load_dwh(acquisition,\"fct_acquisition\")"
   ]
  },
  {
   "cell_type": "code",
   "execution_count": 269,
   "id": "ff32c87d-fa85-4057-8744-8dac22533466",
   "metadata": {},
   "outputs": [
    {
     "data": {
      "text/plain": [
       "[('acquisition_nk_id', 'int'),\n",
       " ('price_amount', 'decimal(15,2)'),\n",
       " ('price_currency_code', 'string'),\n",
       " ('source_url', 'string'),\n",
       " ('source_description', 'string'),\n",
       " ('acquiring_object_id', 'string'),\n",
       " ('acquired_object_id', 'string'),\n",
       " ('term_code_id', 'string'),\n",
       " ('acquired_at', 'int')]"
      ]
     },
     "execution_count": 269,
     "metadata": {},
     "output_type": "execute_result"
    }
   ],
   "source": [
    "acquisition.dtypes"
   ]
  },
  {
   "cell_type": "code",
   "execution_count": 270,
   "id": "2203e297-544d-4135-b125-21fe8f248a9f",
   "metadata": {},
   "outputs": [],
   "source": [
    "ipos=stg_ipos.join(dim_company, stg_ipos.object_id == dim_company.object_id, 'left')\n",
    "columns_to_drop = ['object_id','object_id','created_at','updated_at']\n",
    "ipos = ipos.drop(*columns_to_drop)\n",
    "RENAME_COLS = {\n",
    "                \"company_id\": \"object_id\", \"ipo_id\": \"ipo_nk_id\" }\n",
    "ipos = ipos.withColumnsRenamed(colsMap = RENAME_COLS)"
   ]
  },
  {
   "cell_type": "code",
   "execution_count": 271,
   "id": "b09faa25-df11-4160-afb6-2cac9d0b758a",
   "metadata": {},
   "outputs": [
    {
     "data": {
      "text/plain": [
       "[('ipo_nk_id', 'string'),\n",
       " ('valuation_amount', 'decimal(15,2)'),\n",
       " ('valuation_currency_code', 'string'),\n",
       " ('raised_amount', 'decimal(15,2)'),\n",
       " ('raised_currency_code', 'string'),\n",
       " ('public_at', 'timestamp'),\n",
       " ('stock_symbol', 'string'),\n",
       " ('source_url', 'string'),\n",
       " ('source_description', 'string'),\n",
       " ('object_id', 'string')]"
      ]
     },
     "execution_count": 271,
     "metadata": {},
     "output_type": "execute_result"
    }
   ],
   "source": [
    "ipos.dtypes"
   ]
  },
  {
   "cell_type": "code",
   "execution_count": 272,
   "id": "5021e186-80d8-44b1-81a2-fa9354bea33b",
   "metadata": {},
   "outputs": [],
   "source": [
    "ipos=ipos.withColumn('public_at', to_date( ipos['public_at'], \"yyyy-MM-dd\"))\n",
    "ipos=ipos.join(dim_date, ipos.public_at == dim_date.date_actual, 'left')\n",
    "columns_to_drop = ['date_actual','public_at']\n",
    "ipos = ipos.drop(*columns_to_drop)\n",
    "RENAME_COLS = {\n",
    "                \"date_id\": \"public_at\"}\n",
    "ipos = ipos.withColumnsRenamed(colsMap = RENAME_COLS)"
   ]
  },
  {
   "cell_type": "code",
   "execution_count": 273,
   "id": "da77e865-ff2d-44ee-ad7d-7445b3812c9c",
   "metadata": {},
   "outputs": [],
   "source": [
    "ipos=ipos.join(dim_stock_symbol, ipos.stock_symbol == dim_stock_symbol.stock_symbol, 'left')\n",
    "columns_to_drop = ['stock_symbol','stock_symbol']\n",
    "ipos = ipos.drop(*columns_to_drop)\n",
    "RENAME_COLS = {\n",
    "                \"stock_symbol_id\": \"stock_symbol\"}\n",
    "ipos = ipos.withColumnsRenamed(colsMap = RENAME_COLS)"
   ]
  },
  {
   "cell_type": "code",
   "execution_count": 274,
   "id": "9aa3e137-5083-43ed-a3d0-1c8854ae9e6a",
   "metadata": {},
   "outputs": [
    {
     "name": "stdout",
     "output_type": "stream",
     "text": [
      "===== Get only new data =====\n",
      "===== Start Extracting fct_ipos data =====\n",
      "===== Success Extracting fct_ipos data =====\n",
      "===== Already got only New Data  =====\n",
      "===== Start Loading fct_ipos new data =====\n",
      "===== Success Loading fct_ipos new data =====\n"
     ]
    }
   ],
   "source": [
    "load_dwh(ipos,\"fct_ipos\")"
   ]
  },
  {
   "cell_type": "code",
   "execution_count": 275,
   "id": "467a4e33-7f19-42e8-83f7-3cc43ea1cd42",
   "metadata": {},
   "outputs": [
    {
     "name": "stdout",
     "output_type": "stream",
     "text": [
      "===== Start Extracting fct_funding_rounds data =====\n",
      "===== Success Extracting fct_funding_rounds data =====\n"
     ]
    }
   ],
   "source": [
    "fct_funding_rounds=extract_db_dwh(\"fct_funding_rounds\",step=\"Transform\",process=\"Extract DWH for joining\")\n",
    "fct_funding_rounds=fct_funding_rounds.select(['funding_round_id','funding_round_nk_id'])\n",
    "RENAME_COLS = {\n",
    "                \"funding_round_id\": \"id\"}\n",
    "fct_funding_rounds = fct_funding_rounds.withColumnsRenamed(colsMap = RENAME_COLS)\n"
   ]
  },
  {
   "cell_type": "code",
   "execution_count": 276,
   "id": "2bd3bfaf-5e57-4698-a4a2-f0dde572000c",
   "metadata": {},
   "outputs": [],
   "source": [
    "investments=stg_investments.join(dim_company, stg_investments.funded_object_id == dim_company.object_id, 'left')\n",
    "columns_to_drop = ['funded_object_id','object_id','created_at','updated_at']\n",
    "investments = investments.drop(*columns_to_drop)\n",
    "RENAME_COLS = {\n",
    "                \"company_id\": \"funded_object_id\", \"investment_id\": \"investment_nk_id\" }\n",
    "investments = investments.withColumnsRenamed(colsMap = RENAME_COLS)"
   ]
  },
  {
   "cell_type": "code",
   "execution_count": 277,
   "id": "23aa715c-ba99-4648-8d58-ec113f543839",
   "metadata": {},
   "outputs": [
    {
     "data": {
      "text/plain": [
       "[('investment_nk_id', 'int'),\n",
       " ('funding_round_id', 'int'),\n",
       " ('investor_object_id', 'string'),\n",
       " ('funded_object_id', 'string')]"
      ]
     },
     "execution_count": 277,
     "metadata": {},
     "output_type": "execute_result"
    }
   ],
   "source": [
    "investments.dtypes"
   ]
  },
  {
   "cell_type": "code",
   "execution_count": 278,
   "id": "2c29dc9d-80af-4e3e-a8cb-55ad88f79ee2",
   "metadata": {},
   "outputs": [],
   "source": [
    "investments=investments.join(dim_company, investments.investor_object_id == dim_company.object_id, 'left')\n",
    "columns_to_drop = ['investor_object_id','object_id']\n",
    "investments = investments.drop(*columns_to_drop)\n",
    "RENAME_COLS = {\n",
    "                \"company_id\": \"investor_object_id\"}\n",
    "investments = investments.withColumnsRenamed(colsMap = RENAME_COLS)"
   ]
  },
  {
   "cell_type": "code",
   "execution_count": 279,
   "id": "8ec35958-4601-4812-9b50-6d36285f9bed",
   "metadata": {},
   "outputs": [],
   "source": [
    "investments=investments.join(fct_funding_rounds, investments.funding_round_id == fct_funding_rounds.funding_round_nk_id, 'left')\n",
    "columns_to_drop = ['funding_round_nk_id','funding_round_id']\n",
    "investments = investments.drop(*columns_to_drop)\n",
    "RENAME_COLS = {\n",
    "                \"id\": \"funding_round_id\"}\n",
    "investments = investments.withColumnsRenamed(colsMap = RENAME_COLS)"
   ]
  },
  {
   "cell_type": "code",
   "execution_count": 280,
   "id": "b585cc72-ec5e-48e5-af42-44bb8cfd6009",
   "metadata": {},
   "outputs": [
    {
     "data": {
      "text/plain": [
       "[('investment_nk_id', 'int'),\n",
       " ('funded_object_id', 'string'),\n",
       " ('investor_object_id', 'string'),\n",
       " ('funding_round_id', 'string')]"
      ]
     },
     "execution_count": 280,
     "metadata": {},
     "output_type": "execute_result"
    }
   ],
   "source": [
    "investments.dtypes"
   ]
  },
  {
   "cell_type": "code",
   "execution_count": 281,
   "id": "e6e1720c-f741-41e4-a7d2-513509381527",
   "metadata": {},
   "outputs": [
    {
     "name": "stdout",
     "output_type": "stream",
     "text": [
      "+----------------+--------------------+--------------------+--------------------+\n",
      "|investment_nk_id|    funded_object_id|  investor_object_id|    funding_round_id|\n",
      "+----------------+--------------------+--------------------+--------------------+\n",
      "|            1238|5d51a78d-d084-4bf...|8268c8fb-e632-474...|37f263b0-f2e7-46e...|\n",
      "|            1591|0a4cde8f-e364-4fa...|9abedcb6-584b-430...|73cffef4-a042-450...|\n",
      "|            1645|1c308caa-a2d5-436...|9cae9631-ed5c-4f8...|19a65b48-7baf-4df...|\n",
      "|             471|8dcf84ac-3bfa-419...|6a176809-4f23-4b5...|fb7ed38b-2840-448...|\n",
      "|             833|a9eae067-cc78-4b2...|e508d028-5fa0-475...|2da7aec5-f475-46c...|\n",
      "|            3794|e4a4309b-4217-496...|69d890f7-b07f-48b...|46b63dee-c0b7-4d6...|\n",
      "|            1088|7120166a-ab80-48d...|bb742c4c-a48f-468...|98d31e42-1107-426...|\n",
      "|            1342|0fb06917-d23a-4bf...|f508dd84-98dd-4f5...|fd4398e5-d72f-4f2...|\n",
      "|            1829|d09b4b84-bddf-403...|536d8a20-ddd3-469...|1f112418-3717-405...|\n",
      "|            1959|68321638-1f68-4ce...|be80e70b-1727-41a...|ca48a1fd-baa8-445...|\n",
      "|            2866|c926aad6-b45a-466...|b7c9c2f3-07a6-417...|92a6a749-2350-4f5...|\n",
      "|             463|9093fb17-659e-485...|825788d0-d595-44f...|80ee2122-87ce-434...|\n",
      "|            1580|1cc0cd44-0086-454...|90eab61a-a3e5-480...|7ce04a52-5801-490...|\n",
      "|            2142|ec8b05fd-eb8b-43c...|13a90768-c727-4c2...|09e72970-219d-419...|\n",
      "|            2122|5febbbee-f372-427...|cc0ed83a-117d-4af...|65993584-b75f-409...|\n",
      "|             148|1f572327-2c74-46a...|99929dc3-14c5-4c8...|3dff1281-cd66-47f...|\n",
      "|            3175|00a79be2-fafb-4bb...|268f0adc-8318-488...|1a9ea812-eaac-42e...|\n",
      "|            2366|c7508331-63f4-4a2...|4513acbf-2aea-408...|a82c937d-7373-423...|\n",
      "|             496|5f40b645-a701-43a...|b1b5659a-6dd0-44b...|8fb9efc8-2802-4c5...|\n",
      "|            3918|7932627d-3615-466...|54bb8895-4e7d-420...|9e1af12f-e6fd-483...|\n",
      "+----------------+--------------------+--------------------+--------------------+\n",
      "only showing top 20 rows\n",
      "\n"
     ]
    }
   ],
   "source": [
    "investments.show()"
   ]
  },
  {
   "cell_type": "code",
   "execution_count": 282,
   "id": "eb7d23bc-f16f-4877-a639-e3de29e262c4",
   "metadata": {},
   "outputs": [
    {
     "name": "stdout",
     "output_type": "stream",
     "text": [
      "===== Get only new data =====\n",
      "===== Start Extracting fct_investments data =====\n",
      "===== Success Extracting fct_investments data =====\n",
      "===== Already got only New Data  =====\n",
      "===== Start Loading fct_investments new data =====\n",
      "===== Success Loading fct_investments new data =====\n"
     ]
    }
   ],
   "source": [
    "load_dwh(investments,\"fct_investments\")"
   ]
  },
  {
   "cell_type": "code",
   "execution_count": null,
   "id": "b33d2f42-19c0-42d2-a83e-6cbd4e3ddaec",
   "metadata": {},
   "outputs": [],
   "source": []
  },
  {
   "cell_type": "code",
   "execution_count": null,
   "id": "71dcd33b-0e7d-4714-b506-4a9359f84bf0",
   "metadata": {},
   "outputs": [],
   "source": []
  }
 ],
 "metadata": {
  "kernelspec": {
   "display_name": "Python 3 (ipykernel)",
   "language": "python",
   "name": "python3"
  },
  "language_info": {
   "codemirror_mode": {
    "name": "ipython",
    "version": 3
   },
   "file_extension": ".py",
   "mimetype": "text/x-python",
   "name": "python",
   "nbconvert_exporter": "python",
   "pygments_lexer": "ipython3",
   "version": "3.11.6"
  }
 },
 "nbformat": 4,
 "nbformat_minor": 5
}
