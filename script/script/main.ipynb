{
 "cells": [
  {
   "cell_type": "code",
   "execution_count": 1,
   "id": "0d83bb3f-029b-409b-b925-5ee1a644abbb",
   "metadata": {},
   "outputs": [],
   "source": [
    "import pyspark\n",
    "from importlib import reload\n",
    "\n",
    "from pyspark.sql import SparkSession\n",
    "import os\n",
    "import pandas as pd\n",
    "import sys\n",
    "sys.path.insert(0, '/home/jovyan/work')\n",
    "from script.helper.db_conn import db_connection\n",
    "from datetime import datetime\n",
    "from datetime import timezone\n",
    "\n",
    "from script.helper.conn_prop import connection_properties\n",
    "from script.helper.init_spark import initiate_spark\n",
    "from script.etl.extract import *\n",
    "from script.etl.load import *\n",
    "import pandas as pd\n",
    "from pyspark.sql.functions import to_timestamp\n",
    "from pyspark.sql.functions import to_date"
   ]
  },
  {
   "cell_type": "code",
   "execution_count": 2,
   "id": "b450a9f5-2aa9-4e0e-b29b-960edef66d40",
   "metadata": {},
   "outputs": [
    {
     "name": "stdout",
     "output_type": "stream",
     "text": [
      "===== Start Extracting ../data/people.csv data =====\n",
      "===== Success Extracting ../data/people.csv data =====\n"
     ]
    }
   ],
   "source": [
    "\n",
    "people=extract_csv('../data/people.csv')"
   ]
  },
  {
   "cell_type": "code",
   "execution_count": 3,
   "id": "28598199-c402-4252-8450-ede89da9bcdb",
   "metadata": {},
   "outputs": [
    {
     "name": "stdout",
     "output_type": "stream",
     "text": [
      "===== Start Extracting ../data/relationship.csv data =====\n",
      "====== Failed to Extract Data ../data/relationship.csv ======,\n",
      " [PATH_NOT_FOUND] Path does not exist: file:/home/jovyan/work/data/relationship.csv.\n"
     ]
    }
   ],
   "source": [
    "relationships=extract_csv('../data/relationship.csv')"
   ]
  },
  {
   "cell_type": "code",
   "execution_count": 4,
   "id": "d846fc10-7877-408f-94e5-986e85efb378",
   "metadata": {},
   "outputs": [
    {
     "name": "stdout",
     "output_type": "stream",
     "text": [
      "===== Start Extracting ../data/relationships.csv data =====\n",
      "===== Success Extracting ../data/relationships.csv data =====\n"
     ]
    }
   ],
   "source": [
    "relationships=extract_csv('../data/relationships.csv')"
   ]
  },
  {
   "cell_type": "code",
   "execution_count": 5,
   "id": "d55afa73-0a05-41d0-9d33-6423d308e69d",
   "metadata": {},
   "outputs": [
    {
     "name": "stdout",
     "output_type": "stream",
     "text": [
      "===== Start Extracting acquisition data =====\n",
      "===== Success Extracting acquisition data =====\n",
      "===== Start Extracting company data =====\n",
      "===== Success Extracting company data =====\n",
      "===== Start Extracting funds data =====\n",
      "===== Success Extracting funds data =====\n",
      "===== Start Extracting investments data =====\n",
      "===== Success Extracting investments data =====\n",
      "===== Start Extracting ipos data =====\n",
      "===== Success Extracting ipos data =====\n",
      "===== Start Extracting funding_rounds data =====\n",
      "===== Success Extracting funding_rounds data =====\n"
     ]
    }
   ],
   "source": [
    "table_names=[\"acquisition\",\"company\",\"funds\",\"investments\",\"ipos\",\"funding_rounds\"]\n",
    "for name in table_names:\n",
    "    globals()[f'{name}']=extract_db_src(name)"
   ]
  },
  {
   "cell_type": "code",
   "execution_count": 6,
   "id": "4bbbb5c7-53a2-4444-a2ac-5f7c0d961c0a",
   "metadata": {},
   "outputs": [
    {
     "name": "stdout",
     "output_type": "stream",
     "text": [
      "+---------------+----------------+----------------------+--------------------+--------------------+-------+--------+--------------------+--------------------+--------------------+\n",
      "|relationship_id|person_object_id|relationship_object_id|            start_at|              end_at|is_past|sequence|               title|          created_at|          updated_at|\n",
      "+---------------+----------------+----------------------+--------------------+--------------------+-------+--------+--------------------+--------------------+--------------------+\n",
      "|              1|             p:2|                   c:1|                NULL|                NULL|  false|       8|Co-Founder/CEO/Bo...|2007-05-25 07:03:...|2013-06-03 09:58:...|\n",
      "|              2|             p:3|                   c:1|                NULL|                NULL|  false|  279242|        VP Marketing|2007-05-25 07:04:...|2010-05-21 16:31:...|\n",
      "|              3|             p:4|                   c:3|                NULL|                NULL|  false|       4|          Evangelist|2007-05-25 19:33:...|2013-06-29 13:36:...|\n",
      "|              4|             p:5|                   c:3|2006-03-01 00:00:...|2009-12-01 00:00:...|  false|       4|Senior Director S...|2007-05-25 19:34:...|2013-06-29 10:25:...|\n",
      "|              6|             p:7|                   c:4|2005-07-01 00:00:...|2010-04-05 00:00:...|  false|       1|Chief Executive O...|2007-05-25 20:05:...|2010-04-05 18:41:...|\n",
      "|              7|             p:8|                   c:4|                NULL|                NULL|  false|       1|Senior Software E...|2007-05-25 20:06:...|2010-01-12 01:13:...|\n",
      "|              8|             p:9|                   c:4|                NULL|                NULL|  false|       1|Systems Engineeri...|2007-05-25 20:07:...|2010-08-03 22:00:...|\n",
      "|              9|            p:10|                   c:5|                NULL|                NULL|  false|       1|Founder and CEO, ...|2007-05-25 21:51:...|2010-01-25 21:49:...|\n",
      "|             10|            p:11|                   c:5|                NULL|                NULL|  false|       1|          Co-Founder|2007-05-25 22:15:...|2011-08-11 23:48:...|\n",
      "|             11|            p:12|                   c:5|                NULL|                NULL|  false|       3|Chief Revenue Off...|2007-05-25 22:15:...|2010-01-25 21:49:...|\n",
      "|             12|            p:13|                   c:5|                NULL|                NULL|  false|       1|VP of Product Man...|2007-05-25 22:16:...|2010-01-25 21:49:...|\n",
      "|             13|            p:14|                   c:5|1993-07-04 00:00:...|1982-02-28 00:00:...|  false|       1|          Co-founder|2007-05-25 22:17:...|2010-09-01 18:15:...|\n",
      "|             14|            p:16|                c:7299|                NULL|                NULL|  false|       2|     Founder and CEO|2007-05-26 12:44:...|2011-07-19 00:05:...|\n",
      "|             15|            p:17|                c:7299|                NULL|                NULL|  false|       2|  Co-founder and CTO|2007-05-26 12:45:...|2011-07-19 00:05:...|\n",
      "|             16|            p:18|                c:7299|2005-09-01 00:00:...|2009-10-01 00:00:...|  false|       1|SVP, Technology a...|2007-05-26 12:47:...|2011-07-19 00:05:...|\n",
      "|             17|            p:19|                c:7299|2006-08-01 00:00:...|2009-08-01 00:00:...|  false|       8|VP, Finance & Adm...|2007-05-26 12:47:...|2011-10-28 03:08:...|\n",
      "|             18|            p:20|                c:7299|                NULL|                NULL|  false|       1|           VP, Sales|2007-05-26 12:48:...|2011-07-19 00:05:...|\n",
      "|             19|            p:21|                c:7299|                NULL|                NULL|  false|       1|VP, Customer Service|2007-05-26 12:49:...|2011-07-19 00:05:...|\n",
      "|             20|            p:22|                c:7299|2005-10-01 00:00:...|2008-03-01 00:00:...|  false|       1|VP, Business Deve...|2007-05-26 12:49:...|2013-08-07 08:51:...|\n",
      "|             21|            p:23|                c:7299|                NULL|                NULL|  false|       1|     VP, Engineering|2007-05-26 12:50:...|2011-07-19 00:05:...|\n",
      "+---------------+----------------+----------------------+--------------------+--------------------+-------+--------+--------------------+--------------------+--------------------+\n",
      "only showing top 20 rows\n",
      "\n"
     ]
    }
   ],
   "source": [
    "relationships.show()"
   ]
  },
  {
   "cell_type": "code",
   "execution_count": 7,
   "id": "516e88ca-e249-4bf5-8885-4b694bb238cb",
   "metadata": {},
   "outputs": [
    {
     "name": "stdout",
     "output_type": "stream",
     "text": [
      "+---------+---------+----------+----------+--------------------+--------------------+\n",
      "|people_id|object_id|first_name| last_name|          birthplace|    affiliation_name|\n",
      "+---------+---------+----------+----------+--------------------+--------------------+\n",
      "|        1|      p:2|       Ben|   Elowitz|                NULL|           Blue Nile|\n",
      "|        2|      p:3|     Kevin|  Flaherty|                NULL|            Wetpaint|\n",
      "|        3|      p:4|      Raju|   Vegesna|                NULL|                Zoho|\n",
      "|        4|      p:5|       Ian|     Wenig|                NULL|                Zoho|\n",
      "|        5|      p:6|     Kevin|      Rose|         Redding, CA|        i/o Ventures|\n",
      "|        6|      p:7|       Jay|   Adelson|         Detroit, MI|                Digg|\n",
      "|        7|      p:8|      Owen|     Byrne|                NULL|                Digg|\n",
      "|        8|      p:9|       Ron|Gorodetzky|                NULL|                Digg|\n",
      "|        9|     p:10|      Mark|Zuckerberg|                NULL|            Facebook|\n",
      "|       10|     p:11|    Dustin| Moskovitz|     Gainesville, FL|            Facebook|\n",
      "|       11|     p:12|      Owen| Van Natta|                NULL|               Asana|\n",
      "|       12|     p:13|      Matt|    Cohler|                NULL|            LinkedIn|\n",
      "|       13|     p:14|     Chris|    Hughes|Hickery, North Ca...|General Catalyst ...|\n",
      "|       14|     p:16|      Alex|     Welch|                NULL|            C7 Group|\n",
      "|       15|     p:17|    Darren|   Crystal|                NULL|         Photobucket|\n",
      "|       16|     p:18|   Michael|     Clark|                NULL|   Photobucket (Old)|\n",
      "|       17|     p:19|      Greg|    Wimmer|                NULL|         Photobucket|\n",
      "|       18|     p:20|     Peter|    Foster|                NULL|         Photobucket|\n",
      "|       19|     p:21|   Heather|      Dana|                NULL|         Photobucket|\n",
      "|       20|     p:22|     Peter|      Pham|                NULL|   Photobucket, Inc.|\n",
      "+---------+---------+----------+----------+--------------------+--------------------+\n",
      "only showing top 20 rows\n",
      "\n"
     ]
    }
   ],
   "source": [
    "people.show()"
   ]
  },
  {
   "cell_type": "code",
   "execution_count": 8,
   "id": "519bfe38-9342-488b-ba96-989ca72ce5bf",
   "metadata": {},
   "outputs": [],
   "source": [
    "step=\"Data Staging\"\n",
    "process=\"Load\"\n",
    "\n"
   ]
  },
  {
   "cell_type": "code",
   "execution_count": 9,
   "id": "94ef2b57-8d3c-45fb-8314-82eab92eec98",
   "metadata": {},
   "outputs": [
    {
     "name": "stdout",
     "output_type": "stream",
     "text": [
      "===== Get only new data =====\n",
      "===== Start Extracting people data =====\n",
      "===== Success Extracting people data =====\n",
      "===== Already got only New Data  =====\n",
      "===== Start Loading people new data =====\n",
      "===== Success Loading people new data =====\n"
     ]
    }
   ],
   "source": [
    "load_stg(people,\"people\")"
   ]
  },
  {
   "cell_type": "code",
   "execution_count": 10,
   "id": "8d889ef2-0b1c-4b33-bbce-3ea75a24629c",
   "metadata": {},
   "outputs": [
    {
     "data": {
      "text/plain": [
       "[('people_id', 'string'),\n",
       " ('object_id', 'string'),\n",
       " ('first_name', 'string'),\n",
       " ('last_name', 'string'),\n",
       " ('birthplace', 'string'),\n",
       " ('affiliation_name', 'string')]"
      ]
     },
     "execution_count": 10,
     "metadata": {},
     "output_type": "execute_result"
    }
   ],
   "source": [
    "people.dtypes"
   ]
  },
  {
   "cell_type": "code",
   "execution_count": 11,
   "id": "8a256b31-0b39-4a85-9a0c-a7bc0259ce45",
   "metadata": {},
   "outputs": [
    {
     "data": {
      "text/plain": [
       "[('relationship_id', 'string'),\n",
       " ('person_object_id', 'string'),\n",
       " ('relationship_object_id', 'string'),\n",
       " ('start_at', 'string'),\n",
       " ('end_at', 'string'),\n",
       " ('is_past', 'string'),\n",
       " ('sequence', 'string'),\n",
       " ('title', 'string'),\n",
       " ('created_at', 'string'),\n",
       " ('updated_at', 'string')]"
      ]
     },
     "execution_count": 11,
     "metadata": {},
     "output_type": "execute_result"
    }
   ],
   "source": [
    "relationships.dtypes"
   ]
  },
  {
   "cell_type": "code",
   "execution_count": 12,
   "id": "c9eccefb-c8d0-4e0d-9b34-8b7bf431958b",
   "metadata": {},
   "outputs": [],
   "source": [
    "\n",
    "\n",
    "relationships=relationships.withColumn(\"start_at\",to_date( relationships['start_at'], \"yyyy-mm-dd\")) \n",
    "relationships=relationships.withColumn(\"end_at\",to_date( relationships['end_at'], \"yyyy-mm-dd\")) \n",
    "relationships=relationships.withColumn(\"created_at\",to_timestamp( relationships['created_at'], \"yyyy-mm-dd HH:mm:ss\")) \n",
    "relationships=relationships.withColumn(\"updated_at\",to_timestamp( relationships['updated_at'], \"yyyy-mm-dd HH:mm:ss\")) "
   ]
  },
  {
   "cell_type": "code",
   "execution_count": 13,
   "id": "0a7ac2fd-378d-454c-b5ae-2ad8e61e35fd",
   "metadata": {},
   "outputs": [
    {
     "name": "stdout",
     "output_type": "stream",
     "text": [
      "+---------------+----------------+----------------------+----------+----------+-------+--------+--------------------+-------------------+-------------------+\n",
      "|relationship_id|person_object_id|relationship_object_id|  start_at|    end_at|is_past|sequence|               title|         created_at|         updated_at|\n",
      "+---------------+----------------+----------------------+----------+----------+-------+--------+--------------------+-------------------+-------------------+\n",
      "|              1|             p:2|                   c:1|      NULL|      NULL|  false|       8|Co-Founder/CEO/Bo...|2007-01-25 07:03:54|2013-01-03 09:58:46|\n",
      "|              2|             p:3|                   c:1|      NULL|      NULL|  false|  279242|        VP Marketing|2007-01-25 07:04:16|2010-01-21 16:31:34|\n",
      "|              3|             p:4|                   c:3|      NULL|      NULL|  false|       4|          Evangelist|2007-01-25 19:33:03|2013-01-29 13:36:58|\n",
      "|              4|             p:5|                   c:3|2006-01-01|2009-01-01|  false|       4|Senior Director S...|2007-01-25 19:34:53|2013-01-29 10:25:34|\n",
      "|              6|             p:7|                   c:4|2005-01-01|2010-01-05|  false|       1|Chief Executive O...|2007-01-25 20:05:33|2010-01-05 18:41:41|\n",
      "|              7|             p:8|                   c:4|      NULL|      NULL|  false|       1|Senior Software E...|2007-01-25 20:06:45|2010-01-12 01:13:29|\n",
      "|              8|             p:9|                   c:4|      NULL|      NULL|  false|       1|Systems Engineeri...|2007-01-25 20:07:50|2010-01-03 22:00:58|\n",
      "|              9|            p:10|                   c:5|      NULL|      NULL|  false|       1|Founder and CEO, ...|2007-01-25 21:51:46|2010-01-25 21:49:44|\n",
      "|             10|            p:11|                   c:5|      NULL|      NULL|  false|       1|          Co-Founder|2007-01-25 22:15:05|2011-01-11 23:48:45|\n",
      "|             11|            p:12|                   c:5|      NULL|      NULL|  false|       3|Chief Revenue Off...|2007-01-25 22:15:59|2010-01-25 21:49:45|\n",
      "|             12|            p:13|                   c:5|      NULL|      NULL|  false|       1|VP of Product Man...|2007-01-25 22:16:59|2010-01-25 21:49:45|\n",
      "|             13|            p:14|                   c:5|1993-01-04|1982-01-28|  false|       1|          Co-founder|2007-01-25 22:17:27|2010-01-01 18:15:45|\n",
      "|             14|            p:16|                c:7299|      NULL|      NULL|  false|       2|     Founder and CEO|2007-01-26 12:44:52|2011-01-19 00:05:01|\n",
      "|             15|            p:17|                c:7299|      NULL|      NULL|  false|       2|  Co-founder and CTO|2007-01-26 12:45:46|2011-01-19 00:05:01|\n",
      "|             16|            p:18|                c:7299|2005-01-01|2009-01-01|  false|       1|SVP, Technology a...|2007-01-26 12:47:13|2011-01-19 00:05:01|\n",
      "|             17|            p:19|                c:7299|2006-01-01|2009-01-01|  false|       8|VP, Finance & Adm...|2007-01-26 12:47:49|2011-01-28 03:08:15|\n",
      "|             18|            p:20|                c:7299|      NULL|      NULL|  false|       1|           VP, Sales|2007-01-26 12:48:20|2011-01-19 00:05:01|\n",
      "|             19|            p:21|                c:7299|      NULL|      NULL|  false|       1|VP, Customer Service|2007-01-26 12:49:23|2011-01-19 00:05:01|\n",
      "|             20|            p:22|                c:7299|2005-01-01|2008-01-01|  false|       1|VP, Business Deve...|2007-01-26 12:49:45|2013-01-07 08:51:20|\n",
      "|             21|            p:23|                c:7299|      NULL|      NULL|  false|       1|     VP, Engineering|2007-01-26 12:50:11|2011-01-19 00:05:02|\n",
      "+---------------+----------------+----------------------+----------+----------+-------+--------+--------------------+-------------------+-------------------+\n",
      "only showing top 20 rows\n",
      "\n"
     ]
    }
   ],
   "source": [
    "relationships.show()"
   ]
  },
  {
   "cell_type": "code",
   "execution_count": 14,
   "id": "b6a34007-e10e-4864-96da-6785a7848f93",
   "metadata": {},
   "outputs": [
    {
     "data": {
      "text/plain": [
       "[('relationship_id', 'string'),\n",
       " ('person_object_id', 'string'),\n",
       " ('relationship_object_id', 'string'),\n",
       " ('start_at', 'date'),\n",
       " ('end_at', 'date'),\n",
       " ('is_past', 'string'),\n",
       " ('sequence', 'string'),\n",
       " ('title', 'string'),\n",
       " ('created_at', 'timestamp'),\n",
       " ('updated_at', 'timestamp')]"
      ]
     },
     "execution_count": 14,
     "metadata": {},
     "output_type": "execute_result"
    }
   ],
   "source": [
    "relationships.dtypes"
   ]
  },
  {
   "cell_type": "code",
   "execution_count": 15,
   "id": "71d009d8-834e-4814-bc1f-b3e347c36015",
   "metadata": {},
   "outputs": [
    {
     "name": "stdout",
     "output_type": "stream",
     "text": [
      "===== Get only new data =====\n",
      "===== Start Extracting relationships data =====\n",
      "===== Success Extracting relationships data =====\n",
      "===== Already got only New Data  =====\n",
      "===== Start Loading relationships new data =====\n",
      "===== Success Loading relationships new data =====\n"
     ]
    }
   ],
   "source": [
    "load_stg(relationships,\"relationships\")"
   ]
  },
  {
   "cell_type": "code",
   "execution_count": 16,
   "id": "2350f424-1aad-4de8-bc61-54d5bb8e8112",
   "metadata": {
    "scrolled": true
   },
   "outputs": [
    {
     "name": "stdout",
     "output_type": "stream",
     "text": [
      "===== Get only new data =====\n",
      "===== Start Extracting acquisition data =====\n",
      "===== Success Extracting acquisition data =====\n",
      "===== Already got only New Data  =====\n",
      "===== Start Loading acquisition new data =====\n",
      "===== Success Loading acquisition new data =====\n",
      "===== Get only new data =====\n",
      "===== Start Extracting company data =====\n",
      "===== Success Extracting company data =====\n",
      "===== Already got only New Data  =====\n",
      "===== Start Loading company new data =====\n",
      "===== Success Loading company new data =====\n",
      "===== Get only new data =====\n",
      "===== Start Extracting funds data =====\n",
      "===== Success Extracting funds data =====\n",
      "===== Already got only New Data  =====\n",
      "===== Start Loading funds new data =====\n",
      "===== Success Loading funds new data =====\n",
      "===== Get only new data =====\n",
      "===== Start Extracting investments data =====\n",
      "===== Success Extracting investments data =====\n",
      "===== Already got only New Data  =====\n",
      "===== Start Loading investments new data =====\n",
      "===== Success Loading investments new data =====\n",
      "===== Get only new data =====\n",
      "===== Start Extracting ipos data =====\n",
      "===== Success Extracting ipos data =====\n",
      "===== Already got only New Data  =====\n",
      "===== Start Loading ipos new data =====\n",
      "===== Success Loading ipos new data =====\n",
      "===== Get only new data =====\n",
      "===== Start Extracting funding_rounds data =====\n",
      "===== Success Extracting funding_rounds data =====\n",
      "===== Already got only New Data  =====\n",
      "===== Start Loading funding_rounds new data =====\n",
      "===== Success Loading funding_rounds new data =====\n"
     ]
    }
   ],
   "source": [
    "table_names=[\"acquisition\",\"company\",\"funds\",\"investments\",\"ipos\",\"funding_rounds\"]\n",
    "for name in table_names:\n",
    "    load_stg(globals()[f'{name}'],name)"
   ]
  },
  {
   "cell_type": "markdown",
   "id": "d500a150-552b-4d60-8b02-bc7f0b65a5f5",
   "metadata": {},
   "source": [
    "# DATA STAGING ETL"
   ]
  },
  {
   "cell_type": "markdown",
   "id": "3ee3d74a-fc0a-4e04-b41b-56e6acc50e4c",
   "metadata": {},
   "source": [
    "## EXTRACT"
   ]
  },
  {
   "cell_type": "code",
   "execution_count": 118,
   "id": "e88c1ad7-76e5-43ee-a075-6325acddccc0",
   "metadata": {},
   "outputs": [
    {
     "name": "stdout",
     "output_type": "stream",
     "text": [
      "===== Start Extracting people data =====\n",
      "===== Success Extracting people data =====\n",
      "===== Start Extracting relationships data =====\n",
      "===== Success Extracting relationships data =====\n",
      "===== Start Extracting acquisition data =====\n",
      "===== Success Extracting acquisition data =====\n",
      "===== Start Extracting company data =====\n",
      "===== Success Extracting company data =====\n",
      "===== Start Extracting funds data =====\n",
      "===== Success Extracting funds data =====\n",
      "===== Start Extracting investments data =====\n",
      "===== Success Extracting investments data =====\n",
      "===== Start Extracting ipos data =====\n",
      "===== Success Extracting ipos data =====\n",
      "===== Start Extracting funding_rounds data =====\n",
      "===== Success Extracting funding_rounds data =====\n"
     ]
    }
   ],
   "source": [
    "table_names=[\"people\",\"relationships\",\"acquisition\",\"company\",\"funds\",\"investments\",\"ipos\",\"funding_rounds\"]\n",
    "for name in table_names:\n",
    "    globals()[f'stg_{name}']=extract_db_stg(name)"
   ]
  },
  {
   "cell_type": "code",
   "execution_count": 18,
   "id": "c69f72e7-5e41-4106-9eda-ef1ac3fd7da8",
   "metadata": {},
   "outputs": [],
   "source": [
    "dim_term_code=stg_acquisition.select(stg_acquisition['term_code']).distinct()\n"
   ]
  },
  {
   "cell_type": "code",
   "execution_count": 19,
   "id": "53b0b212-34d1-499b-ba97-c14bedc973d3",
   "metadata": {},
   "outputs": [
    {
     "name": "stdout",
     "output_type": "stream",
     "text": [
      "===== Get only new data =====\n",
      "===== Start Extracting dim_term_code data =====\n",
      "===== Success Extracting dim_term_code data =====\n",
      "===== Already got only New Data  =====\n",
      "===== Start Loading dim_term_code new data =====\n",
      "===== Success Loading dim_term_code new data =====\n"
     ]
    }
   ],
   "source": [
    "load_dwh(dim_term_code,\"dim_term_code\")"
   ]
  },
  {
   "cell_type": "code",
   "execution_count": 20,
   "id": "34bc6488-6508-4398-9f53-cc31594b5227",
   "metadata": {},
   "outputs": [],
   "source": [
    "stock_symbol=stg_ipos.select(stg_ipos['stock_symbol']).distinct()\n"
   ]
  },
  {
   "cell_type": "code",
   "execution_count": 21,
   "id": "1aa193db-ba6a-4294-916c-1032257d4c0c",
   "metadata": {},
   "outputs": [
    {
     "name": "stdout",
     "output_type": "stream",
     "text": [
      "===== Get only new data =====\n",
      "===== Start Extracting dim_stock_symbol data =====\n",
      "===== Success Extracting dim_stock_symbol data =====\n",
      "===== Already got only New Data  =====\n",
      "===== Start Loading dim_stock_symbol new data =====\n",
      "===== Success Loading dim_stock_symbol new data =====\n"
     ]
    }
   ],
   "source": [
    "load_dwh(stock_symbol,\"dim_stock_symbol\")"
   ]
  },
  {
   "cell_type": "code",
   "execution_count": 22,
   "id": "901a018c-24d1-4c3a-a7a8-c6c185a59e18",
   "metadata": {},
   "outputs": [],
   "source": [
    "RENAME_COLS = {\n",
    "                \"office_id\": \"company_nk_id\"}\n",
    "dim_company = stg_company.withColumnsRenamed(colsMap = RENAME_COLS)"
   ]
  },
  {
   "cell_type": "code",
   "execution_count": 23,
   "id": "4ec722ef-9513-4539-8eb2-4c5ed9aaf544",
   "metadata": {},
   "outputs": [],
   "source": [
    "columns_to_drop = ['created_at', 'updated_at']\n",
    "dim_company = dim_company.drop(*columns_to_drop)\n"
   ]
  },
  {
   "cell_type": "code",
   "execution_count": 24,
   "id": "bf551d41-566d-4aa8-9982-68f0097f87cd",
   "metadata": {},
   "outputs": [
    {
     "name": "stdout",
     "output_type": "stream",
     "text": [
      "===== Get only new data =====\n",
      "===== Start Extracting dim_company data =====\n",
      "===== Success Extracting dim_company data =====\n",
      "===== Already got only New Data  =====\n",
      "===== Start Loading dim_company new data =====\n",
      "===== Success Loading dim_company new data =====\n"
     ]
    }
   ],
   "source": [
    "load_dwh(dim_company,\"dim_company\")"
   ]
  },
  {
   "cell_type": "code",
   "execution_count": 25,
   "id": "05db6c3c-addf-4158-a74e-65df6cde8356",
   "metadata": {},
   "outputs": [],
   "source": [
    "RENAME_COLS = {\n",
    "                \"people_id\": \"people_nk_id\"}\n",
    "dim_people = stg_people.withColumnsRenamed(colsMap = RENAME_COLS)\n",
    "columns_to_drop = ['created_at', 'updated_at']\n",
    "dim_people = dim_people.drop(*columns_to_drop)"
   ]
  },
  {
   "cell_type": "code",
   "execution_count": 26,
   "id": "4741e682-ec9f-4ffb-8044-94ec64b272f0",
   "metadata": {},
   "outputs": [],
   "source": [
    "dim_people=dim_people.withColumn(\"people_nk_id\",dim_people [\"people_nk_id\"].cast(\"int\"))"
   ]
  },
  {
   "cell_type": "code",
   "execution_count": 27,
   "id": "8f429f9e-8b99-453b-a015-c51d69c0030e",
   "metadata": {},
   "outputs": [
    {
     "data": {
      "text/plain": [
       "[('people_nk_id', 'int'),\n",
       " ('first_name', 'string'),\n",
       " ('last_name', 'string'),\n",
       " ('birthplace', 'string'),\n",
       " ('affiliation_name', 'string')]"
      ]
     },
     "execution_count": 27,
     "metadata": {},
     "output_type": "execute_result"
    }
   ],
   "source": [
    "dim_people.dtypes"
   ]
  },
  {
   "cell_type": "code",
   "execution_count": 28,
   "id": "a5d74605-7079-4f18-bd25-84ddf8eb66ea",
   "metadata": {},
   "outputs": [
    {
     "name": "stdout",
     "output_type": "stream",
     "text": [
      "===== Get only new data =====\n",
      "===== Start Extracting dim_people data =====\n",
      "===== Success Extracting dim_people data =====\n",
      "===== Already got only New Data  =====\n",
      "===== Start Loading dim_people new data =====\n",
      "===== Success Loading dim_people new data =====\n"
     ]
    }
   ],
   "source": [
    "load_dwh(dim_people,\"dim_people\")"
   ]
  },
  {
   "cell_type": "code",
   "execution_count": 29,
   "id": "e4a3eb5d-e26f-4e7c-9af0-0f4fd6cfb20d",
   "metadata": {},
   "outputs": [
    {
     "name": "stdout",
     "output_type": "stream",
     "text": [
      "+------------+-------------+----------+-------------+--------------------+\n",
      "|people_nk_id|   first_name| last_name|   birthplace|    affiliation_name|\n",
      "+------------+-------------+----------+-------------+--------------------+\n",
      "|         385|      Matthew|   Sanchez|         NULL|            VideoEgg|\n",
      "|         517|         Carl| Showalter|         NULL|        Opus Capital|\n",
      "|         935|        Vipin|      Jain|         NULL|             Retrevo|\n",
      "|        1216|      Harvard|     Young|         NULL|     Pringo Networks|\n",
      "|        1439|       Jeremy|    Suriel|         NULL|               Goowy|\n",
      "|        1540| Olana Hirsch|      Khan|         NULL|                Kiva|\n",
      "|        1541|       Chelsa|     Bocci|         NULL|                Kiva|\n",
      "|        1668|      Michael|    Monero|         NULL|   Community Connect|\n",
      "|        1820|         Andy|     Jenks|         NULL|Swatchbox Technol...|\n",
      "|        1916|      Derrick|    Morton|         NULL|            FlowPlay|\n",
      "|        2516|          Les|   Maguire|         NULL|        Unaffiliated|\n",
      "|        2666|          Jay|     Reitz|         NULL|          YieldBuild|\n",
      "|        2667|         Paul|     Deeds|Michigan, USA|            HubPages|\n",
      "|        3010|Mickey McClay|    Wilson|         NULL|       CNET Networks|\n",
      "|        3348|         Greg|     Blatt|         NULL|                 IAC|\n",
      "|        3353|         Stan|Chudnovsky|       Moscow|          WonderHill|\n",
      "|        3503|       Robert|     Kalin|         NULL|                Etsy|\n",
      "|        3758|       Sushma|    Abburi|         NULL|           Minglebox|\n",
      "|        3926|          Ron|    Wiener|         NULL|    Earth Class Mail|\n",
      "|        4116|        Steve|   Purdham|         NULL|                 we7|\n",
      "+------------+-------------+----------+-------------+--------------------+\n",
      "only showing top 20 rows\n",
      "\n"
     ]
    }
   ],
   "source": [
    "dim_people.show()"
   ]
  },
  {
   "cell_type": "code",
   "execution_count": 119,
   "id": "43c7831b-aa93-4b51-85e8-7c4c38e47d3b",
   "metadata": {},
   "outputs": [
    {
     "name": "stdout",
     "output_type": "stream",
     "text": [
      "===== Start Extracting dim_time data =====\n",
      "===== Success Extracting dim_time data =====\n"
     ]
    }
   ],
   "source": [
    "dim_time=extract_db_dwh(\"dim_time\",step=\"Transform\",process=\"Extract DWH for joining\")"
   ]
  },
  {
   "cell_type": "code",
   "execution_count": 120,
   "id": "ce7dcd01-b8ea-4816-8d2f-cb4978cde65e",
   "metadata": {},
   "outputs": [
    {
     "name": "stdout",
     "output_type": "stream",
     "text": [
      "===== Start Extracting dim_people data =====\n",
      "===== Success Extracting dim_people data =====\n"
     ]
    }
   ],
   "source": [
    "dim_people=extract_db_dwh(\"dim_people\",step=\"Transform\",process=\"Extract DWH for joining\")"
   ]
  },
  {
   "cell_type": "code",
   "execution_count": 132,
   "id": "aa9acbc3-aed4-4597-9f65-a67a455769df",
   "metadata": {},
   "outputs": [
    {
     "name": "stdout",
     "output_type": "stream",
     "text": [
      "===== Start Extracting dim_company data =====\n",
      "===== Success Extracting dim_company data =====\n"
     ]
    }
   ],
   "source": [
    "dim_company=extract_db_dwh(\"dim_company\",step=\"Transform\",process=\"Extract DWH for joining\")"
   ]
  },
  {
   "cell_type": "code",
   "execution_count": 122,
   "id": "da47ee74-6db2-454d-a2e6-9cfde17c805a",
   "metadata": {},
   "outputs": [
    {
     "name": "stdout",
     "output_type": "stream",
     "text": [
      "===== Start Extracting dim_date data =====\n",
      "===== Success Extracting dim_date data =====\n"
     ]
    }
   ],
   "source": [
    "dim_date=extract_db_dwh(\"dim_date\",step=\"Transform\",process=\"Extract DWH for joining\")"
   ]
  },
  {
   "cell_type": "code",
   "execution_count": 134,
   "id": "01d7a79a-85bc-459e-80bb-99da4e7db5d8",
   "metadata": {},
   "outputs": [],
   "source": [
    "dim_date=dim_date.select(['date_id','date_actual'])\n",
    "dim_company=dim_company.select(['company_id','object_id'])"
   ]
  },
  {
   "cell_type": "code",
   "execution_count": 124,
   "id": "1676a176-a46e-4320-b0e9-63cc81807c1f",
   "metadata": {},
   "outputs": [
    {
     "data": {
      "text/plain": [
       "[('relationship_id', 'string'),\n",
       " ('person_object_id', 'string'),\n",
       " ('relationship_object_id', 'string'),\n",
       " ('is_past', 'string'),\n",
       " ('sequence', 'string'),\n",
       " ('title', 'string'),\n",
       " ('start_at', 'int'),\n",
       " ('end_at', 'int'),\n",
       " ('company_id', 'string'),\n",
       " ('company_nk_id', 'int')]"
      ]
     },
     "execution_count": 124,
     "metadata": {},
     "output_type": "execute_result"
    }
   ],
   "source": [
    "relationships.dtypes"
   ]
  },
  {
   "cell_type": "code",
   "execution_count": 142,
   "id": "6f1f9fc7-858d-494d-b22a-6c1d40ff78a6",
   "metadata": {},
   "outputs": [],
   "source": [
    "relationships=stg_relationships.join(dim_date, stg_relationships.start_at == dim_date.date_actual, 'left')"
   ]
  },
  {
   "cell_type": "code",
   "execution_count": 143,
   "id": "fc3429d7-3ebe-4766-8392-c75708389afd",
   "metadata": {},
   "outputs": [],
   "source": [
    "columns_to_drop = ['created_at', 'updated_at','date_actual','start_at']\n",
    "relationships = relationships.drop(*columns_to_drop)\n",
    "RENAME_COLS = {\n",
    "                \"date_id\": \"start_at\"}\n",
    "relationships = relationships.withColumnsRenamed(colsMap = RENAME_COLS)\n"
   ]
  },
  {
   "cell_type": "code",
   "execution_count": 144,
   "id": "4990c6f3-f01b-4023-8afc-ae4c9ab64157",
   "metadata": {},
   "outputs": [],
   "source": [
    "relationships=relationships.join(dim_date, relationships.end_at == dim_date.date_actual, 'left')"
   ]
  },
  {
   "cell_type": "code",
   "execution_count": 145,
   "id": "f79246bc-22d0-48ed-a0f0-68b8b04818a5",
   "metadata": {},
   "outputs": [],
   "source": [
    "columns_to_drop = ['date_actual','end_at']\n",
    "relationships = relationships.drop(*columns_to_drop)\n",
    "RENAME_COLS = {\n",
    "                \"date_id\": \"end_at\"}\n",
    "relationships = relationships.withColumnsRenamed(colsMap = RENAME_COLS)"
   ]
  },
  {
   "cell_type": "code",
   "execution_count": 146,
   "id": "afd4e845-35ac-4c21-8cde-b319b0ad4ece",
   "metadata": {},
   "outputs": [],
   "source": [
    "relationships=relationships.join(dim_company, relationships.relationship_object_id == dim_company.object_id, 'left')\n"
   ]
  },
  {
   "cell_type": "code",
   "execution_count": 148,
   "id": "6e4b165f-9568-41f1-976e-d5531fdc962a",
   "metadata": {},
   "outputs": [],
   "source": [
    "columns_to_drop = ['relationship_object_id','object_id']\n",
    "relationships = relationships.drop(*columns_to_drop)\n",
    "RENAME_COLS = {\n",
    "                \"company_id\": \"relationship_object_id\"}\n",
    "relationships = relationships.withColumnsRenamed(colsMap = RENAME_COLS)"
   ]
  },
  {
   "cell_type": "code",
   "execution_count": 149,
   "id": "545bd0f9-09c8-4510-b3fd-eb9e3ca6fd58",
   "metadata": {},
   "outputs": [
    {
     "name": "stdout",
     "output_type": "stream",
     "text": [
      "+---------------+----------------+-------+--------+--------------------+--------+--------+----------------------+\n",
      "|relationship_id|person_object_id|is_past|sequence|               title|start_at|  end_at|relationship_object_id|\n",
      "+---------------+----------------+-------+--------+--------------------+--------+--------+----------------------+\n",
      "|           1352|          p:1279|  false|       2|          Co-founder|    NULL|    NULL|  990cdbe4-3cff-464...|\n",
      "|           1503|          p:1512|  false|       1|          Co-founder|    NULL|    NULL|  932faf22-fff8-4f3...|\n",
      "|            400|           p:384|  false|       3|          Co-Founder|    NULL|    NULL|  1fe2b54f-d225-429...|\n",
      "|             62|            p:61|  false|       5|SVP Product Marke...|20120101|20130101|  35c0b8bc-e6bf-4a7...|\n",
      "|           1189|          p:1119|  false|       1|               Board|    NULL|    NULL|  d55a526b-16f4-46c...|\n",
      "|           2462|          p:2461|  false|       2|          Co-founder|    NULL|    NULL|  5164835f-1757-40a...|\n",
      "|            704|           p:670|  false|       4|Founder and Senio...|    NULL|    NULL|  242c9462-f289-47f...|\n",
      "|           5070|          p:4707|  false|       3|            Investor|    NULL|    NULL|  a3a376a0-db06-42d...|\n",
      "|            883|           p:833|  false|       1|VP of Business De...|    NULL|    NULL|  7eb8966b-c907-42e...|\n",
      "|            775|           p:440|  false|       4|               Board|    NULL|    NULL|  b222890f-3ad3-413...|\n",
      "|           5077|          p:4881|  false|       1|               Board|    NULL|    NULL|  3b247ffe-9868-431...|\n",
      "|           2432|          p:2434|  false|       1|       Founder & CEO|    NULL|    NULL|  70e90f83-c538-44f...|\n",
      "|           1395|          p:1408|  false|       1|                 COO|    NULL|    NULL|  4f2aeb14-6abf-4c1...|\n",
      "|           4251|          p:4113|  false|       3|                 COO|    NULL|    NULL|  51c883a5-ea40-459...|\n",
      "|           3302|          p:3221|  false|       1|VP, Product and M...|    NULL|    NULL|  cf80d60e-2142-425...|\n",
      "|           2970|          p:2922|  false|       1|               Board|    NULL|    NULL|  04a134ce-2aff-4dd...|\n",
      "|           4872|          p:4692|  false|       1|Chief Technology ...|    NULL|    NULL|  cdfc127c-ae4c-446...|\n",
      "|            146|           p:142|  false|       2|Sr. Director of M...|20060105|    NULL|  2cdd0860-464f-4eb...|\n",
      "|           3271|          p:3191|  false|       3|   President and CEO|20020101|20050101|  3c2b3210-48bf-480...|\n",
      "|            734|           p:700|  false|       1|           cofounder|    NULL|    NULL|  7900acb0-c2d5-448...|\n",
      "+---------------+----------------+-------+--------+--------------------+--------+--------+----------------------+\n",
      "only showing top 20 rows\n",
      "\n"
     ]
    }
   ],
   "source": [
    "relationships.show()"
   ]
  },
  {
   "cell_type": "code",
   "execution_count": 65,
   "id": "63c89c80-1418-45cf-b2b3-01fe750976e3",
   "metadata": {},
   "outputs": [],
   "source": [
    "from pyspark.sql.functions import *\n"
   ]
  },
  {
   "cell_type": "code",
   "execution_count": 82,
   "id": "76adc0f3-52b2-4f68-9658-daff908780a9",
   "metadata": {},
   "outputs": [],
   "source": [
    "relationships=stg_relationships.withColumn(\"start_at\",(date_format(stg_relationships['start_at'],\"yyyy-MM-dd\").cast(\"date\")))"
   ]
  },
  {
   "cell_type": "code",
   "execution_count": 81,
   "id": "eb5f7efa-c889-487c-97bb-98521f8787b5",
   "metadata": {},
   "outputs": [
    {
     "name": "stdout",
     "output_type": "stream",
     "text": [
      "+-----------------------------------------------+\n",
      "|CAST(date_format(start_at, yyyy-MM-dd) AS DATE)|\n",
      "+-----------------------------------------------+\n",
      "|                                     2012-01-01|\n",
      "|                                           NULL|\n",
      "|                                           NULL|\n",
      "|                                           NULL|\n",
      "|                                           NULL|\n",
      "|                                           NULL|\n",
      "|                                           NULL|\n",
      "|                                           NULL|\n",
      "|                                           NULL|\n",
      "|                                           NULL|\n",
      "|                                           NULL|\n",
      "|                                           NULL|\n",
      "|                                           NULL|\n",
      "|                                           NULL|\n",
      "|                                     2002-01-01|\n",
      "|                                           NULL|\n",
      "|                                           NULL|\n",
      "|                                     2006-01-05|\n",
      "|                                           NULL|\n",
      "|                                           NULL|\n",
      "+-----------------------------------------------+\n",
      "only showing top 20 rows\n",
      "\n"
     ]
    }
   ],
   "source": [
    "stg_relationships.select(date_format(col('start_at'),\"yyyy-MM-dd\").cast(\"date\")).show()"
   ]
  },
  {
   "cell_type": "code",
   "execution_count": 86,
   "id": "19ffab8f-debb-4d33-ac8e-1ae8aa766283",
   "metadata": {},
   "outputs": [
    {
     "name": "stdout",
     "output_type": "stream",
     "text": [
      "+---------------+----------------+----------------------+----------+----------+-------+--------+--------------------+-------------------+-------------------+\n",
      "|relationship_id|person_object_id|relationship_object_id|  start_at|    end_at|is_past|sequence|               title|         created_at|         updated_at|\n",
      "+---------------+----------------+----------------------+----------+----------+-------+--------+--------------------+-------------------+-------------------+\n",
      "|             62|            p:61|                  c:16|2012-01-01|2013-01-01|  false|       5|SVP Product Marke...|2007-01-04 08:46:37|2013-01-22 04:09:36|\n",
      "|            400|           p:384|                 c:132|      NULL|      NULL|  false|       3|          Co-Founder|2007-01-11 10:39:37|2010-01-23 15:10:31|\n",
      "|            704|           p:670|                 c:194|      NULL|      NULL|  false|       4|Founder and Senio...|2007-01-18 09:29:37|2012-01-19 02:50:51|\n",
      "|            734|           p:700|                 c:199|      NULL|      NULL|  false|       1|           cofounder|2007-01-18 16:00:31|2009-01-23 15:37:44|\n",
      "|            775|           p:440|                 c:209|      NULL|      NULL|  false|       4|               Board|2007-01-19 07:13:44|2013-01-04 07:22:36|\n",
      "|            883|           p:833|                 c:234|      NULL|      NULL|  false|       1|VP of Business De...|2007-01-20 13:14:35|2010-01-15 19:36:44|\n",
      "|           1189|          p:1119|                 c:334|      NULL|      NULL|  false|       1|               Board|2007-01-01 10:08:52|2008-01-05 22:43:59|\n",
      "|           1352|          p:1279|                 c:382|      NULL|      NULL|  false|       2|          Co-founder|2007-01-07 07:35:48|2008-01-05 22:43:59|\n",
      "|           1395|          p:1408|                 c:129|      NULL|      NULL|  false|       1|                 COO|2007-01-10 05:38:23|2009-01-23 18:01:32|\n",
      "|           1503|          p:1512|                 c:438|      NULL|      NULL|  false|       1|          Co-founder|2008-01-05 22:44:00|2012-01-30 19:12:26|\n",
      "|           2432|          p:2434|                 c:934|      NULL|      NULL|  false|       1|       Founder & CEO|2007-01-10 14:19:35|2012-01-09 23:18:10|\n",
      "|           2462|          p:2461|                 c:945|      NULL|      NULL|  false|       2|          Co-founder|2008-01-05 22:44:05|2012-01-25 00:11:54|\n",
      "|           2970|          p:2922|                 c:719|      NULL|      NULL|  false|       1|               Board|2007-01-18 14:04:52|2008-01-09 20:30:08|\n",
      "|           3055|          p:2997|                c:1107|      NULL|      NULL|  false|       1|               Board|2007-01-23 18:58:17|2010-01-26 00:35:24|\n",
      "|           3271|          p:3191|                c:1216|2002-01-01|2005-01-01|  false|       3|   President and CEO|2007-01-01 12:32:37|2010-01-03 19:42:11|\n",
      "|           3302|          p:3221|                c:1229|      NULL|      NULL|  false|       1|VP, Product and M...|2007-01-02 09:33:51|2010-01-16 18:57:29|\n",
      "|           4251|          p:4113|                  c:70|      NULL|      NULL|  false|       3|                 COO|2007-01-19 10:42:31|2010-01-04 19:22:08|\n",
      "|            146|           p:142|                  c:46|2006-01-05|      NULL|  false|       2|Sr. Director of M...|2007-01-17 08:19:58|2011-01-20 02:59:40|\n",
      "|           4872|          p:4692|                c:1513|      NULL|      NULL|  false|       1|Chief Technology ...|2008-01-09 08:24:07|2010-01-28 20:33:59|\n",
      "|           5070|          p:4707|                 f:319|      NULL|      NULL|  false|       3|            Investor|2008-01-18 08:42:07|2013-01-12 06:14:43|\n",
      "+---------------+----------------+----------------------+----------+----------+-------+--------+--------------------+-------------------+-------------------+\n",
      "only showing top 20 rows\n",
      "\n"
     ]
    }
   ],
   "source": [
    "relationships.show()"
   ]
  },
  {
   "cell_type": "code",
   "execution_count": null,
   "id": "21f3daa6-f6c3-426a-a186-305ccdb17764",
   "metadata": {},
   "outputs": [],
   "source": []
  },
  {
   "cell_type": "code",
   "execution_count": 25,
   "id": "6d05176a-5112-4713-ab2f-28a3cd283c19",
   "metadata": {},
   "outputs": [],
   "source": [
    "from pyspark import *"
   ]
  },
  {
   "cell_type": "code",
   "execution_count": 27,
   "id": "34b50eab-c6e9-456c-ae67-c12dbc7119e4",
   "metadata": {},
   "outputs": [
    {
     "ename": "ArgumentError",
     "evalue": "Could not parse SQLAlchemy URL from string 'jdbc:postgresql://target_db_container:5432/warehouse'",
     "output_type": "error",
     "traceback": [
      "\u001b[0;31m---------------------------------------------------------------------------\u001b[0m",
      "\u001b[0;31mArgumentError\u001b[0m                             Traceback (most recent call last)",
      "Cell \u001b[0;32mIn[27], line 6\u001b[0m\n\u001b[1;32m      4\u001b[0m \u001b[38;5;66;03m# Truncate the target table (ensure data integrity by removing old records before loading new data)\u001b[39;00m\n\u001b[1;32m      5\u001b[0m truncate_sql \u001b[38;5;241m=\u001b[39m \u001b[38;5;124mf\u001b[39m\u001b[38;5;124m\"\u001b[39m\u001b[38;5;124mTRUNCATE TABLE \u001b[39m\u001b[38;5;132;01m{\u001b[39;00mdim_term_code\u001b[38;5;132;01m}\u001b[39;00m\u001b[38;5;124m CASCADE\u001b[39m\u001b[38;5;124m\"\u001b[39m\n\u001b[0;32m----> 6\u001b[0m \u001b[43mpd\u001b[49m\u001b[38;5;241;43m.\u001b[39;49m\u001b[43mread_sql\u001b[49m\u001b[43m(\u001b[49m\u001b[43mtruncate_sql\u001b[49m\u001b[43m,\u001b[49m\u001b[43mstg_url\u001b[49m\u001b[43m)\u001b[49m\n",
      "File \u001b[0;32m/opt/conda/lib/python3.11/site-packages/pandas/io/sql.py:633\u001b[0m, in \u001b[0;36mread_sql\u001b[0;34m(sql, con, index_col, coerce_float, params, parse_dates, columns, chunksize, dtype_backend, dtype)\u001b[0m\n\u001b[1;32m    630\u001b[0m \u001b[38;5;28;01mif\u001b[39;00m dtype_backend \u001b[38;5;129;01mis\u001b[39;00m lib\u001b[38;5;241m.\u001b[39mno_default:\n\u001b[1;32m    631\u001b[0m     dtype_backend \u001b[38;5;241m=\u001b[39m \u001b[38;5;124m\"\u001b[39m\u001b[38;5;124mnumpy\u001b[39m\u001b[38;5;124m\"\u001b[39m  \u001b[38;5;66;03m# type: ignore[assignment]\u001b[39;00m\n\u001b[0;32m--> 633\u001b[0m \u001b[38;5;28;01mwith\u001b[39;00m \u001b[43mpandasSQL_builder\u001b[49m\u001b[43m(\u001b[49m\u001b[43mcon\u001b[49m\u001b[43m)\u001b[49m \u001b[38;5;28;01mas\u001b[39;00m pandas_sql:\n\u001b[1;32m    634\u001b[0m     \u001b[38;5;28;01mif\u001b[39;00m \u001b[38;5;28misinstance\u001b[39m(pandas_sql, SQLiteDatabase):\n\u001b[1;32m    635\u001b[0m         \u001b[38;5;28;01mreturn\u001b[39;00m pandas_sql\u001b[38;5;241m.\u001b[39mread_query(\n\u001b[1;32m    636\u001b[0m             sql,\n\u001b[1;32m    637\u001b[0m             index_col\u001b[38;5;241m=\u001b[39mindex_col,\n\u001b[0;32m   (...)\u001b[0m\n\u001b[1;32m    643\u001b[0m             dtype\u001b[38;5;241m=\u001b[39mdtype,\n\u001b[1;32m    644\u001b[0m         )\n",
      "File \u001b[0;32m/opt/conda/lib/python3.11/site-packages/pandas/io/sql.py:832\u001b[0m, in \u001b[0;36mpandasSQL_builder\u001b[0;34m(con, schema, need_transaction)\u001b[0m\n\u001b[1;32m    829\u001b[0m     \u001b[38;5;28;01mraise\u001b[39;00m \u001b[38;5;167;01mImportError\u001b[39;00m(\u001b[38;5;124m\"\u001b[39m\u001b[38;5;124mUsing URI string without sqlalchemy installed.\u001b[39m\u001b[38;5;124m\"\u001b[39m)\n\u001b[1;32m    831\u001b[0m \u001b[38;5;28;01mif\u001b[39;00m sqlalchemy \u001b[38;5;129;01mis\u001b[39;00m \u001b[38;5;129;01mnot\u001b[39;00m \u001b[38;5;28;01mNone\u001b[39;00m \u001b[38;5;129;01mand\u001b[39;00m \u001b[38;5;28misinstance\u001b[39m(con, (\u001b[38;5;28mstr\u001b[39m, sqlalchemy\u001b[38;5;241m.\u001b[39mengine\u001b[38;5;241m.\u001b[39mConnectable)):\n\u001b[0;32m--> 832\u001b[0m     \u001b[38;5;28;01mreturn\u001b[39;00m \u001b[43mSQLDatabase\u001b[49m\u001b[43m(\u001b[49m\u001b[43mcon\u001b[49m\u001b[43m,\u001b[49m\u001b[43m \u001b[49m\u001b[43mschema\u001b[49m\u001b[43m,\u001b[49m\u001b[43m \u001b[49m\u001b[43mneed_transaction\u001b[49m\u001b[43m)\u001b[49m\n\u001b[1;32m    834\u001b[0m warnings\u001b[38;5;241m.\u001b[39mwarn(\n\u001b[1;32m    835\u001b[0m     \u001b[38;5;124m\"\u001b[39m\u001b[38;5;124mpandas only supports SQLAlchemy connectable (engine/connection) or \u001b[39m\u001b[38;5;124m\"\u001b[39m\n\u001b[1;32m    836\u001b[0m     \u001b[38;5;124m\"\u001b[39m\u001b[38;5;124mdatabase string URI or sqlite3 DBAPI2 connection. Other DBAPI2 \u001b[39m\u001b[38;5;124m\"\u001b[39m\n\u001b[0;32m   (...)\u001b[0m\n\u001b[1;32m    839\u001b[0m     stacklevel\u001b[38;5;241m=\u001b[39mfind_stack_level(),\n\u001b[1;32m    840\u001b[0m )\n\u001b[1;32m    841\u001b[0m \u001b[38;5;28;01mreturn\u001b[39;00m SQLiteDatabase(con)\n",
      "File \u001b[0;32m/opt/conda/lib/python3.11/site-packages/pandas/io/sql.py:1536\u001b[0m, in \u001b[0;36mSQLDatabase.__init__\u001b[0;34m(self, con, schema, need_transaction)\u001b[0m\n\u001b[1;32m   1534\u001b[0m \u001b[38;5;28mself\u001b[39m\u001b[38;5;241m.\u001b[39mexit_stack \u001b[38;5;241m=\u001b[39m ExitStack()\n\u001b[1;32m   1535\u001b[0m \u001b[38;5;28;01mif\u001b[39;00m \u001b[38;5;28misinstance\u001b[39m(con, \u001b[38;5;28mstr\u001b[39m):\n\u001b[0;32m-> 1536\u001b[0m     con \u001b[38;5;241m=\u001b[39m \u001b[43mcreate_engine\u001b[49m\u001b[43m(\u001b[49m\u001b[43mcon\u001b[49m\u001b[43m)\u001b[49m\n\u001b[1;32m   1537\u001b[0m     \u001b[38;5;28mself\u001b[39m\u001b[38;5;241m.\u001b[39mexit_stack\u001b[38;5;241m.\u001b[39mcallback(con\u001b[38;5;241m.\u001b[39mdispose)\n\u001b[1;32m   1538\u001b[0m \u001b[38;5;28;01mif\u001b[39;00m \u001b[38;5;28misinstance\u001b[39m(con, Engine):\n",
      "File \u001b[0;32m<string>:2\u001b[0m, in \u001b[0;36mcreate_engine\u001b[0;34m(url, **kwargs)\u001b[0m\n",
      "File \u001b[0;32m/opt/conda/lib/python3.11/site-packages/sqlalchemy/util/deprecations.py:281\u001b[0m, in \u001b[0;36mdeprecated_params.<locals>.decorate.<locals>.warned\u001b[0;34m(fn, *args, **kwargs)\u001b[0m\n\u001b[1;32m    274\u001b[0m     \u001b[38;5;28;01mif\u001b[39;00m m \u001b[38;5;129;01min\u001b[39;00m kwargs:\n\u001b[1;32m    275\u001b[0m         _warn_with_version(\n\u001b[1;32m    276\u001b[0m             messages[m],\n\u001b[1;32m    277\u001b[0m             versions[m],\n\u001b[1;32m    278\u001b[0m             version_warnings[m],\n\u001b[1;32m    279\u001b[0m             stacklevel\u001b[38;5;241m=\u001b[39m\u001b[38;5;241m3\u001b[39m,\n\u001b[1;32m    280\u001b[0m         )\n\u001b[0;32m--> 281\u001b[0m \u001b[38;5;28;01mreturn\u001b[39;00m \u001b[43mfn\u001b[49m\u001b[43m(\u001b[49m\u001b[38;5;241;43m*\u001b[39;49m\u001b[43margs\u001b[49m\u001b[43m,\u001b[49m\u001b[43m \u001b[49m\u001b[38;5;241;43m*\u001b[39;49m\u001b[38;5;241;43m*\u001b[39;49m\u001b[43mkwargs\u001b[49m\u001b[43m)\u001b[49m\n",
      "File \u001b[0;32m/opt/conda/lib/python3.11/site-packages/sqlalchemy/engine/create.py:548\u001b[0m, in \u001b[0;36mcreate_engine\u001b[0;34m(url, **kwargs)\u001b[0m\n\u001b[1;32m    545\u001b[0m kwargs\u001b[38;5;241m.\u001b[39mpop(\u001b[38;5;124m\"\u001b[39m\u001b[38;5;124mempty_in_strategy\u001b[39m\u001b[38;5;124m\"\u001b[39m, \u001b[38;5;28;01mNone\u001b[39;00m)\n\u001b[1;32m    547\u001b[0m \u001b[38;5;66;03m# create url.URL object\u001b[39;00m\n\u001b[0;32m--> 548\u001b[0m u \u001b[38;5;241m=\u001b[39m \u001b[43m_url\u001b[49m\u001b[38;5;241;43m.\u001b[39;49m\u001b[43mmake_url\u001b[49m\u001b[43m(\u001b[49m\u001b[43murl\u001b[49m\u001b[43m)\u001b[49m\n\u001b[1;32m    550\u001b[0m u, plugins, kwargs \u001b[38;5;241m=\u001b[39m u\u001b[38;5;241m.\u001b[39m_instantiate_plugins(kwargs)\n\u001b[1;32m    552\u001b[0m entrypoint \u001b[38;5;241m=\u001b[39m u\u001b[38;5;241m.\u001b[39m_get_entrypoint()\n",
      "File \u001b[0;32m/opt/conda/lib/python3.11/site-packages/sqlalchemy/engine/url.py:838\u001b[0m, in \u001b[0;36mmake_url\u001b[0;34m(name_or_url)\u001b[0m\n\u001b[1;32m    822\u001b[0m \u001b[38;5;250m\u001b[39m\u001b[38;5;124;03m\"\"\"Given a string, produce a new URL instance.\u001b[39;00m\n\u001b[1;32m    823\u001b[0m \n\u001b[1;32m    824\u001b[0m \u001b[38;5;124;03mThe format of the URL generally follows `RFC-1738\u001b[39;00m\n\u001b[0;32m   (...)\u001b[0m\n\u001b[1;32m    834\u001b[0m \n\u001b[1;32m    835\u001b[0m \u001b[38;5;124;03m\"\"\"\u001b[39;00m\n\u001b[1;32m    837\u001b[0m \u001b[38;5;28;01mif\u001b[39;00m \u001b[38;5;28misinstance\u001b[39m(name_or_url, \u001b[38;5;28mstr\u001b[39m):\n\u001b[0;32m--> 838\u001b[0m     \u001b[38;5;28;01mreturn\u001b[39;00m \u001b[43m_parse_url\u001b[49m\u001b[43m(\u001b[49m\u001b[43mname_or_url\u001b[49m\u001b[43m)\u001b[49m\n\u001b[1;32m    839\u001b[0m \u001b[38;5;28;01melif\u001b[39;00m \u001b[38;5;129;01mnot\u001b[39;00m \u001b[38;5;28misinstance\u001b[39m(name_or_url, URL) \u001b[38;5;129;01mand\u001b[39;00m \u001b[38;5;129;01mnot\u001b[39;00m \u001b[38;5;28mhasattr\u001b[39m(\n\u001b[1;32m    840\u001b[0m     name_or_url, \u001b[38;5;124m\"\u001b[39m\u001b[38;5;124m_sqla_is_testing_if_this_is_a_mock_object\u001b[39m\u001b[38;5;124m\"\u001b[39m\n\u001b[1;32m    841\u001b[0m ):\n\u001b[1;32m    842\u001b[0m     \u001b[38;5;28;01mraise\u001b[39;00m exc\u001b[38;5;241m.\u001b[39mArgumentError(\n\u001b[1;32m    843\u001b[0m         \u001b[38;5;124mf\u001b[39m\u001b[38;5;124m\"\u001b[39m\u001b[38;5;124mExpected string or URL object, got \u001b[39m\u001b[38;5;132;01m{\u001b[39;00mname_or_url\u001b[38;5;132;01m!r}\u001b[39;00m\u001b[38;5;124m\"\u001b[39m\n\u001b[1;32m    844\u001b[0m     )\n",
      "File \u001b[0;32m/opt/conda/lib/python3.11/site-packages/sqlalchemy/engine/url.py:904\u001b[0m, in \u001b[0;36m_parse_url\u001b[0;34m(name)\u001b[0m\n\u001b[1;32m    901\u001b[0m     \u001b[38;5;28;01mreturn\u001b[39;00m URL\u001b[38;5;241m.\u001b[39mcreate(name, \u001b[38;5;241m*\u001b[39m\u001b[38;5;241m*\u001b[39mcomponents)  \u001b[38;5;66;03m# type: ignore\u001b[39;00m\n\u001b[1;32m    903\u001b[0m \u001b[38;5;28;01melse\u001b[39;00m:\n\u001b[0;32m--> 904\u001b[0m     \u001b[38;5;28;01mraise\u001b[39;00m exc\u001b[38;5;241m.\u001b[39mArgumentError(\n\u001b[1;32m    905\u001b[0m         \u001b[38;5;124m\"\u001b[39m\u001b[38;5;124mCould not parse SQLAlchemy URL from string \u001b[39m\u001b[38;5;124m'\u001b[39m\u001b[38;5;132;01m%s\u001b[39;00m\u001b[38;5;124m'\u001b[39m\u001b[38;5;124m\"\u001b[39m \u001b[38;5;241m%\u001b[39m name\n\u001b[1;32m    906\u001b[0m     )\n",
      "\u001b[0;31mArgumentError\u001b[0m: Could not parse SQLAlchemy URL from string 'jdbc:postgresql://target_db_container:5432/warehouse'"
     ]
    }
   ],
   "source": [
    "_,_,cp_stg,_=connection_properties()\n",
    "_,_,stg_url,_= db_connection()\n",
    "\n",
    "# Truncate the target table (ensure data integrity by removing old records before loading new data)\n",
    "truncate_sql = f\"TRUNCATE TABLE {dim_term_code} CASCADE\"\n",
    "pd.read_sql(truncate_sql,stg_url)"
   ]
  },
  {
   "cell_type": "code",
   "execution_count": 41,
   "id": "ba2b8b96-3839-4464-9c4a-5bb27544ccb0",
   "metadata": {},
   "outputs": [
    {
     "ename": "Py4JJavaError",
     "evalue": "An error occurred while calling o1183.load.\n: org.postgresql.util.PSQLException: ERROR: syntax error at or near \"TABLE\"\n  Position: 25\n\tat org.postgresql.core.v3.QueryExecutorImpl.receiveErrorResponse(QueryExecutorImpl.java:2713)\n\tat org.postgresql.core.v3.QueryExecutorImpl.processResults(QueryExecutorImpl.java:2401)\n\tat org.postgresql.core.v3.QueryExecutorImpl.execute(QueryExecutorImpl.java:368)\n\tat org.postgresql.jdbc.PgStatement.executeInternal(PgStatement.java:498)\n\tat org.postgresql.jdbc.PgStatement.execute(PgStatement.java:415)\n\tat org.postgresql.jdbc.PgPreparedStatement.executeWithFlags(PgPreparedStatement.java:190)\n\tat org.postgresql.jdbc.PgPreparedStatement.executeQuery(PgPreparedStatement.java:134)\n\tat org.apache.spark.sql.execution.datasources.jdbc.JDBCRDD$.getQueryOutputSchema(JDBCRDD.scala:68)\n\tat org.apache.spark.sql.execution.datasources.jdbc.JDBCRDD$.resolveTable(JDBCRDD.scala:58)\n\tat org.apache.spark.sql.execution.datasources.jdbc.JDBCRelation$.getSchema(JDBCRelation.scala:241)\n\tat org.apache.spark.sql.execution.datasources.jdbc.JdbcRelationProvider.createRelation(JdbcRelationProvider.scala:37)\n\tat org.apache.spark.sql.execution.datasources.DataSource.resolveRelation(DataSource.scala:346)\n\tat org.apache.spark.sql.DataFrameReader.loadV1Source(DataFrameReader.scala:229)\n\tat org.apache.spark.sql.DataFrameReader.$anonfun$load$2(DataFrameReader.scala:211)\n\tat scala.Option.getOrElse(Option.scala:189)\n\tat org.apache.spark.sql.DataFrameReader.load(DataFrameReader.scala:211)\n\tat org.apache.spark.sql.DataFrameReader.load(DataFrameReader.scala:172)\n\tat java.base/jdk.internal.reflect.NativeMethodAccessorImpl.invoke0(Native Method)\n\tat java.base/jdk.internal.reflect.NativeMethodAccessorImpl.invoke(NativeMethodAccessorImpl.java:77)\n\tat java.base/jdk.internal.reflect.DelegatingMethodAccessorImpl.invoke(DelegatingMethodAccessorImpl.java:43)\n\tat java.base/java.lang.reflect.Method.invoke(Method.java:568)\n\tat py4j.reflection.MethodInvoker.invoke(MethodInvoker.java:244)\n\tat py4j.reflection.ReflectionEngine.invoke(ReflectionEngine.java:374)\n\tat py4j.Gateway.invoke(Gateway.java:282)\n\tat py4j.commands.AbstractCommand.invokeMethod(AbstractCommand.java:132)\n\tat py4j.commands.CallCommand.execute(CallCommand.java:79)\n\tat py4j.ClientServerConnection.waitForCommands(ClientServerConnection.java:182)\n\tat py4j.ClientServerConnection.run(ClientServerConnection.java:106)\n\tat java.base/java.lang.Thread.run(Thread.java:833)\n",
     "output_type": "error",
     "traceback": [
      "\u001b[0;31m---------------------------------------------------------------------------\u001b[0m",
      "\u001b[0;31mPy4JJavaError\u001b[0m                             Traceback (most recent call last)",
      "Cell \u001b[0;32mIn[41], line 10\u001b[0m\n\u001b[1;32m      4\u001b[0m truncate_sql \u001b[38;5;241m=\u001b[39m \u001b[38;5;124mf\u001b[39m\u001b[38;5;124m\"\u001b[39m\u001b[38;5;124mTRUNCATE TABLE \u001b[39m\u001b[38;5;132;01m{\u001b[39;00mtable_name\u001b[38;5;132;01m}\u001b[39;00m\u001b[38;5;124m CASCADE\u001b[39m\u001b[38;5;124m\"\u001b[39m\n\u001b[1;32m      6\u001b[0m \u001b[38;5;66;03m# Use the jdbc connection to execute the SQL truncate statement\u001b[39;00m\n\u001b[1;32m      7\u001b[0m truncate_df \u001b[38;5;241m=\u001b[39m \u001b[43mspark\u001b[49m\u001b[38;5;241;43m.\u001b[39;49m\u001b[43mread\u001b[49m\u001b[38;5;241;43m.\u001b[39;49m\u001b[43mformat\u001b[49m\u001b[43m(\u001b[49m\u001b[38;5;124;43m\"\u001b[39;49m\u001b[38;5;124;43mjdbc\u001b[39;49m\u001b[38;5;124;43m\"\u001b[39;49m\u001b[43m)\u001b[49m\u001b[38;5;241;43m.\u001b[39;49m\u001b[43moption\u001b[49m\u001b[43m(\u001b[49m\u001b[38;5;124;43m\"\u001b[39;49m\u001b[38;5;124;43murl\u001b[39;49m\u001b[38;5;124;43m\"\u001b[39;49m\u001b[43m,\u001b[49m\u001b[43m \u001b[49m\u001b[43mstg_url\u001b[49m\u001b[43m)\u001b[49m\u001b[38;5;241;43m.\u001b[39;49m\u001b[43moption\u001b[49m\u001b[43m(\u001b[49m\u001b[38;5;124;43m\"\u001b[39;49m\u001b[38;5;124;43mquery\u001b[39;49m\u001b[38;5;124;43m\"\u001b[39;49m\u001b[43m,\u001b[49m\u001b[43m \u001b[49m\u001b[38;5;124;43m\"\u001b[39;49m\u001b[38;5;124;43mTRUNCATE TABLE dim_term_code CASCADE\u001b[39;49m\u001b[38;5;124;43m\"\u001b[39;49m\u001b[43m)\u001b[49m\u001b[43m \u001b[49m\u001b[43m\\\u001b[49m\n\u001b[1;32m      8\u001b[0m \u001b[43m            \u001b[49m\u001b[38;5;241;43m.\u001b[39;49m\u001b[43moption\u001b[49m\u001b[43m(\u001b[49m\u001b[38;5;124;43m\"\u001b[39;49m\u001b[38;5;124;43muser\u001b[39;49m\u001b[38;5;124;43m\"\u001b[39;49m\u001b[43m,\u001b[49m\u001b[43m \u001b[49m\u001b[38;5;124;43m\"\u001b[39;49m\u001b[38;5;124;43mpostgres\u001b[39;49m\u001b[38;5;124;43m\"\u001b[39;49m\u001b[43m)\u001b[49m\u001b[43m \u001b[49m\u001b[43m\\\u001b[49m\n\u001b[1;32m      9\u001b[0m \u001b[43m            \u001b[49m\u001b[38;5;241;43m.\u001b[39;49m\u001b[43moption\u001b[49m\u001b[43m(\u001b[49m\u001b[38;5;124;43m\"\u001b[39;49m\u001b[38;5;124;43mpassword\u001b[39;49m\u001b[38;5;124;43m\"\u001b[39;49m\u001b[43m,\u001b[49m\u001b[43m \u001b[49m\u001b[38;5;124;43m\"\u001b[39;49m\u001b[38;5;124;43mcobapassword\u001b[39;49m\u001b[38;5;124;43m\"\u001b[39;49m\u001b[43m)\u001b[49m\u001b[43m \u001b[49m\u001b[43m\\\u001b[49m\n\u001b[0;32m---> 10\u001b[0m \u001b[43m            \u001b[49m\u001b[38;5;241;43m.\u001b[39;49m\u001b[43mload\u001b[49m\u001b[43m(\u001b[49m\u001b[43m)\u001b[49m\n\u001b[1;32m     12\u001b[0m log_success(\u001b[38;5;124mf\u001b[39m\u001b[38;5;124m\"\u001b[39m\u001b[38;5;124m===== Truncated table \u001b[39m\u001b[38;5;132;01m{\u001b[39;00mtable_name\u001b[38;5;132;01m}\u001b[39;00m\u001b[38;5;124m successfully =====\u001b[39m\u001b[38;5;124m\"\u001b[39m)      \n\u001b[1;32m     14\u001b[0m \u001b[38;5;28mprint\u001b[39m(\u001b[38;5;124mf\u001b[39m\u001b[38;5;124m\"\u001b[39m\u001b[38;5;124m===== Start Loading \u001b[39m\u001b[38;5;132;01m{\u001b[39;00mtable_name\u001b[38;5;132;01m}\u001b[39;00m\u001b[38;5;124m new data =====\u001b[39m\u001b[38;5;124m\"\u001b[39m)\n",
      "File \u001b[0;32m/usr/local/spark/python/pyspark/sql/readwriter.py:314\u001b[0m, in \u001b[0;36mDataFrameReader.load\u001b[0;34m(self, path, format, schema, **options)\u001b[0m\n\u001b[1;32m    312\u001b[0m     \u001b[38;5;28;01mreturn\u001b[39;00m \u001b[38;5;28mself\u001b[39m\u001b[38;5;241m.\u001b[39m_df(\u001b[38;5;28mself\u001b[39m\u001b[38;5;241m.\u001b[39m_jreader\u001b[38;5;241m.\u001b[39mload(\u001b[38;5;28mself\u001b[39m\u001b[38;5;241m.\u001b[39m_spark\u001b[38;5;241m.\u001b[39m_sc\u001b[38;5;241m.\u001b[39m_jvm\u001b[38;5;241m.\u001b[39mPythonUtils\u001b[38;5;241m.\u001b[39mtoSeq(path)))\n\u001b[1;32m    313\u001b[0m \u001b[38;5;28;01melse\u001b[39;00m:\n\u001b[0;32m--> 314\u001b[0m     \u001b[38;5;28;01mreturn\u001b[39;00m \u001b[38;5;28mself\u001b[39m\u001b[38;5;241m.\u001b[39m_df(\u001b[38;5;28;43mself\u001b[39;49m\u001b[38;5;241;43m.\u001b[39;49m\u001b[43m_jreader\u001b[49m\u001b[38;5;241;43m.\u001b[39;49m\u001b[43mload\u001b[49m\u001b[43m(\u001b[49m\u001b[43m)\u001b[49m)\n",
      "File \u001b[0;32m/usr/local/spark/python/lib/py4j-0.10.9.7-src.zip/py4j/java_gateway.py:1322\u001b[0m, in \u001b[0;36mJavaMember.__call__\u001b[0;34m(self, *args)\u001b[0m\n\u001b[1;32m   1316\u001b[0m command \u001b[38;5;241m=\u001b[39m proto\u001b[38;5;241m.\u001b[39mCALL_COMMAND_NAME \u001b[38;5;241m+\u001b[39m\\\n\u001b[1;32m   1317\u001b[0m     \u001b[38;5;28mself\u001b[39m\u001b[38;5;241m.\u001b[39mcommand_header \u001b[38;5;241m+\u001b[39m\\\n\u001b[1;32m   1318\u001b[0m     args_command \u001b[38;5;241m+\u001b[39m\\\n\u001b[1;32m   1319\u001b[0m     proto\u001b[38;5;241m.\u001b[39mEND_COMMAND_PART\n\u001b[1;32m   1321\u001b[0m answer \u001b[38;5;241m=\u001b[39m \u001b[38;5;28mself\u001b[39m\u001b[38;5;241m.\u001b[39mgateway_client\u001b[38;5;241m.\u001b[39msend_command(command)\n\u001b[0;32m-> 1322\u001b[0m return_value \u001b[38;5;241m=\u001b[39m \u001b[43mget_return_value\u001b[49m\u001b[43m(\u001b[49m\n\u001b[1;32m   1323\u001b[0m \u001b[43m    \u001b[49m\u001b[43manswer\u001b[49m\u001b[43m,\u001b[49m\u001b[43m \u001b[49m\u001b[38;5;28;43mself\u001b[39;49m\u001b[38;5;241;43m.\u001b[39;49m\u001b[43mgateway_client\u001b[49m\u001b[43m,\u001b[49m\u001b[43m \u001b[49m\u001b[38;5;28;43mself\u001b[39;49m\u001b[38;5;241;43m.\u001b[39;49m\u001b[43mtarget_id\u001b[49m\u001b[43m,\u001b[49m\u001b[43m \u001b[49m\u001b[38;5;28;43mself\u001b[39;49m\u001b[38;5;241;43m.\u001b[39;49m\u001b[43mname\u001b[49m\u001b[43m)\u001b[49m\n\u001b[1;32m   1325\u001b[0m \u001b[38;5;28;01mfor\u001b[39;00m temp_arg \u001b[38;5;129;01min\u001b[39;00m temp_args:\n\u001b[1;32m   1326\u001b[0m     \u001b[38;5;28;01mif\u001b[39;00m \u001b[38;5;28mhasattr\u001b[39m(temp_arg, \u001b[38;5;124m\"\u001b[39m\u001b[38;5;124m_detach\u001b[39m\u001b[38;5;124m\"\u001b[39m):\n",
      "File \u001b[0;32m/usr/local/spark/python/pyspark/errors/exceptions/captured.py:179\u001b[0m, in \u001b[0;36mcapture_sql_exception.<locals>.deco\u001b[0;34m(*a, **kw)\u001b[0m\n\u001b[1;32m    177\u001b[0m \u001b[38;5;28;01mdef\u001b[39;00m \u001b[38;5;21mdeco\u001b[39m(\u001b[38;5;241m*\u001b[39ma: Any, \u001b[38;5;241m*\u001b[39m\u001b[38;5;241m*\u001b[39mkw: Any) \u001b[38;5;241m-\u001b[39m\u001b[38;5;241m>\u001b[39m Any:\n\u001b[1;32m    178\u001b[0m     \u001b[38;5;28;01mtry\u001b[39;00m:\n\u001b[0;32m--> 179\u001b[0m         \u001b[38;5;28;01mreturn\u001b[39;00m \u001b[43mf\u001b[49m\u001b[43m(\u001b[49m\u001b[38;5;241;43m*\u001b[39;49m\u001b[43ma\u001b[49m\u001b[43m,\u001b[49m\u001b[43m \u001b[49m\u001b[38;5;241;43m*\u001b[39;49m\u001b[38;5;241;43m*\u001b[39;49m\u001b[43mkw\u001b[49m\u001b[43m)\u001b[49m\n\u001b[1;32m    180\u001b[0m     \u001b[38;5;28;01mexcept\u001b[39;00m Py4JJavaError \u001b[38;5;28;01mas\u001b[39;00m e:\n\u001b[1;32m    181\u001b[0m         converted \u001b[38;5;241m=\u001b[39m convert_exception(e\u001b[38;5;241m.\u001b[39mjava_exception)\n",
      "File \u001b[0;32m/usr/local/spark/python/lib/py4j-0.10.9.7-src.zip/py4j/protocol.py:326\u001b[0m, in \u001b[0;36mget_return_value\u001b[0;34m(answer, gateway_client, target_id, name)\u001b[0m\n\u001b[1;32m    324\u001b[0m value \u001b[38;5;241m=\u001b[39m OUTPUT_CONVERTER[\u001b[38;5;28mtype\u001b[39m](answer[\u001b[38;5;241m2\u001b[39m:], gateway_client)\n\u001b[1;32m    325\u001b[0m \u001b[38;5;28;01mif\u001b[39;00m answer[\u001b[38;5;241m1\u001b[39m] \u001b[38;5;241m==\u001b[39m REFERENCE_TYPE:\n\u001b[0;32m--> 326\u001b[0m     \u001b[38;5;28;01mraise\u001b[39;00m Py4JJavaError(\n\u001b[1;32m    327\u001b[0m         \u001b[38;5;124m\"\u001b[39m\u001b[38;5;124mAn error occurred while calling \u001b[39m\u001b[38;5;132;01m{0}\u001b[39;00m\u001b[38;5;132;01m{1}\u001b[39;00m\u001b[38;5;132;01m{2}\u001b[39;00m\u001b[38;5;124m.\u001b[39m\u001b[38;5;130;01m\\n\u001b[39;00m\u001b[38;5;124m\"\u001b[39m\u001b[38;5;241m.\u001b[39m\n\u001b[1;32m    328\u001b[0m         \u001b[38;5;28mformat\u001b[39m(target_id, \u001b[38;5;124m\"\u001b[39m\u001b[38;5;124m.\u001b[39m\u001b[38;5;124m\"\u001b[39m, name), value)\n\u001b[1;32m    329\u001b[0m \u001b[38;5;28;01melse\u001b[39;00m:\n\u001b[1;32m    330\u001b[0m     \u001b[38;5;28;01mraise\u001b[39;00m Py4JError(\n\u001b[1;32m    331\u001b[0m         \u001b[38;5;124m\"\u001b[39m\u001b[38;5;124mAn error occurred while calling \u001b[39m\u001b[38;5;132;01m{0}\u001b[39;00m\u001b[38;5;132;01m{1}\u001b[39;00m\u001b[38;5;132;01m{2}\u001b[39;00m\u001b[38;5;124m. Trace:\u001b[39m\u001b[38;5;130;01m\\n\u001b[39;00m\u001b[38;5;132;01m{3}\u001b[39;00m\u001b[38;5;130;01m\\n\u001b[39;00m\u001b[38;5;124m\"\u001b[39m\u001b[38;5;241m.\u001b[39m\n\u001b[1;32m    332\u001b[0m         \u001b[38;5;28mformat\u001b[39m(target_id, \u001b[38;5;124m\"\u001b[39m\u001b[38;5;124m.\u001b[39m\u001b[38;5;124m\"\u001b[39m, name, value))\n",
      "\u001b[0;31mPy4JJavaError\u001b[0m: An error occurred while calling o1183.load.\n: org.postgresql.util.PSQLException: ERROR: syntax error at or near \"TABLE\"\n  Position: 25\n\tat org.postgresql.core.v3.QueryExecutorImpl.receiveErrorResponse(QueryExecutorImpl.java:2713)\n\tat org.postgresql.core.v3.QueryExecutorImpl.processResults(QueryExecutorImpl.java:2401)\n\tat org.postgresql.core.v3.QueryExecutorImpl.execute(QueryExecutorImpl.java:368)\n\tat org.postgresql.jdbc.PgStatement.executeInternal(PgStatement.java:498)\n\tat org.postgresql.jdbc.PgStatement.execute(PgStatement.java:415)\n\tat org.postgresql.jdbc.PgPreparedStatement.executeWithFlags(PgPreparedStatement.java:190)\n\tat org.postgresql.jdbc.PgPreparedStatement.executeQuery(PgPreparedStatement.java:134)\n\tat org.apache.spark.sql.execution.datasources.jdbc.JDBCRDD$.getQueryOutputSchema(JDBCRDD.scala:68)\n\tat org.apache.spark.sql.execution.datasources.jdbc.JDBCRDD$.resolveTable(JDBCRDD.scala:58)\n\tat org.apache.spark.sql.execution.datasources.jdbc.JDBCRelation$.getSchema(JDBCRelation.scala:241)\n\tat org.apache.spark.sql.execution.datasources.jdbc.JdbcRelationProvider.createRelation(JdbcRelationProvider.scala:37)\n\tat org.apache.spark.sql.execution.datasources.DataSource.resolveRelation(DataSource.scala:346)\n\tat org.apache.spark.sql.DataFrameReader.loadV1Source(DataFrameReader.scala:229)\n\tat org.apache.spark.sql.DataFrameReader.$anonfun$load$2(DataFrameReader.scala:211)\n\tat scala.Option.getOrElse(Option.scala:189)\n\tat org.apache.spark.sql.DataFrameReader.load(DataFrameReader.scala:211)\n\tat org.apache.spark.sql.DataFrameReader.load(DataFrameReader.scala:172)\n\tat java.base/jdk.internal.reflect.NativeMethodAccessorImpl.invoke0(Native Method)\n\tat java.base/jdk.internal.reflect.NativeMethodAccessorImpl.invoke(NativeMethodAccessorImpl.java:77)\n\tat java.base/jdk.internal.reflect.DelegatingMethodAccessorImpl.invoke(DelegatingMethodAccessorImpl.java:43)\n\tat java.base/java.lang.reflect.Method.invoke(Method.java:568)\n\tat py4j.reflection.MethodInvoker.invoke(MethodInvoker.java:244)\n\tat py4j.reflection.ReflectionEngine.invoke(ReflectionEngine.java:374)\n\tat py4j.Gateway.invoke(Gateway.java:282)\n\tat py4j.commands.AbstractCommand.invokeMethod(AbstractCommand.java:132)\n\tat py4j.commands.CallCommand.execute(CallCommand.java:79)\n\tat py4j.ClientServerConnection.waitForCommands(ClientServerConnection.java:182)\n\tat py4j.ClientServerConnection.run(ClientServerConnection.java:106)\n\tat java.base/java.lang.Thread.run(Thread.java:833)\n"
     ]
    }
   ],
   "source": [
    "_,_,cp_stg,_=connection_properties()\n",
    "_,_,stg_url,_= db_connection()\n",
    "table_name=\"dim_term_code\"\n",
    "truncate_sql = f\"TRUNCATE TABLE {table_name} CASCADE\"\n",
    "\n",
    "# Use the jdbc connection to execute the SQL truncate statement\n",
    "truncate_df = spark.read.format(\"jdbc\").option(\"url\", stg_url).option(\"query\", \"TRUNCATE TABLE dim_term_code CASCADE\") \\\n",
    "            .option(\"user\", \"postgres\") \\\n",
    "            .option(\"password\", \"cobapassword\") \\\n",
    "            .load()\n",
    "\n",
    "log_success(f\"===== Truncated table {table_name} successfully =====\")      \n",
    "\n",
    "print(f\"===== Start Loading {table_name} new data =====\")\n"
   ]
  },
  {
   "cell_type": "code",
   "execution_count": null,
   "id": "14f2ddcc-36d9-4448-a45c-a0fefee7d256",
   "metadata": {},
   "outputs": [],
   "source": [
    "\n",
    "\n",
    "new_data.write.jdbc(url=stg_url,table=table_name,mode=\"append\",properties=cp_stg)\n",
    "process=\"Load\"\n",
    "log_success(step,process,source,table_name)\n",
    "print(f\"===== Success Loading {table_name} new data =====\")"
   ]
  },
  {
   "cell_type": "code",
   "execution_count": 21,
   "id": "7c8b7244-f64a-4cab-8705-280225e574bd",
   "metadata": {},
   "outputs": [
    {
     "name": "stdout",
     "output_type": "stream",
     "text": [
      "[('people_id', 'string'), ('object_id', 'string'), ('first_name', 'string'), ('last_name', 'string'), ('birthplace', 'string'), ('affiliation_name', 'string')] \n",
      "\n",
      "[('relationship_id', 'string'), ('person_object_id', 'string'), ('relationship_object_id', 'string'), ('start_at', 'date'), ('end_at', 'date'), ('is_past', 'string'), ('sequence', 'string'), ('title', 'string'), ('created_at', 'timestamp'), ('updated_at', 'timestamp')] \n",
      "\n",
      "[('acquisition_id', 'int'), ('acquiring_object_id', 'string'), ('acquired_object_id', 'string'), ('term_code', 'string'), ('price_amount', 'decimal(15,2)'), ('price_currency_code', 'string'), ('acquired_at', 'timestamp'), ('source_url', 'string'), ('source_description', 'string'), ('created_at', 'timestamp'), ('updated_at', 'timestamp')] \n",
      "\n",
      "[('office_id', 'int'), ('object_id', 'string'), ('description', 'string'), ('region', 'string'), ('address1', 'string'), ('address2', 'string'), ('city', 'string'), ('zip_code', 'string'), ('state_code', 'string'), ('country_code', 'string'), ('latitude', 'decimal(9,6)'), ('longitude', 'decimal(9,6)'), ('created_at', 'timestamp'), ('updated_at', 'timestamp')] \n",
      "\n",
      "[('fund_id', 'string'), ('object_id', 'string'), ('name', 'string'), ('funded_at', 'date'), ('raised_amount', 'decimal(15,2)'), ('raised_currency_code', 'string'), ('source_url', 'string'), ('source_description', 'string'), ('created_at', 'timestamp'), ('updated_at', 'timestamp')] \n",
      "\n",
      "[('investment_id', 'int'), ('funding_round_id', 'int'), ('funded_object_id', 'string'), ('investor_object_id', 'string'), ('created_at', 'timestamp'), ('updated_at', 'timestamp')] \n",
      "\n",
      "[('ipo_id', 'string'), ('object_id', 'string'), ('valuation_amount', 'decimal(15,2)'), ('valuation_currency_code', 'string'), ('raised_amount', 'decimal(15,2)'), ('raised_currency_code', 'string'), ('public_at', 'timestamp'), ('stock_symbol', 'string'), ('source_url', 'string'), ('source_description', 'string'), ('created_at', 'timestamp'), ('updated_at', 'timestamp')] \n",
      "\n",
      "[('funding_round_id', 'int'), ('object_id', 'string'), ('funded_at', 'date'), ('funding_round_type', 'string'), ('funding_round_code', 'string'), ('raised_amount_usd', 'decimal(15,2)'), ('raised_amount', 'decimal(15,2)'), ('raised_currency_code', 'string'), ('pre_money_valuation_usd', 'decimal(15,2)'), ('pre_money_valuation', 'decimal(15,2)'), ('pre_money_currency_code', 'string'), ('post_money_valuation_usd', 'decimal(15,2)'), ('post_money_valuation', 'decimal(15,2)'), ('post_money_currency_code', 'string'), ('participants', 'string'), ('is_first_round', 'boolean'), ('is_last_round', 'boolean'), ('source_url', 'string'), ('source_description', 'string'), ('created_by', 'string'), ('created_at', 'timestamp'), ('updated_at', 'timestamp')] \n",
      "\n"
     ]
    }
   ],
   "source": [
    "for name in table_names:\n",
    "    print(globals()[f'stg_{name}'].dtypes, '\\n')"
   ]
  },
  {
   "cell_type": "code",
   "execution_count": null,
   "id": "332392dd-0288-4bad-8f66-55a46c9e849d",
   "metadata": {},
   "outputs": [],
   "source": []
  },
  {
   "cell_type": "code",
   "execution_count": 22,
   "id": "1c2cacc7-2fb0-48d6-9d66-e96d1ed02eb1",
   "metadata": {},
   "outputs": [
    {
     "ename": "NameError",
     "evalue": "name 'tx_date' is not defined",
     "output_type": "error",
     "traceback": [
      "\u001b[0;31m---------------------------------------------------------------------------\u001b[0m",
      "\u001b[0;31mNameError\u001b[0m                                 Traceback (most recent call last)",
      "Cell \u001b[0;32mIn[22], line 1\u001b[0m\n\u001b[0;32m----> 1\u001b[0m customer_birtday_transaction\u001b[38;5;241m=\u001b[39m\u001b[43mtx_date\u001b[49m\u001b[38;5;241m.\u001b[39mjoin(bd_date, \u001b[38;5;124m'\u001b[39m\u001b[38;5;124mcustomer_id\u001b[39m\u001b[38;5;124m'\u001b[39m,\u001b[38;5;124m\"\u001b[39m\u001b[38;5;124mright\u001b[39m\u001b[38;5;124m\"\u001b[39m)\u001b[38;5;241m.\u001b[39mselect(tx_date\u001b[38;5;241m.\u001b[39mcustomer_id,tx_date\u001b[38;5;241m.\u001b[39mEarliestTransactionDate, bd_date\u001b[38;5;241m.\u001b[39mbirth_date)\n",
      "\u001b[0;31mNameError\u001b[0m: name 'tx_date' is not defined"
     ]
    }
   ],
   "source": [
    "customer_birtday_transaction=tx_date.join(bd_date, 'customer_id',\"right\").select(tx_date.customer_id,tx_date.EarliestTransactionDate, bd_date.birth_date)"
   ]
  },
  {
   "cell_type": "code",
   "execution_count": null,
   "id": "624490ae-6114-4aad-83e0-f3fb92ff33d3",
   "metadata": {},
   "outputs": [],
   "source": []
  }
 ],
 "metadata": {
  "kernelspec": {
   "display_name": "Python 3 (ipykernel)",
   "language": "python",
   "name": "python3"
  },
  "language_info": {
   "codemirror_mode": {
    "name": "ipython",
    "version": 3
   },
   "file_extension": ".py",
   "mimetype": "text/x-python",
   "name": "python",
   "nbconvert_exporter": "python",
   "pygments_lexer": "ipython3",
   "version": "3.11.6"
  }
 },
 "nbformat": 4,
 "nbformat_minor": 5
}
