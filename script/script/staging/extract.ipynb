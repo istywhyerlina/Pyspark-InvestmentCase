{
 "cells": [
  {
   "cell_type": "code",
   "execution_count": 5,
   "id": "c52abf93-20a0-404d-84ae-be467badfc89",
   "metadata": {},
   "outputs": [],
   "source": [
    "import pyspark\n",
    "from importlib import reload\n",
    "\n",
    "from pyspark.sql import SparkSession\n",
    "import os\n",
    "import pandas as pd\n",
    "import sys\n",
    "sys.path.insert(0, '/home/jovyan/work')\n",
    "from script.helper.db_conn import db_connection\n",
    "from datetime import datetime\n",
    "from datetime import timezone\n",
    "\n",
    "from script.helper.conn_prop import connection_properties\n",
    "from script.helper.init_spark import initiate_spark\n",
    "import logging\n",
    "import pandas as pd\n",
    "\n",
    "def etl_log(log_msg: dict):\n",
    "    \"\"\"\n",
    "    This function is used to save the log message to the database.\n",
    "    \"\"\"\n",
    "\n",
    "\n",
    "    try:\n",
    "        # create connection to database\n",
    "        spark = initiate_spark()\n",
    "        _,_,_,log_url = db_connection()\n",
    "        _,_,_,cp_log=connection_properties()\n",
    "        \n",
    "        # convert dictionary to dataframe\n",
    "        df_log = pd.DataFrame([log_msg])\n",
    "        df_log=spark.createDataFrame(data=df_log)\n",
    "\n",
    "        #extract data log\n",
    "        df_log.write.jdbc(url=log_url,table=\"etl_log\",mode=\"append\",properties=cp_log)\n",
    "\n",
    "    except Exception as e:\n",
    "        print(\"Can't save your log message. Cause: \", str(e))\n",
    "\n",
    "\n",
    "def log_success(step,process, source, table_name):\n",
    "    log_msg = {\n",
    "        \"step\" : step,\n",
    "        \"process\" : process, \n",
    "        \"status\" : \"success\", \n",
    "        \"source\": source,\n",
    "        \"table_name\": table_name,\n",
    "        \"etl_date\": datetime.now(timezone.utc).astimezone()  # Current timestamp\n",
    "        }\n",
    "    etl_log(log_msg)\n",
    "\n",
    "\n",
    "def log_error(step,process, source, table_name,error_msg):\n",
    "    log_msg = {\n",
    "        \"step\" : step,\n",
    "        \"process\" : process, \n",
    "        \"status\" : \"failed\", \n",
    "        \"source\": source,\n",
    "        \"table_name\": table_name,\n",
    "        \"error_msg\": error_msg,\n",
    "        \"etl_date\": datetime.now(timezone.utc).astimezone()  # Current timestamp\n",
    "        }\n",
    "    etl_log(log_msg)\n",
    "\n",
    "\n",
    "\n"
   ]
  },
  {
   "cell_type": "code",
   "execution_count": 6,
   "id": "a9b6bea4-52d8-4a50-8fdd-1a32643580a4",
   "metadata": {},
   "outputs": [],
   "source": [
    "log_error(\"aaa\",\"aaa\",\"ss\",\"aaa\", \"ssssssssssssss\")"
   ]
  },
  {
   "cell_type": "code",
   "execution_count": 2,
   "id": "090683f1-cbdd-4ca8-8dc6-b3debbe58310",
   "metadata": {},
   "outputs": [],
   "source": [
    "\n"
   ]
  },
  {
   "cell_type": "code",
   "execution_count": 3,
   "id": "09174e1e-b7fd-4980-9f86-e9f8d89133a7",
   "metadata": {},
   "outputs": [],
   "source": [
    "\n"
   ]
  },
  {
   "cell_type": "code",
   "execution_count": 4,
   "id": "560ba2f6-4ecb-4447-818a-cd556323ce87",
   "metadata": {},
   "outputs": [],
   "source": [
    "log_success(\"aaa\",\"aaa\",\"ss\",\"aaa\")"
   ]
  },
  {
   "cell_type": "code",
   "execution_count": 3,
   "id": "744c8a81-7134-45ab-89e9-50c9374693ed",
   "metadata": {},
   "outputs": [],
   "source": [
    "# Inisialisasi SparkSession\n",
    "spark = initiate_spark()"
   ]
  },
  {
   "cell_type": "code",
   "execution_count": 4,
   "id": "619e5358-d1ab-41ef-ae07-7551d65fcba6",
   "metadata": {},
   "outputs": [],
   "source": [
    "_,_,_,log_url = db_connection()\n"
   ]
  },
  {
   "cell_type": "code",
   "execution_count": 5,
   "id": "db6cbf2a-f1d4-414e-b92a-4947d5757f0c",
   "metadata": {},
   "outputs": [],
   "source": [
    "_,_,_,cp_log=connection_properties()\n"
   ]
  },
  {
   "cell_type": "code",
   "execution_count": 6,
   "id": "b2fa08dd-a82e-4b35-a852-a96bb87d7bd0",
   "metadata": {},
   "outputs": [
    {
     "data": {
      "text/plain": [
       "'jdbc:postgresql://target_db_container:5432/etl_log'"
      ]
     },
     "execution_count": 6,
     "metadata": {},
     "output_type": "execute_result"
    }
   ],
   "source": [
    "log_url\n"
   ]
  },
  {
   "cell_type": "code",
   "execution_count": 7,
   "id": "e8165c4e-ff37-43c1-b85e-ba8f29eaa207",
   "metadata": {},
   "outputs": [
    {
     "data": {
      "text/plain": [
       "{'user': 'postgres',\n",
       " 'password': 'cobapassword',\n",
       " 'driver': 'org.postgresql.Driver'}"
      ]
     },
     "execution_count": 7,
     "metadata": {},
     "output_type": "execute_result"
    }
   ],
   "source": [
    "cp_log"
   ]
  },
  {
   "cell_type": "code",
   "execution_count": 8,
   "id": "07bbbec0-fc5d-403d-b89b-b4d0abe08865",
   "metadata": {},
   "outputs": [],
   "source": [
    "table_name=\"bb\""
   ]
  },
  {
   "cell_type": "code",
   "execution_count": 34,
   "id": "8eaae97c-45ca-4e82-8a87-86b04926adb0",
   "metadata": {},
   "outputs": [],
   "source": [
    "\n",
    "log_msg = {\n",
    "    \"step\" : \"staging\",\n",
    "    \"process\" : \"aaa\", \n",
    "    \"status\" : \"aaa\", \n",
    "    \"source\": \"failed\",\n",
    "    \"table_name\": table_name,\n",
    "    \"error_msg\": \"msg\",\n",
    "    \"etl_date\": datetime.now(timezone.utc).astimezone()  # Current timestamp\n",
    "    \n",
    "}\n",
    "    \n"
   ]
  },
  {
   "cell_type": "code",
   "execution_count": 35,
   "id": "76ac0fa3-bde9-4181-a355-054e1813496d",
   "metadata": {},
   "outputs": [],
   "source": [
    "df_log = pd.DataFrame([log_msg])"
   ]
  },
  {
   "cell_type": "code",
   "execution_count": 36,
   "id": "5845c254-4bea-426a-bbe5-0c87da02b57a",
   "metadata": {},
   "outputs": [],
   "source": [
    "df_log=spark.createDataFrame(data=df_log)"
   ]
  },
  {
   "cell_type": "code",
   "execution_count": 37,
   "id": "240f2791-99d7-4a50-b31c-2695582b6ae0",
   "metadata": {},
   "outputs": [],
   "source": [
    "#df_log = pd.DataFrame([log_msg])"
   ]
  },
  {
   "cell_type": "code",
   "execution_count": 38,
   "id": "a25bfd5b-21b8-4685-9b19-7807028ad40b",
   "metadata": {},
   "outputs": [],
   "source": [
    "df_log.write.jdbc(url=log_url,table=\"etl_log\",mode=\"append\",properties=cp_log)"
   ]
  },
  {
   "cell_type": "code",
   "execution_count": 8,
   "id": "ce496143-5347-4518-9ac8-2996c8f15d3d",
   "metadata": {},
   "outputs": [],
   "source": [
    "import pyspark\n",
    "from importlib import reload\n",
    "\n",
    "from pyspark.sql import SparkSession\n",
    "import os\n",
    "import pandas as pd\n",
    "import sys\n",
    "sys.path.insert(0, '/home/jovyan/work')\n",
    "from script.helper.db_conn import db_connection\n",
    "from datetime import datetime\n",
    "from datetime import timezone\n",
    "\n",
    "from script.helper.conn_prop import connection_properties\n",
    "from script.helper.init_spark import initiate_spark\n",
    "import logging\n",
    "import pandas as pd"
   ]
  },
  {
   "cell_type": "code",
   "execution_count": 9,
   "id": "00ad7333-8550-4d7b-b629-8528903f3681",
   "metadata": {},
   "outputs": [],
   "source": [
    "# Inisialisasi SparkSession\n",
    "spark = initiate_spark()"
   ]
  },
  {
   "cell_type": "code",
   "execution_count": 39,
   "id": "5bb72f3d-411d-4f36-9e8e-04ef2ad8d99e",
   "metadata": {},
   "outputs": [],
   "source": [
    "\n",
    "def extract_csv(filename,spark=spark):\n",
    "    try: \n",
    "        print(f\"===== Start Extracting {filename} data =====\")\n",
    "        global step\n",
    "        global process\n",
    "        source=filename.split('/')[-1]\n",
    "        table_name=source.split('.')[0]\n",
    "        \n",
    "        df=spark.read.csv(filename,header=True)\n",
    "        log_success(step,process,source,table_name)\n",
    "        \n",
    "        print(f\"===== Success Extracting {filename} data =====\")\n",
    "        return df\n",
    "    except Exception as e:\n",
    "        log_error(step,process,source,table_name,str(e))\n",
    "        print(f\"====== Failed to Extract Data {filename} ======,\\n {e}\")\n",
    "\n",
    "\n",
    "\n"
   ]
  },
  {
   "cell_type": "code",
   "execution_count": 40,
   "id": "f6feb946-0012-4035-892f-df4206149aa2",
   "metadata": {},
   "outputs": [],
   "source": [
    "step=\"Data Warehouse\"\n",
    "process=\"Extract\""
   ]
  },
  {
   "cell_type": "code",
   "execution_count": 41,
   "id": "d5eebf71-e096-4873-94d0-862791e61d85",
   "metadata": {},
   "outputs": [
    {
     "name": "stdout",
     "output_type": "stream",
     "text": [
      "===== Start Extracting ../../data/peoplea.csv data =====\n",
      "====== Failed to Extract Data ../../data/peoplea.csv ======,\n",
      " [PATH_NOT_FOUND] Path does not exist: file:/home/jovyan/work/data/peoplea.csv.\n"
     ]
    }
   ],
   "source": [
    "\n",
    "aa=extract_csv('../../data/peoplea.csv')"
   ]
  },
  {
   "cell_type": "code",
   "execution_count": 11,
   "id": "50bf9dd6-b33f-413b-acc6-5567af964e7d",
   "metadata": {},
   "outputs": [
    {
     "name": "stdout",
     "output_type": "stream",
     "text": [
      "/home/jovyan/work/script/staging\n"
     ]
    }
   ],
   "source": [
    "print(os.getcwd())"
   ]
  },
  {
   "cell_type": "code",
   "execution_count": 47,
   "id": "e615ded9-acb3-4022-baa0-2ac51256f7f2",
   "metadata": {},
   "outputs": [],
   "source": [
    "def extract_database(table_name,spark=spark):\n",
    "    try:\n",
    "        print(f\"===== Start Extracting {table_name} data =====\")\n",
    "        \n",
    "        cp_src,_,_,_=connection_properties()\n",
    "        src_url,_,_,_ = db_connection()\n",
    "        df_metadata=spark.read.jdbc(src_url, table=table_name, properties=cp_src)\n",
    "        log_success(step,process,table_name,table_name)\n",
    "        print(f\"===== Success Extracting {table_name} data =====\")\n",
    "        return df_metadata\n",
    "    except Exception as e:\n",
    "        print(f\"====== Failed to Extract Data {table_name} ======,\\n {e}\")\n",
    "        log_error(step,process,table_name,table_name,str(e))\n"
   ]
  },
  {
   "cell_type": "code",
   "execution_count": 48,
   "id": "90ac842b-fd51-4349-959f-b9930c57eb6c",
   "metadata": {},
   "outputs": [
    {
     "name": "stdout",
     "output_type": "stream",
     "text": [
      "===== Start Extracting company data =====\n",
      "===== Success Extracting company data =====\n"
     ]
    }
   ],
   "source": [
    "bb=extract_database('company')"
   ]
  },
  {
   "cell_type": "code",
   "execution_count": 49,
   "id": "c775fbf5-ae7d-4dbf-a577-7bed164b8c27",
   "metadata": {},
   "outputs": [
    {
     "data": {
      "text/plain": [
       "DataFrame[office_id: int, object_id: string, description: string, region: string, address1: string, address2: string, city: string, zip_code: string, state_code: string, country_code: string, latitude: decimal(9,6), longitude: decimal(9,6), created_at: timestamp, updated_at: timestamp]"
      ]
     },
     "execution_count": 49,
     "metadata": {},
     "output_type": "execute_result"
    }
   ],
   "source": [
    "bb"
   ]
  },
  {
   "cell_type": "code",
   "execution_count": 50,
   "id": "54d6f9d7-f42b-4bcf-b63e-d503634a1de8",
   "metadata": {},
   "outputs": [
    {
     "name": "stdout",
     "output_type": "stream",
     "text": [
      "DataFrame[office_id: int, object_id: string, description: string, region: string, address1: string, address2: string, city: string, zip_code: string, state_code: string, country_code: string, latitude: decimal(9,6), longitude: decimal(9,6), created_at: timestamp, updated_at: timestamp]\n"
     ]
    }
   ],
   "source": [
    "print(bb)"
   ]
  },
  {
   "cell_type": "code",
   "execution_count": 51,
   "id": "be33d3e7-1551-4678-8865-9911fd1ce376",
   "metadata": {},
   "outputs": [
    {
     "name": "stdout",
     "output_type": "stream",
     "text": [
      "+---------+---------+-----------------+--------------------+--------------------+----------+--------------+----------+----------+------------+---------+-----------+-------------------+-------------------+\n",
      "|office_id|object_id|      description|              region|            address1|  address2|          city|  zip_code|state_code|country_code| latitude|  longitude|         created_at|         updated_at|\n",
      "+---------+---------+-----------------+--------------------+--------------------+----------+--------------+----------+----------+------------+---------+-----------+-------------------+-------------------+\n",
      "|        8|      c:8|                 |              SF Bay|959 Skyway Road, ...|          |    San Carlos|     94070|        CA|         USA|37.506885|-122.247573|2007-01-01 22:19:54|2007-01-01 22:19:54|\n",
      "|        9|      c:9|     Headquarters|         Los Angeles|9229 W. Sunset Blvd.|          |West Hollywood|     90069|        CA|         USA|34.090368|-118.393064|2007-01-01 22:19:54|2007-01-01 22:19:54|\n",
      "|       10|     c:10|                 |         Los Angeles|8536 National Blv...|          |   Culver City|     90232|        CA|         USA|34.025958|-118.379768|2007-01-01 22:19:54|2007-01-01 22:19:54|\n",
      "|       11|     c:11|                 |         Los Angeles|      407 N Maple Dr|          | Beverly Hills|     90210|        CA|         USA|34.076179|-118.394170|2007-01-01 22:19:54|2007-01-01 22:19:54|\n",
      "|       12|     c:12|                 |              SF Bay|     1355 Market St.|          | San Francisco|     94103|        CA|         USA|37.776805|-122.416924|2007-01-01 22:19:54|2007-01-01 22:19:54|\n",
      "|       14|     c:14|                 |              SF Bay|                    |          |    Menlo Park|          |        CA|         USA|37.484130|-122.169472|2007-01-01 22:19:54|2007-01-01 22:19:54|\n",
      "|       15|     c:15|               HQ|              SF Bay|   539 Bryant Street|          | San Francisco|     94107|        CA|         USA|37.789634|-122.404052|2007-01-01 22:19:54|2007-01-01 22:19:54|\n",
      "|       16|     c:16|                 |           San Diego|16935 W. Bernardo...|          |     San Diego|     92127|        CA|         USA|33.022176|-117.081406|2007-01-01 22:19:54|2007-01-01 22:19:54|\n",
      "|       17|     c:18|Lala Headquarters|              SF Bay|    209 Hamilton Ave|Suite #200|     Palo Alto|     94301|        CA|         USA|37.451151|-122.154369|2007-01-01 22:19:54|2007-01-01 22:19:54|\n",
      "|       18|     c:19|                 |         Los Angeles|10960 Wilshire Blvd.| Suite 700|   Los Angeles|     90024|        CA|         USA|34.057498|-118.446596|2007-01-01 22:19:54|2007-01-01 22:19:54|\n",
      "|       19|     c:20|     Headquarters|              SF Bay|2145 Hamilton Avenue|          |      San Jose|     95125|        CA|         USA|37.295005|-121.930035|2007-01-01 22:19:54|2007-01-01 22:19:54|\n",
      "|       20|     c:21|                 |United States - O...|                    |          |              |          |          |         USA|37.090240| -95.712891|2007-01-01 22:19:54|2007-01-01 22:19:54|\n",
      "|       21|     c:22|                 |            New York|                    |          | New York City|          |        NY|         USA|40.757929| -73.985506|2007-01-01 22:19:54|2007-01-01 22:19:54|\n",
      "|       22|     c:23|                 |            New York|    100 5th Ave Fl 6|          |      New York|10011-6903|        NY|         USA|40.746497| -74.009447|2007-01-01 22:19:54|2007-01-01 22:19:54|\n",
      "|       23|     c:24|                 |  California - Other|                    |          |              |          |        CA|         USA|37.269175|-119.306607|2007-01-01 22:19:54|2007-01-01 22:19:54|\n",
      "|       24|     c:25|               HQ|            New York|       1515 Broadway|          |      New York|     10036|        NY|         USA|40.757725| -73.986011|2007-01-01 22:19:54|2007-01-01 22:19:54|\n",
      "|       25|     c:26|                 |              London|                    |          |        London|          |          |         GBR|53.344104|  -6.267494|2007-01-01 22:19:54|2007-01-01 22:19:54|\n",
      "|       26|     c:27|               HQ|              SF Bay|1050 Enterprise W...|          |     Sunnyvale|     94089|        CA|         USA|37.387845|-122.055197|2007-01-01 22:19:54|2007-01-01 22:19:54|\n",
      "|       27|     c:28|     Headquarters|              SF Bay| 170 West Tasman Dr.|          |      San Jose|     95134|        CA|         USA|37.408802|-121.953770|2007-01-01 22:19:54|2007-01-01 22:19:54|\n",
      "|       28|     c:29|                 |              SF Bay|    701 First Avenue|          |     Sunnyvale|     94089|        CA|         USA|37.418531|-122.025485|2007-01-01 22:19:54|2007-01-01 22:19:54|\n",
      "+---------+---------+-----------------+--------------------+--------------------+----------+--------------+----------+----------+------------+---------+-----------+-------------------+-------------------+\n",
      "only showing top 20 rows\n",
      "\n"
     ]
    }
   ],
   "source": [
    "bb.show()"
   ]
  },
  {
   "cell_type": "code",
   "execution_count": null,
   "id": "4eaf43c6-05e4-41dd-91bd-644567b537ab",
   "metadata": {},
   "outputs": [],
   "source": []
  }
 ],
 "metadata": {
  "kernelspec": {
   "display_name": "Python 3 (ipykernel)",
   "language": "python",
   "name": "python3"
  },
  "language_info": {
   "codemirror_mode": {
    "name": "ipython",
    "version": 3
   },
   "file_extension": ".py",
   "mimetype": "text/x-python",
   "name": "python",
   "nbconvert_exporter": "python",
   "pygments_lexer": "ipython3",
   "version": "3.11.6"
  }
 },
 "nbformat": 4,
 "nbformat_minor": 5
}
